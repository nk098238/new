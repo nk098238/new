{
 "cells": [
  {
   "cell_type": "code",
   "execution_count": 1,
   "metadata": {},
   "outputs": [],
   "source": [
    "import pandas as pd"
   ]
  },
  {
   "cell_type": "code",
   "execution_count": 2,
   "metadata": {},
   "outputs": [],
   "source": [
    "import numpy as np\n",
    "\n"
   ]
  },
  {
   "cell_type": "code",
   "execution_count": 3,
   "metadata": {},
   "outputs": [],
   "source": [
    "df = pd.read_csv(\"C:/Users/nk098/Desktop/H2HBABBA1752.csv\")"
   ]
  },
  {
   "cell_type": "code",
   "execution_count": 4,
   "metadata": {},
   "outputs": [
    {
     "data": {
      "text/html": [
       "<div>\n",
       "<style scoped>\n",
       "    .dataframe tbody tr th:only-of-type {\n",
       "        vertical-align: middle;\n",
       "    }\n",
       "\n",
       "    .dataframe tbody tr th {\n",
       "        vertical-align: top;\n",
       "    }\n",
       "\n",
       "    .dataframe thead th {\n",
       "        text-align: right;\n",
       "    }\n",
       "</style>\n",
       "<table border=\"1\" class=\"dataframe\">\n",
       "  <thead>\n",
       "    <tr style=\"text-align: right;\">\n",
       "      <th></th>\n",
       "      <th>business_code</th>\n",
       "      <th>cust_number</th>\n",
       "      <th>name_customer</th>\n",
       "      <th>clear_date</th>\n",
       "      <th>buisness_year</th>\n",
       "      <th>doc_id</th>\n",
       "      <th>posting_date</th>\n",
       "      <th>document_create_date</th>\n",
       "      <th>document_create_date.1</th>\n",
       "      <th>due_in_date</th>\n",
       "      <th>invoice_currency</th>\n",
       "      <th>document type</th>\n",
       "      <th>posting_id</th>\n",
       "      <th>area_business</th>\n",
       "      <th>total_open_amount</th>\n",
       "      <th>baseline_create_date</th>\n",
       "      <th>cust_payment_terms</th>\n",
       "      <th>invoice_id</th>\n",
       "      <th>isOpen</th>\n",
       "    </tr>\n",
       "  </thead>\n",
       "  <tbody>\n",
       "    <tr>\n",
       "      <th>0</th>\n",
       "      <td>U001</td>\n",
       "      <td>0200799367</td>\n",
       "      <td>MCL associates</td>\n",
       "      <td>2019-09-03 00:00:00</td>\n",
       "      <td>2019.0</td>\n",
       "      <td>1.929749e+09</td>\n",
       "      <td>2019-08-16</td>\n",
       "      <td>20190815</td>\n",
       "      <td>20190816</td>\n",
       "      <td>20190831.0</td>\n",
       "      <td>USD</td>\n",
       "      <td>RV</td>\n",
       "      <td>1.0</td>\n",
       "      <td>NaN</td>\n",
       "      <td>13712.63</td>\n",
       "      <td>20190816.0</td>\n",
       "      <td>NAA8</td>\n",
       "      <td>1.929749e+09</td>\n",
       "      <td>0</td>\n",
       "    </tr>\n",
       "    <tr>\n",
       "      <th>1</th>\n",
       "      <td>U001</td>\n",
       "      <td>0200759878</td>\n",
       "      <td>SA corp</td>\n",
       "      <td>2019-02-06 00:00:00</td>\n",
       "      <td>2019.0</td>\n",
       "      <td>1.928645e+09</td>\n",
       "      <td>2019-01-21</td>\n",
       "      <td>20190118</td>\n",
       "      <td>20190121</td>\n",
       "      <td>20190205.0</td>\n",
       "      <td>USD</td>\n",
       "      <td>RV</td>\n",
       "      <td>1.0</td>\n",
       "      <td>NaN</td>\n",
       "      <td>32026.14</td>\n",
       "      <td>20190121.0</td>\n",
       "      <td>NAH4</td>\n",
       "      <td>1.928645e+09</td>\n",
       "      <td>0</td>\n",
       "    </tr>\n",
       "    <tr>\n",
       "      <th>2</th>\n",
       "      <td>U001</td>\n",
       "      <td>0200769623</td>\n",
       "      <td>WAL-MAR us</td>\n",
       "      <td>2019-11-12 00:00:00</td>\n",
       "      <td>2019.0</td>\n",
       "      <td>1.930071e+09</td>\n",
       "      <td>2019-10-30</td>\n",
       "      <td>20191029</td>\n",
       "      <td>20191030</td>\n",
       "      <td>20191114.0</td>\n",
       "      <td>USD</td>\n",
       "      <td>RV</td>\n",
       "      <td>1.0</td>\n",
       "      <td>NaN</td>\n",
       "      <td>18398.17</td>\n",
       "      <td>20191030.0</td>\n",
       "      <td>NAH4</td>\n",
       "      <td>1.930071e+09</td>\n",
       "      <td>0</td>\n",
       "    </tr>\n",
       "    <tr>\n",
       "      <th>3</th>\n",
       "      <td>U001</td>\n",
       "      <td>0200769623</td>\n",
       "      <td>WAL-MAR</td>\n",
       "      <td>2019-04-11 00:00:00</td>\n",
       "      <td>2019.0</td>\n",
       "      <td>1.929024e+09</td>\n",
       "      <td>2019-03-25</td>\n",
       "      <td>20190325</td>\n",
       "      <td>20190325</td>\n",
       "      <td>20190409.0</td>\n",
       "      <td>USD</td>\n",
       "      <td>RV</td>\n",
       "      <td>1.0</td>\n",
       "      <td>NaN</td>\n",
       "      <td>643.47</td>\n",
       "      <td>20190325.0</td>\n",
       "      <td>NAH4</td>\n",
       "      <td>1.929024e+09</td>\n",
       "      <td>0</td>\n",
       "    </tr>\n",
       "    <tr>\n",
       "      <th>4</th>\n",
       "      <td>U001</td>\n",
       "      <td>0200799367</td>\n",
       "      <td>MCL corporation</td>\n",
       "      <td>2019-09-04 00:00:00</td>\n",
       "      <td>2019.0</td>\n",
       "      <td>1.929519e+09</td>\n",
       "      <td>2019-06-21</td>\n",
       "      <td>20190620</td>\n",
       "      <td>20190621</td>\n",
       "      <td>20190904.0</td>\n",
       "      <td>USD</td>\n",
       "      <td>RV</td>\n",
       "      <td>1.0</td>\n",
       "      <td>NaN</td>\n",
       "      <td>4421.76</td>\n",
       "      <td>20190621.0</td>\n",
       "      <td>NAWN</td>\n",
       "      <td>1.929519e+09</td>\n",
       "      <td>0</td>\n",
       "    </tr>\n",
       "  </tbody>\n",
       "</table>\n",
       "</div>"
      ],
      "text/plain": [
       "  business_code cust_number    name_customer           clear_date  \\\n",
       "0          U001  0200799367   MCL associates  2019-09-03 00:00:00   \n",
       "1          U001  0200759878          SA corp  2019-02-06 00:00:00   \n",
       "2          U001  0200769623       WAL-MAR us  2019-11-12 00:00:00   \n",
       "3          U001  0200769623         WAL-MAR   2019-04-11 00:00:00   \n",
       "4          U001  0200799367  MCL corporation  2019-09-04 00:00:00   \n",
       "\n",
       "   buisness_year        doc_id posting_date  document_create_date  \\\n",
       "0         2019.0  1.929749e+09   2019-08-16              20190815   \n",
       "1         2019.0  1.928645e+09   2019-01-21              20190118   \n",
       "2         2019.0  1.930071e+09   2019-10-30              20191029   \n",
       "3         2019.0  1.929024e+09   2019-03-25              20190325   \n",
       "4         2019.0  1.929519e+09   2019-06-21              20190620   \n",
       "\n",
       "   document_create_date.1  due_in_date invoice_currency document type  \\\n",
       "0                20190816   20190831.0              USD            RV   \n",
       "1                20190121   20190205.0              USD            RV   \n",
       "2                20191030   20191114.0              USD            RV   \n",
       "3                20190325   20190409.0              USD            RV   \n",
       "4                20190621   20190904.0              USD            RV   \n",
       "\n",
       "   posting_id  area_business  total_open_amount  baseline_create_date  \\\n",
       "0         1.0            NaN           13712.63            20190816.0   \n",
       "1         1.0            NaN           32026.14            20190121.0   \n",
       "2         1.0            NaN           18398.17            20191030.0   \n",
       "3         1.0            NaN             643.47            20190325.0   \n",
       "4         1.0            NaN            4421.76            20190621.0   \n",
       "\n",
       "  cust_payment_terms    invoice_id  isOpen  \n",
       "0               NAA8  1.929749e+09       0  \n",
       "1               NAH4  1.928645e+09       0  \n",
       "2               NAH4  1.930071e+09       0  \n",
       "3               NAH4  1.929024e+09       0  \n",
       "4               NAWN  1.929519e+09       0  "
      ]
     },
     "execution_count": 4,
     "metadata": {},
     "output_type": "execute_result"
    }
   ],
   "source": [
    "df.head()"
   ]
  },
  {
   "cell_type": "markdown",
   "metadata": {},
   "source": [
    "# PREPROCESSING\n"
   ]
  },
  {
   "cell_type": "code",
   "execution_count": 5,
   "metadata": {},
   "outputs": [
    {
     "data": {
      "text/plain": [
       "business_code                 0\n",
       "cust_number                   0\n",
       "name_customer                 0\n",
       "clear_date                10000\n",
       "buisness_year                 0\n",
       "doc_id                        0\n",
       "posting_date                  0\n",
       "document_create_date          0\n",
       "document_create_date.1        0\n",
       "due_in_date                   0\n",
       "invoice_currency              0\n",
       "document type                 0\n",
       "posting_id                    0\n",
       "area_business             50000\n",
       "total_open_amount             0\n",
       "baseline_create_date          0\n",
       "cust_payment_terms            0\n",
       "invoice_id                    2\n",
       "isOpen                        0\n",
       "dtype: int64"
      ]
     },
     "execution_count": 5,
     "metadata": {},
     "output_type": "execute_result"
    }
   ],
   "source": [
    "df.isnull().sum()"
   ]
  },
  {
   "cell_type": "code",
   "execution_count": 6,
   "metadata": {},
   "outputs": [
    {
     "data": {
      "text/plain": [
       "(50000, 19)"
      ]
     },
     "execution_count": 6,
     "metadata": {},
     "output_type": "execute_result"
    }
   ],
   "source": [
    "df.shape"
   ]
  },
  {
   "cell_type": "code",
   "execution_count": 7,
   "metadata": {},
   "outputs": [],
   "source": [
    "df.drop(\"area_business\",axis = \"columns\",inplace=True)"
   ]
  },
  {
   "cell_type": "code",
   "execution_count": 8,
   "metadata": {},
   "outputs": [],
   "source": [
    "#fix null value of invoice id by mean"
   ]
  },
  {
   "cell_type": "code",
   "execution_count": 9,
   "metadata": {},
   "outputs": [],
   "source": [
    "mean_value=df['invoice_id'].mean()"
   ]
  },
  {
   "cell_type": "code",
   "execution_count": 10,
   "metadata": {},
   "outputs": [],
   "source": [
    "df['invoice_id'].fillna(value=mean_value, inplace=True)"
   ]
  },
  {
   "cell_type": "code",
   "execution_count": 11,
   "metadata": {},
   "outputs": [],
   "source": [
    "df.drop(\"name_customer\",axis = \"columns\",inplace=True)"
   ]
  },
  {
   "cell_type": "code",
   "execution_count": 12,
   "metadata": {},
   "outputs": [],
   "source": [
    "df.drop_duplicates(inplace = True)"
   ]
  },
  {
   "cell_type": "code",
   "execution_count": 13,
   "metadata": {},
   "outputs": [],
   "source": [
    "#lets fix datatypes"
   ]
  },
  {
   "cell_type": "code",
   "execution_count": 14,
   "metadata": {},
   "outputs": [
    {
     "data": {
      "text/plain": [
       "business_code              object\n",
       "cust_number                object\n",
       "clear_date                 object\n",
       "buisness_year             float64\n",
       "doc_id                    float64\n",
       "posting_date               object\n",
       "document_create_date        int64\n",
       "document_create_date.1      int64\n",
       "due_in_date               float64\n",
       "invoice_currency           object\n",
       "document type              object\n",
       "posting_id                float64\n",
       "total_open_amount         float64\n",
       "baseline_create_date      float64\n",
       "cust_payment_terms         object\n",
       "invoice_id                float64\n",
       "isOpen                      int64\n",
       "dtype: object"
      ]
     },
     "execution_count": 14,
     "metadata": {},
     "output_type": "execute_result"
    }
   ],
   "source": [
    "df.dtypes"
   ]
  },
  {
   "cell_type": "code",
   "execution_count": 15,
   "metadata": {},
   "outputs": [],
   "source": [
    "df['posting_date'] = pd.to_datetime(df['posting_date'])\n"
   ]
  },
  {
   "cell_type": "code",
   "execution_count": 16,
   "metadata": {},
   "outputs": [],
   "source": [
    "df['clear_date'] = pd.to_datetime(df['clear_date'])\n",
    "\n",
    "df['baseline_create_date'] = pd.to_datetime(df['baseline_create_date'],format='%Y%m%d')"
   ]
  },
  {
   "cell_type": "code",
   "execution_count": null,
   "metadata": {},
   "outputs": [],
   "source": []
  },
  {
   "cell_type": "code",
   "execution_count": 17,
   "metadata": {},
   "outputs": [],
   "source": [
    "df['due_in_date'] = pd.to_datetime(df['due_in_date'], format='%Y%m%d')"
   ]
  },
  {
   "cell_type": "code",
   "execution_count": null,
   "metadata": {},
   "outputs": [],
   "source": []
  },
  {
   "cell_type": "code",
   "execution_count": 18,
   "metadata": {},
   "outputs": [],
   "source": [
    "#drop coloumn not useful like doc create date posting id"
   ]
  },
  {
   "cell_type": "code",
   "execution_count": 19,
   "metadata": {},
   "outputs": [
    {
     "data": {
      "text/html": [
       "<div>\n",
       "<style scoped>\n",
       "    .dataframe tbody tr th:only-of-type {\n",
       "        vertical-align: middle;\n",
       "    }\n",
       "\n",
       "    .dataframe tbody tr th {\n",
       "        vertical-align: top;\n",
       "    }\n",
       "\n",
       "    .dataframe thead th {\n",
       "        text-align: right;\n",
       "    }\n",
       "</style>\n",
       "<table border=\"1\" class=\"dataframe\">\n",
       "  <thead>\n",
       "    <tr style=\"text-align: right;\">\n",
       "      <th></th>\n",
       "      <th>business_code</th>\n",
       "      <th>cust_number</th>\n",
       "      <th>clear_date</th>\n",
       "      <th>buisness_year</th>\n",
       "      <th>doc_id</th>\n",
       "      <th>posting_date</th>\n",
       "      <th>document_create_date</th>\n",
       "      <th>document_create_date.1</th>\n",
       "      <th>due_in_date</th>\n",
       "      <th>invoice_currency</th>\n",
       "      <th>document type</th>\n",
       "      <th>posting_id</th>\n",
       "      <th>total_open_amount</th>\n",
       "      <th>baseline_create_date</th>\n",
       "      <th>cust_payment_terms</th>\n",
       "      <th>invoice_id</th>\n",
       "      <th>isOpen</th>\n",
       "    </tr>\n",
       "  </thead>\n",
       "  <tbody>\n",
       "    <tr>\n",
       "      <th>0</th>\n",
       "      <td>U001</td>\n",
       "      <td>0200799367</td>\n",
       "      <td>2019-09-03</td>\n",
       "      <td>2019.0</td>\n",
       "      <td>1.929749e+09</td>\n",
       "      <td>2019-08-16</td>\n",
       "      <td>20190815</td>\n",
       "      <td>20190816</td>\n",
       "      <td>2019-08-31</td>\n",
       "      <td>USD</td>\n",
       "      <td>RV</td>\n",
       "      <td>1.0</td>\n",
       "      <td>13712.63</td>\n",
       "      <td>2019-08-16</td>\n",
       "      <td>NAA8</td>\n",
       "      <td>1.929749e+09</td>\n",
       "      <td>0</td>\n",
       "    </tr>\n",
       "    <tr>\n",
       "      <th>1</th>\n",
       "      <td>U001</td>\n",
       "      <td>0200759878</td>\n",
       "      <td>2019-02-06</td>\n",
       "      <td>2019.0</td>\n",
       "      <td>1.928645e+09</td>\n",
       "      <td>2019-01-21</td>\n",
       "      <td>20190118</td>\n",
       "      <td>20190121</td>\n",
       "      <td>2019-02-05</td>\n",
       "      <td>USD</td>\n",
       "      <td>RV</td>\n",
       "      <td>1.0</td>\n",
       "      <td>32026.14</td>\n",
       "      <td>2019-01-21</td>\n",
       "      <td>NAH4</td>\n",
       "      <td>1.928645e+09</td>\n",
       "      <td>0</td>\n",
       "    </tr>\n",
       "    <tr>\n",
       "      <th>2</th>\n",
       "      <td>U001</td>\n",
       "      <td>0200769623</td>\n",
       "      <td>2019-11-12</td>\n",
       "      <td>2019.0</td>\n",
       "      <td>1.930071e+09</td>\n",
       "      <td>2019-10-30</td>\n",
       "      <td>20191029</td>\n",
       "      <td>20191030</td>\n",
       "      <td>2019-11-14</td>\n",
       "      <td>USD</td>\n",
       "      <td>RV</td>\n",
       "      <td>1.0</td>\n",
       "      <td>18398.17</td>\n",
       "      <td>2019-10-30</td>\n",
       "      <td>NAH4</td>\n",
       "      <td>1.930071e+09</td>\n",
       "      <td>0</td>\n",
       "    </tr>\n",
       "    <tr>\n",
       "      <th>3</th>\n",
       "      <td>U001</td>\n",
       "      <td>0200769623</td>\n",
       "      <td>2019-04-11</td>\n",
       "      <td>2019.0</td>\n",
       "      <td>1.929024e+09</td>\n",
       "      <td>2019-03-25</td>\n",
       "      <td>20190325</td>\n",
       "      <td>20190325</td>\n",
       "      <td>2019-04-09</td>\n",
       "      <td>USD</td>\n",
       "      <td>RV</td>\n",
       "      <td>1.0</td>\n",
       "      <td>643.47</td>\n",
       "      <td>2019-03-25</td>\n",
       "      <td>NAH4</td>\n",
       "      <td>1.929024e+09</td>\n",
       "      <td>0</td>\n",
       "    </tr>\n",
       "    <tr>\n",
       "      <th>4</th>\n",
       "      <td>U001</td>\n",
       "      <td>0200799367</td>\n",
       "      <td>2019-09-04</td>\n",
       "      <td>2019.0</td>\n",
       "      <td>1.929519e+09</td>\n",
       "      <td>2019-06-21</td>\n",
       "      <td>20190620</td>\n",
       "      <td>20190621</td>\n",
       "      <td>2019-09-04</td>\n",
       "      <td>USD</td>\n",
       "      <td>RV</td>\n",
       "      <td>1.0</td>\n",
       "      <td>4421.76</td>\n",
       "      <td>2019-06-21</td>\n",
       "      <td>NAWN</td>\n",
       "      <td>1.929519e+09</td>\n",
       "      <td>0</td>\n",
       "    </tr>\n",
       "  </tbody>\n",
       "</table>\n",
       "</div>"
      ],
      "text/plain": [
       "  business_code cust_number clear_date  buisness_year        doc_id  \\\n",
       "0          U001  0200799367 2019-09-03         2019.0  1.929749e+09   \n",
       "1          U001  0200759878 2019-02-06         2019.0  1.928645e+09   \n",
       "2          U001  0200769623 2019-11-12         2019.0  1.930071e+09   \n",
       "3          U001  0200769623 2019-04-11         2019.0  1.929024e+09   \n",
       "4          U001  0200799367 2019-09-04         2019.0  1.929519e+09   \n",
       "\n",
       "  posting_date  document_create_date  document_create_date.1 due_in_date  \\\n",
       "0   2019-08-16              20190815                20190816  2019-08-31   \n",
       "1   2019-01-21              20190118                20190121  2019-02-05   \n",
       "2   2019-10-30              20191029                20191030  2019-11-14   \n",
       "3   2019-03-25              20190325                20190325  2019-04-09   \n",
       "4   2019-06-21              20190620                20190621  2019-09-04   \n",
       "\n",
       "  invoice_currency document type  posting_id  total_open_amount  \\\n",
       "0              USD            RV         1.0           13712.63   \n",
       "1              USD            RV         1.0           32026.14   \n",
       "2              USD            RV         1.0           18398.17   \n",
       "3              USD            RV         1.0             643.47   \n",
       "4              USD            RV         1.0            4421.76   \n",
       "\n",
       "  baseline_create_date cust_payment_terms    invoice_id  isOpen  \n",
       "0           2019-08-16               NAA8  1.929749e+09       0  \n",
       "1           2019-01-21               NAH4  1.928645e+09       0  \n",
       "2           2019-10-30               NAH4  1.930071e+09       0  \n",
       "3           2019-03-25               NAH4  1.929024e+09       0  \n",
       "4           2019-06-21               NAWN  1.929519e+09       0  "
      ]
     },
     "execution_count": 19,
     "metadata": {},
     "output_type": "execute_result"
    }
   ],
   "source": [
    "df.head()\n"
   ]
  },
  {
   "cell_type": "markdown",
   "metadata": {},
   "source": [
    "# EDA"
   ]
  },
  {
   "cell_type": "code",
   "execution_count": 20,
   "metadata": {},
   "outputs": [],
   "source": [
    "#LETS CREATE OUR TARGET VARIABLE"
   ]
  },
  {
   "cell_type": "code",
   "execution_count": 21,
   "metadata": {},
   "outputs": [],
   "source": [
    "df['delay'] = df.clear_date - df.due_in_date"
   ]
  },
  {
   "cell_type": "code",
   "execution_count": 22,
   "metadata": {},
   "outputs": [],
   "source": [
    "#FIX CUST_PAY_TERM"
   ]
  },
  {
   "cell_type": "code",
   "execution_count": 23,
   "metadata": {},
   "outputs": [
    {
     "data": {
      "text/plain": [
       "NAA8    19801\n",
       "NAH4    13159\n",
       "CA10     3645\n",
       "NAC6     1734\n",
       "NAM4     1303\n",
       "        ...  \n",
       "B052        1\n",
       "NAUN        1\n",
       "NATW        1\n",
       "BR12        1\n",
       "NAUI        1\n",
       "Name: cust_payment_terms, Length: 75, dtype: int64"
      ]
     },
     "execution_count": 23,
     "metadata": {},
     "output_type": "execute_result"
    }
   ],
   "source": [
    "df['cust_payment_terms'].value_counts()"
   ]
  },
  {
   "cell_type": "code",
   "execution_count": 24,
   "metadata": {},
   "outputs": [],
   "source": [
    "df[\"cust_payment_terms\"] = df[\"cust_payment_terms\"].astype('category')#covnert into category datatype"
   ]
  },
  {
   "cell_type": "code",
   "execution_count": 25,
   "metadata": {},
   "outputs": [],
   "source": [
    "df[\"cust_payment_terms\"] = df[\"cust_payment_terms\"].cat.codes#converted into categorical \n"
   ]
  },
  {
   "cell_type": "code",
   "execution_count": 26,
   "metadata": {},
   "outputs": [
    {
     "data": {
      "text/plain": [
       "count    48777.000000\n",
       "mean        28.520327\n",
       "std         13.182672\n",
       "min          0.000000\n",
       "25%         21.000000\n",
       "50%         21.000000\n",
       "75%         38.000000\n",
       "max         74.000000\n",
       "Name: cust_payment_terms, dtype: float64"
      ]
     },
     "execution_count": 26,
     "metadata": {},
     "output_type": "execute_result"
    }
   ],
   "source": [
    "df[\"cust_payment_terms\"].describe()"
   ]
  },
  {
   "cell_type": "code",
   "execution_count": 27,
   "metadata": {},
   "outputs": [],
   "source": [
    "series = pd.value_counts(df.cust_payment_terms)\n",
    "mask = (series/series.sum() * 100).lt(5)\n",
    "# To replace df['column'] use np.where I.e \n",
    "df['cust_payment_terms'] = np.where(df['cust_payment_terms'].isin(series[mask].index),0,df['cust_payment_terms'])"
   ]
  },
  {
   "cell_type": "code",
   "execution_count": null,
   "metadata": {},
   "outputs": [],
   "source": []
  },
  {
   "cell_type": "code",
   "execution_count": null,
   "metadata": {},
   "outputs": [],
   "source": []
  },
  {
   "cell_type": "code",
   "execution_count": 28,
   "metadata": {},
   "outputs": [
    {
     "data": {
      "text/plain": [
       "21    19801\n",
       "38    13159\n",
       "0     12172\n",
       "6      3645\n",
       "Name: cust_payment_terms, dtype: int64"
      ]
     },
     "execution_count": 28,
     "metadata": {},
     "output_type": "execute_result"
    }
   ],
   "source": [
    "df[\"cust_payment_terms\"].value_counts()"
   ]
  },
  {
   "cell_type": "code",
   "execution_count": null,
   "metadata": {},
   "outputs": [],
   "source": []
  },
  {
   "cell_type": "code",
   "execution_count": null,
   "metadata": {},
   "outputs": [],
   "source": []
  },
  {
   "cell_type": "code",
   "execution_count": 29,
   "metadata": {},
   "outputs": [
    {
     "data": {
      "image/png": "[encoded data removed]",
      "text/plain": [
       "<Figure size 432x288 with 1 Axes>"
      ]
     },
     "metadata": {},
     "output_type": "display_data"
    }
   ],
   "source": [
    "%matplotlib inline\n",
    "import seaborn as sns\n",
    "import matplotlib.pyplot as plt\n",
    "carrier_count = df['cust_payment_terms'].value_counts()\n",
    "sns.set(style=\"darkgrid\")\n",
    "sns.barplot(carrier_count.index, carrier_count.values, alpha=0.9)\n",
    "plt.title('Frequency Distribution of Carriers')\n",
    "plt.ylabel('Number of Occurrences', fontsize=12)\n",
    "\n",
    "plt.xlabel('Carrier', fontsize=12)\n",
    "plt.show()"
   ]
  },
  {
   "cell_type": "code",
   "execution_count": null,
   "metadata": {},
   "outputs": [],
   "source": []
  },
  {
   "cell_type": "code",
   "execution_count": 30,
   "metadata": {},
   "outputs": [
    {
     "data": {
      "text/plain": [
       "21    19801\n",
       "38    13159\n",
       "0     12172\n",
       "6      3645\n",
       "Name: cust_payment_terms, dtype: int64"
      ]
     },
     "execution_count": 30,
     "metadata": {},
     "output_type": "execute_result"
    }
   ],
   "source": [
    "df[\"cust_payment_terms\"].value_counts()"
   ]
  },
  {
   "cell_type": "code",
   "execution_count": 31,
   "metadata": {},
   "outputs": [],
   "source": [
    "#LETS FOUND OUTLIERS"
   ]
  },
  {
   "cell_type": "code",
   "execution_count": 32,
   "metadata": {},
   "outputs": [],
   "source": [
    "# IQR\n",
    "Q1 = np.percentile(df['total_open_amount'], 25, \n",
    "                   interpolation = 'midpoint') \n",
    "  \n",
    "Q3 = np.percentile(df['total_open_amount'], 75,\n",
    "                   interpolation = 'midpoint') \n",
    "IQR = Q3 - Q1 "
   ]
  },
  {
   "cell_type": "code",
   "execution_count": 33,
   "metadata": {},
   "outputs": [
    {
     "name": "stdout",
     "output_type": "stream",
     "text": [
      "Upper bound: 0        False\n",
      "1        False\n",
      "2        False\n",
      "3        False\n",
      "4        False\n",
      "         ...  \n",
      "49995    False\n",
      "49996    False\n",
      "49997    False\n",
      "49998    False\n",
      "49999    False\n",
      "Name: total_open_amount, Length: 48777, dtype: bool\n",
      "(array([   27,    77,   100, ..., 48738, 48744, 48768], dtype=int64),)\n",
      "Lower bound: 0        False\n",
      "1        False\n",
      "2        False\n",
      "3        False\n",
      "4        False\n",
      "         ...  \n",
      "49995    False\n",
      "49996    False\n",
      "49997    False\n",
      "49998    False\n",
      "49999    False\n",
      "Name: total_open_amount, Length: 48777, dtype: bool\n",
      "(array([], dtype=int64),)\n"
     ]
    }
   ],
   "source": [
    "upper = df['total_open_amount'] >= (Q3+1.5*IQR)\n",
    "  \n",
    "print(\"Upper bound:\",upper)\n",
    "print(np.where(upper))\n",
    "  \n",
    "# Below Lower bound\n",
    "lower = df['total_open_amount'] <= (Q1-1.5*IQR)\n",
    "print(\"Lower bound:\", lower)\n",
    "print(np.where(lower))"
   ]
  },
  {
   "cell_type": "code",
   "execution_count": 34,
   "metadata": {},
   "outputs": [],
   "source": [
    "# IQR\n",
    "Q1 = np.percentile(df['invoice_id'], 25, \n",
    "                   interpolation = 'midpoint') \n",
    "  \n",
    "Q3 = np.percentile(df['invoice_id'], 75,\n",
    "                   interpolation = 'midpoint') \n",
    "IQR = Q3 - Q1 "
   ]
  },
  {
   "cell_type": "code",
   "execution_count": 35,
   "metadata": {},
   "outputs": [
    {
     "name": "stdout",
     "output_type": "stream",
     "text": [
      "Upper bound: 0        False\n",
      "1        False\n",
      "2        False\n",
      "3        False\n",
      "4        False\n",
      "         ...  \n",
      "49995    False\n",
      "49996    False\n",
      "49997    False\n",
      "49998     True\n",
      "49999    False\n",
      "Name: invoice_id, Length: 48777, dtype: bool\n",
      "(array([   28,    31,    38, ..., 48756, 48761, 48775], dtype=int64),)\n",
      "Lower bound: 0        False\n",
      "1        False\n",
      "2        False\n",
      "3        False\n",
      "4        False\n",
      "         ...  \n",
      "49995    False\n",
      "49996    False\n",
      "49997    False\n",
      "49998    False\n",
      "49999    False\n",
      "Name: invoice_id, Length: 48777, dtype: bool\n",
      "(array([], dtype=int64),)\n"
     ]
    }
   ],
   "source": [
    "upper = df['invoice_id'] >= (Q3+1.5*IQR)\n",
    "  \n",
    "print(\"Upper bound:\",upper)\n",
    "print(np.where(upper))\n",
    "  \n",
    "# Below Lower bound\n",
    "lower = df['invoice_id'] <= (Q1-1.5*IQR)\n",
    "print(\"Lower bound:\", lower)\n",
    "print(np.where(lower))"
   ]
  },
  {
   "cell_type": "code",
   "execution_count": 36,
   "metadata": {},
   "outputs": [],
   "source": [
    "#FIX INVOICE CURR"
   ]
  },
  {
   "cell_type": "code",
   "execution_count": 37,
   "metadata": {},
   "outputs": [
    {
     "data": {
      "text/plain": [
       "USD    45029\n",
       "CAD     3748\n",
       "Name: invoice_currency, dtype: int64"
      ]
     },
     "execution_count": 37,
     "metadata": {},
     "output_type": "execute_result"
    }
   ],
   "source": [
    "df[\"invoice_currency\"].value_counts()"
   ]
  },
  {
   "cell_type": "code",
   "execution_count": 38,
   "metadata": {},
   "outputs": [],
   "source": [
    "\n",
    "from sklearn.preprocessing import MinMaxScaler\n",
    "\n",
    "  \n",
    "# apply normalization techniques\n",
    "column = 'total_open_amount'\n",
    "df[column] = MinMaxScaler().fit_transform(np.array(df[column]).reshape(-1,1))"
   ]
  },
  {
   "cell_type": "code",
   "execution_count": 39,
   "metadata": {},
   "outputs": [],
   "source": [
    "df[\"amount_in_USD\"] = np.where(df.invoice_currency==\"CAD\",df.total_open_amount*0.81,df.total_open_amount)"
   ]
  },
  {
   "cell_type": "code",
   "execution_count": 40,
   "metadata": {},
   "outputs": [],
   "source": [
    "df.drop(\"invoice_currency\",axis = \"columns\",inplace=True)"
   ]
  },
  {
   "cell_type": "code",
   "execution_count": 41,
   "metadata": {},
   "outputs": [
    {
     "data": {
      "text/html": [
       "<div>\n",
       "<style scoped>\n",
       "    .dataframe tbody tr th:only-of-type {\n",
       "        vertical-align: middle;\n",
       "    }\n",
       "\n",
       "    .dataframe tbody tr th {\n",
       "        vertical-align: top;\n",
       "    }\n",
       "\n",
       "    .dataframe thead th {\n",
       "        text-align: right;\n",
       "    }\n",
       "</style>\n",
       "<table border=\"1\" class=\"dataframe\">\n",
       "  <thead>\n",
       "    <tr style=\"text-align: right;\">\n",
       "      <th></th>\n",
       "      <th>business_code</th>\n",
       "      <th>cust_number</th>\n",
       "      <th>clear_date</th>\n",
       "      <th>buisness_year</th>\n",
       "      <th>doc_id</th>\n",
       "      <th>posting_date</th>\n",
       "      <th>document_create_date</th>\n",
       "      <th>document_create_date.1</th>\n",
       "      <th>due_in_date</th>\n",
       "      <th>document type</th>\n",
       "      <th>posting_id</th>\n",
       "      <th>total_open_amount</th>\n",
       "      <th>baseline_create_date</th>\n",
       "      <th>cust_payment_terms</th>\n",
       "      <th>invoice_id</th>\n",
       "      <th>isOpen</th>\n",
       "      <th>delay</th>\n",
       "      <th>amount_in_USD</th>\n",
       "    </tr>\n",
       "  </thead>\n",
       "  <tbody>\n",
       "    <tr>\n",
       "      <th>0</th>\n",
       "      <td>U001</td>\n",
       "      <td>0200799367</td>\n",
       "      <td>2019-09-03</td>\n",
       "      <td>2019.0</td>\n",
       "      <td>1.929749e+09</td>\n",
       "      <td>2019-08-16</td>\n",
       "      <td>20190815</td>\n",
       "      <td>20190816</td>\n",
       "      <td>2019-08-31</td>\n",
       "      <td>RV</td>\n",
       "      <td>1.0</td>\n",
       "      <td>0.020770</td>\n",
       "      <td>2019-08-16</td>\n",
       "      <td>21</td>\n",
       "      <td>1.929749e+09</td>\n",
       "      <td>0</td>\n",
       "      <td>3 days</td>\n",
       "      <td>0.020770</td>\n",
       "    </tr>\n",
       "    <tr>\n",
       "      <th>1</th>\n",
       "      <td>U001</td>\n",
       "      <td>0200759878</td>\n",
       "      <td>2019-02-06</td>\n",
       "      <td>2019.0</td>\n",
       "      <td>1.928645e+09</td>\n",
       "      <td>2019-01-21</td>\n",
       "      <td>20190118</td>\n",
       "      <td>20190121</td>\n",
       "      <td>2019-02-05</td>\n",
       "      <td>RV</td>\n",
       "      <td>1.0</td>\n",
       "      <td>0.048509</td>\n",
       "      <td>2019-01-21</td>\n",
       "      <td>38</td>\n",
       "      <td>1.928645e+09</td>\n",
       "      <td>0</td>\n",
       "      <td>1 days</td>\n",
       "      <td>0.048509</td>\n",
       "    </tr>\n",
       "    <tr>\n",
       "      <th>2</th>\n",
       "      <td>U001</td>\n",
       "      <td>0200769623</td>\n",
       "      <td>2019-11-12</td>\n",
       "      <td>2019.0</td>\n",
       "      <td>1.930071e+09</td>\n",
       "      <td>2019-10-30</td>\n",
       "      <td>20191029</td>\n",
       "      <td>20191030</td>\n",
       "      <td>2019-11-14</td>\n",
       "      <td>RV</td>\n",
       "      <td>1.0</td>\n",
       "      <td>0.027867</td>\n",
       "      <td>2019-10-30</td>\n",
       "      <td>38</td>\n",
       "      <td>1.930071e+09</td>\n",
       "      <td>0</td>\n",
       "      <td>-2 days</td>\n",
       "      <td>0.027867</td>\n",
       "    </tr>\n",
       "    <tr>\n",
       "      <th>3</th>\n",
       "      <td>U001</td>\n",
       "      <td>0200769623</td>\n",
       "      <td>2019-04-11</td>\n",
       "      <td>2019.0</td>\n",
       "      <td>1.929024e+09</td>\n",
       "      <td>2019-03-25</td>\n",
       "      <td>20190325</td>\n",
       "      <td>20190325</td>\n",
       "      <td>2019-04-09</td>\n",
       "      <td>RV</td>\n",
       "      <td>1.0</td>\n",
       "      <td>0.000974</td>\n",
       "      <td>2019-03-25</td>\n",
       "      <td>38</td>\n",
       "      <td>1.929024e+09</td>\n",
       "      <td>0</td>\n",
       "      <td>2 days</td>\n",
       "      <td>0.000974</td>\n",
       "    </tr>\n",
       "    <tr>\n",
       "      <th>4</th>\n",
       "      <td>U001</td>\n",
       "      <td>0200799367</td>\n",
       "      <td>2019-09-04</td>\n",
       "      <td>2019.0</td>\n",
       "      <td>1.929519e+09</td>\n",
       "      <td>2019-06-21</td>\n",
       "      <td>20190620</td>\n",
       "      <td>20190621</td>\n",
       "      <td>2019-09-04</td>\n",
       "      <td>RV</td>\n",
       "      <td>1.0</td>\n",
       "      <td>0.006697</td>\n",
       "      <td>2019-06-21</td>\n",
       "      <td>0</td>\n",
       "      <td>1.929519e+09</td>\n",
       "      <td>0</td>\n",
       "      <td>0 days</td>\n",
       "      <td>0.006697</td>\n",
       "    </tr>\n",
       "  </tbody>\n",
       "</table>\n",
       "</div>"
      ],
      "text/plain": [
       "  business_code cust_number clear_date  buisness_year        doc_id  \\\n",
       "0          U001  0200799367 2019-09-03         2019.0  1.929749e+09   \n",
       "1          U001  0200759878 2019-02-06         2019.0  1.928645e+09   \n",
       "2          U001  0200769623 2019-11-12         2019.0  1.930071e+09   \n",
       "3          U001  0200769623 2019-04-11         2019.0  1.929024e+09   \n",
       "4          U001  0200799367 2019-09-04         2019.0  1.929519e+09   \n",
       "\n",
       "  posting_date  document_create_date  document_create_date.1 due_in_date  \\\n",
       "0   2019-08-16              20190815                20190816  2019-08-31   \n",
       "1   2019-01-21              20190118                20190121  2019-02-05   \n",
       "2   2019-10-30              20191029                20191030  2019-11-14   \n",
       "3   2019-03-25              20190325                20190325  2019-04-09   \n",
       "4   2019-06-21              20190620                20190621  2019-09-04   \n",
       "\n",
       "  document type  posting_id  total_open_amount baseline_create_date  \\\n",
       "0            RV         1.0           0.020770           2019-08-16   \n",
       "1            RV         1.0           0.048509           2019-01-21   \n",
       "2            RV         1.0           0.027867           2019-10-30   \n",
       "3            RV         1.0           0.000974           2019-03-25   \n",
       "4            RV         1.0           0.006697           2019-06-21   \n",
       "\n",
       "   cust_payment_terms    invoice_id  isOpen   delay  amount_in_USD  \n",
       "0                  21  1.929749e+09       0  3 days       0.020770  \n",
       "1                  38  1.928645e+09       0  1 days       0.048509  \n",
       "2                  38  1.930071e+09       0 -2 days       0.027867  \n",
       "3                  38  1.929024e+09       0  2 days       0.000974  \n",
       "4                   0  1.929519e+09       0  0 days       0.006697  "
      ]
     },
     "execution_count": 41,
     "metadata": {},
     "output_type": "execute_result"
    }
   ],
   "source": [
    "df.head()"
   ]
  },
  {
   "cell_type": "code",
   "execution_count": 42,
   "metadata": {},
   "outputs": [],
   "source": [
    "# convert cust_num to int"
   ]
  },
  {
   "cell_type": "code",
   "execution_count": 43,
   "metadata": {},
   "outputs": [],
   "source": [
    "df['cust_number'] = pd.to_numeric(df['cust_number'], errors='coerce').fillna(0)\n",
    "df['cust_number'] = df['cust_number'].astype(np.int64)"
   ]
  },
  {
   "cell_type": "code",
   "execution_count": 44,
   "metadata": {},
   "outputs": [],
   "source": [
    "#conv delay tp int"
   ]
  },
  {
   "cell_type": "code",
   "execution_count": 45,
   "metadata": {},
   "outputs": [
    {
     "name": "stderr",
     "output_type": "stream",
     "text": [
      "C:\\Users\\nk098\\AppData\\Local\\Continuum\\anaconda3\\lib\\site-packages\\ipykernel_launcher.py:1: FutureWarning: Passing integers to fillna is deprecated, will raise a TypeError in a future version.  To retain the old behavior, pass pd.Timedelta(seconds=n) instead.\n",
      "  \"\"\"Entry point for launching an IPython kernel.\n"
     ]
    }
   ],
   "source": [
    "df[\"delay\"] = df.delay.fillna(0)"
   ]
  },
  {
   "cell_type": "code",
   "execution_count": null,
   "metadata": {},
   "outputs": [],
   "source": []
  },
  {
   "cell_type": "code",
   "execution_count": null,
   "metadata": {},
   "outputs": [],
   "source": []
  },
  {
   "cell_type": "code",
   "execution_count": 46,
   "metadata": {},
   "outputs": [],
   "source": [
    "df['delay'] = df['delay'].dt.days.astype('int64')"
   ]
  },
  {
   "cell_type": "code",
   "execution_count": 47,
   "metadata": {},
   "outputs": [
    {
     "data": {
      "text/html": [
       "<div>\n",
       "<style scoped>\n",
       "    .dataframe tbody tr th:only-of-type {\n",
       "        vertical-align: middle;\n",
       "    }\n",
       "\n",
       "    .dataframe tbody tr th {\n",
       "        vertical-align: top;\n",
       "    }\n",
       "\n",
       "    .dataframe thead th {\n",
       "        text-align: right;\n",
       "    }\n",
       "</style>\n",
       "<table border=\"1\" class=\"dataframe\">\n",
       "  <thead>\n",
       "    <tr style=\"text-align: right;\">\n",
       "      <th></th>\n",
       "      <th>business_code</th>\n",
       "      <th>cust_number</th>\n",
       "      <th>clear_date</th>\n",
       "      <th>buisness_year</th>\n",
       "      <th>doc_id</th>\n",
       "      <th>posting_date</th>\n",
       "      <th>document_create_date</th>\n",
       "      <th>document_create_date.1</th>\n",
       "      <th>due_in_date</th>\n",
       "      <th>document type</th>\n",
       "      <th>posting_id</th>\n",
       "      <th>total_open_amount</th>\n",
       "      <th>baseline_create_date</th>\n",
       "      <th>cust_payment_terms</th>\n",
       "      <th>invoice_id</th>\n",
       "      <th>isOpen</th>\n",
       "      <th>delay</th>\n",
       "      <th>amount_in_USD</th>\n",
       "    </tr>\n",
       "  </thead>\n",
       "  <tbody>\n",
       "    <tr>\n",
       "      <th>0</th>\n",
       "      <td>U001</td>\n",
       "      <td>200799367</td>\n",
       "      <td>2019-09-03</td>\n",
       "      <td>2019.0</td>\n",
       "      <td>1.929749e+09</td>\n",
       "      <td>2019-08-16</td>\n",
       "      <td>20190815</td>\n",
       "      <td>20190816</td>\n",
       "      <td>2019-08-31</td>\n",
       "      <td>RV</td>\n",
       "      <td>1.0</td>\n",
       "      <td>0.020770</td>\n",
       "      <td>2019-08-16</td>\n",
       "      <td>21</td>\n",
       "      <td>1.929749e+09</td>\n",
       "      <td>0</td>\n",
       "      <td>3</td>\n",
       "      <td>0.020770</td>\n",
       "    </tr>\n",
       "    <tr>\n",
       "      <th>1</th>\n",
       "      <td>U001</td>\n",
       "      <td>200759878</td>\n",
       "      <td>2019-02-06</td>\n",
       "      <td>2019.0</td>\n",
       "      <td>1.928645e+09</td>\n",
       "      <td>2019-01-21</td>\n",
       "      <td>20190118</td>\n",
       "      <td>20190121</td>\n",
       "      <td>2019-02-05</td>\n",
       "      <td>RV</td>\n",
       "      <td>1.0</td>\n",
       "      <td>0.048509</td>\n",
       "      <td>2019-01-21</td>\n",
       "      <td>38</td>\n",
       "      <td>1.928645e+09</td>\n",
       "      <td>0</td>\n",
       "      <td>1</td>\n",
       "      <td>0.048509</td>\n",
       "    </tr>\n",
       "    <tr>\n",
       "      <th>2</th>\n",
       "      <td>U001</td>\n",
       "      <td>200769623</td>\n",
       "      <td>2019-11-12</td>\n",
       "      <td>2019.0</td>\n",
       "      <td>1.930071e+09</td>\n",
       "      <td>2019-10-30</td>\n",
       "      <td>20191029</td>\n",
       "      <td>20191030</td>\n",
       "      <td>2019-11-14</td>\n",
       "      <td>RV</td>\n",
       "      <td>1.0</td>\n",
       "      <td>0.027867</td>\n",
       "      <td>2019-10-30</td>\n",
       "      <td>38</td>\n",
       "      <td>1.930071e+09</td>\n",
       "      <td>0</td>\n",
       "      <td>-2</td>\n",
       "      <td>0.027867</td>\n",
       "    </tr>\n",
       "    <tr>\n",
       "      <th>3</th>\n",
       "      <td>U001</td>\n",
       "      <td>200769623</td>\n",
       "      <td>2019-04-11</td>\n",
       "      <td>2019.0</td>\n",
       "      <td>1.929024e+09</td>\n",
       "      <td>2019-03-25</td>\n",
       "      <td>20190325</td>\n",
       "      <td>20190325</td>\n",
       "      <td>2019-04-09</td>\n",
       "      <td>RV</td>\n",
       "      <td>1.0</td>\n",
       "      <td>0.000974</td>\n",
       "      <td>2019-03-25</td>\n",
       "      <td>38</td>\n",
       "      <td>1.929024e+09</td>\n",
       "      <td>0</td>\n",
       "      <td>2</td>\n",
       "      <td>0.000974</td>\n",
       "    </tr>\n",
       "    <tr>\n",
       "      <th>4</th>\n",
       "      <td>U001</td>\n",
       "      <td>200799367</td>\n",
       "      <td>2019-09-04</td>\n",
       "      <td>2019.0</td>\n",
       "      <td>1.929519e+09</td>\n",
       "      <td>2019-06-21</td>\n",
       "      <td>20190620</td>\n",
       "      <td>20190621</td>\n",
       "      <td>2019-09-04</td>\n",
       "      <td>RV</td>\n",
       "      <td>1.0</td>\n",
       "      <td>0.006697</td>\n",
       "      <td>2019-06-21</td>\n",
       "      <td>0</td>\n",
       "      <td>1.929519e+09</td>\n",
       "      <td>0</td>\n",
       "      <td>0</td>\n",
       "      <td>0.006697</td>\n",
       "    </tr>\n",
       "  </tbody>\n",
       "</table>\n",
       "</div>"
      ],
      "text/plain": [
       "  business_code  cust_number clear_date  buisness_year        doc_id  \\\n",
       "0          U001    200799367 2019-09-03         2019.0  1.929749e+09   \n",
       "1          U001    200759878 2019-02-06         2019.0  1.928645e+09   \n",
       "2          U001    200769623 2019-11-12         2019.0  1.930071e+09   \n",
       "3          U001    200769623 2019-04-11         2019.0  1.929024e+09   \n",
       "4          U001    200799367 2019-09-04         2019.0  1.929519e+09   \n",
       "\n",
       "  posting_date  document_create_date  document_create_date.1 due_in_date  \\\n",
       "0   2019-08-16              20190815                20190816  2019-08-31   \n",
       "1   2019-01-21              20190118                20190121  2019-02-05   \n",
       "2   2019-10-30              20191029                20191030  2019-11-14   \n",
       "3   2019-03-25              20190325                20190325  2019-04-09   \n",
       "4   2019-06-21              20190620                20190621  2019-09-04   \n",
       "\n",
       "  document type  posting_id  total_open_amount baseline_create_date  \\\n",
       "0            RV         1.0           0.020770           2019-08-16   \n",
       "1            RV         1.0           0.048509           2019-01-21   \n",
       "2            RV         1.0           0.027867           2019-10-30   \n",
       "3            RV         1.0           0.000974           2019-03-25   \n",
       "4            RV         1.0           0.006697           2019-06-21   \n",
       "\n",
       "   cust_payment_terms    invoice_id  isOpen  delay  amount_in_USD  \n",
       "0                  21  1.929749e+09       0      3       0.020770  \n",
       "1                  38  1.928645e+09       0      1       0.048509  \n",
       "2                  38  1.930071e+09       0     -2       0.027867  \n",
       "3                  38  1.929024e+09       0      2       0.000974  \n",
       "4                   0  1.929519e+09       0      0       0.006697  "
      ]
     },
     "execution_count": 47,
     "metadata": {},
     "output_type": "execute_result"
    }
   ],
   "source": [
    "df.head()"
   ]
  },
  {
   "cell_type": "code",
   "execution_count": 48,
   "metadata": {},
   "outputs": [],
   "source": [
    "#check outliers in delay"
   ]
  },
  {
   "cell_type": "code",
   "execution_count": 49,
   "metadata": {},
   "outputs": [],
   "source": [
    "# IQR\n",
    "Q1 = np.percentile(df['delay'], 25, \n",
    "                   interpolation = 'midpoint') \n",
    "  \n",
    "Q3 = np.percentile(df['delay'], 75,\n",
    "                   interpolation = 'midpoint') \n",
    "IQR = Q3 - Q1 \n"
   ]
  },
  {
   "cell_type": "code",
   "execution_count": 50,
   "metadata": {},
   "outputs": [
    {
     "name": "stdout",
     "output_type": "stream",
     "text": [
      "Upper bound: 0        False\n",
      "1        False\n",
      "2        False\n",
      "3        False\n",
      "4        False\n",
      "         ...  \n",
      "49995    False\n",
      "49996    False\n",
      "49997    False\n",
      "49998    False\n",
      "49999     True\n",
      "Name: delay, Length: 48777, dtype: bool\n",
      "(array([   29,    31,    35, ..., 48767, 48770, 48776], dtype=int64),)\n",
      "Lower bound: 0        False\n",
      "1        False\n",
      "2        False\n",
      "3        False\n",
      "4        False\n",
      "         ...  \n",
      "49995    False\n",
      "49996     True\n",
      "49997    False\n",
      "49998    False\n",
      "49999    False\n",
      "Name: delay, Length: 48777, dtype: bool\n",
      "(array([    9,    13,    14, ..., 48763, 48771, 48773], dtype=int64),)\n"
     ]
    }
   ],
   "source": [
    "upper = df['delay'] >= (Q3+1.5*IQR)\n",
    "  \n",
    "print(\"Upper bound:\",upper)\n",
    "print(np.where(upper))\n",
    "  \n",
    "# Below Lower bound\n",
    "lower = df['delay'] <= (Q1-1.5*IQR)\n",
    "print(\"Lower bound:\", lower)\n",
    "print(np.where(lower))"
   ]
  },
  {
   "cell_type": "code",
   "execution_count": 51,
   "metadata": {},
   "outputs": [],
   "source": [
    "#fix total amount"
   ]
  },
  {
   "cell_type": "code",
   "execution_count": 52,
   "metadata": {},
   "outputs": [
    {
     "data": {
      "text/plain": [
       "count    48777.000000\n",
       "mean         0.049177\n",
       "std          0.059514\n",
       "min          0.000000\n",
       "25%          0.007507\n",
       "50%          0.026749\n",
       "75%          0.071643\n",
       "max          1.000000\n",
       "Name: total_open_amount, dtype: float64"
      ]
     },
     "execution_count": 52,
     "metadata": {},
     "output_type": "execute_result"
    }
   ],
   "source": [
    "df[\"total_open_amount\"].describe()"
   ]
  },
  {
   "cell_type": "code",
   "execution_count": 53,
   "metadata": {},
   "outputs": [],
   "source": [
    "import scipy as sp\n",
    "from scipy import stats\n",
    "import matplotlib.pyplot as plt \n"
   ]
  },
  {
   "cell_type": "code",
   "execution_count": 54,
   "metadata": {},
   "outputs": [
    {
     "data": {
      "image/png": "[encoded data removed]",
      "text/plain": [
       "<Figure size 432x288 with 1 Axes>"
      ]
     },
     "metadata": {
      "needs_background": "light"
     },
     "output_type": "display_data"
    }
   ],
   "source": [
    "plt.hist(df.total_open_amount,bins= 100)\n",
    "plt.show()"
   ]
  },
  {
   "cell_type": "code",
   "execution_count": 55,
   "metadata": {},
   "outputs": [],
   "source": [
    "#normalize data "
   ]
  },
  {
   "cell_type": "code",
   "execution_count": 56,
   "metadata": {},
   "outputs": [],
   "source": [
    "#lets fix document type coloumn in line no 38"
   ]
  },
  {
   "cell_type": "code",
   "execution_count": 57,
   "metadata": {},
   "outputs": [
    {
     "data": {
      "text/plain": [
       "RV    48775\n",
       "X2        2\n",
       "Name: document type, dtype: int64"
      ]
     },
     "execution_count": 57,
     "metadata": {},
     "output_type": "execute_result"
    }
   ],
   "source": [
    "df[\"document type\"].value_counts()"
   ]
  },
  {
   "cell_type": "code",
   "execution_count": 58,
   "metadata": {},
   "outputs": [],
   "source": [
    "df.drop(\"document type\",axis = \"columns\",inplace=True)"
   ]
  },
  {
   "cell_type": "code",
   "execution_count": 59,
   "metadata": {},
   "outputs": [
    {
     "data": {
      "text/html": [
       "<div>\n",
       "<style scoped>\n",
       "    .dataframe tbody tr th:only-of-type {\n",
       "        vertical-align: middle;\n",
       "    }\n",
       "\n",
       "    .dataframe tbody tr th {\n",
       "        vertical-align: top;\n",
       "    }\n",
       "\n",
       "    .dataframe thead th {\n",
       "        text-align: right;\n",
       "    }\n",
       "</style>\n",
       "<table border=\"1\" class=\"dataframe\">\n",
       "  <thead>\n",
       "    <tr style=\"text-align: right;\">\n",
       "      <th></th>\n",
       "      <th>business_code</th>\n",
       "      <th>cust_number</th>\n",
       "      <th>clear_date</th>\n",
       "      <th>buisness_year</th>\n",
       "      <th>doc_id</th>\n",
       "      <th>posting_date</th>\n",
       "      <th>document_create_date</th>\n",
       "      <th>document_create_date.1</th>\n",
       "      <th>due_in_date</th>\n",
       "      <th>posting_id</th>\n",
       "      <th>total_open_amount</th>\n",
       "      <th>baseline_create_date</th>\n",
       "      <th>cust_payment_terms</th>\n",
       "      <th>invoice_id</th>\n",
       "      <th>isOpen</th>\n",
       "      <th>delay</th>\n",
       "      <th>amount_in_USD</th>\n",
       "    </tr>\n",
       "  </thead>\n",
       "  <tbody>\n",
       "    <tr>\n",
       "      <th>0</th>\n",
       "      <td>U001</td>\n",
       "      <td>200799367</td>\n",
       "      <td>2019-09-03</td>\n",
       "      <td>2019.0</td>\n",
       "      <td>1.929749e+09</td>\n",
       "      <td>2019-08-16</td>\n",
       "      <td>20190815</td>\n",
       "      <td>20190816</td>\n",
       "      <td>2019-08-31</td>\n",
       "      <td>1.0</td>\n",
       "      <td>0.020770</td>\n",
       "      <td>2019-08-16</td>\n",
       "      <td>21</td>\n",
       "      <td>1.929749e+09</td>\n",
       "      <td>0</td>\n",
       "      <td>3</td>\n",
       "      <td>0.020770</td>\n",
       "    </tr>\n",
       "    <tr>\n",
       "      <th>1</th>\n",
       "      <td>U001</td>\n",
       "      <td>200759878</td>\n",
       "      <td>2019-02-06</td>\n",
       "      <td>2019.0</td>\n",
       "      <td>1.928645e+09</td>\n",
       "      <td>2019-01-21</td>\n",
       "      <td>20190118</td>\n",
       "      <td>20190121</td>\n",
       "      <td>2019-02-05</td>\n",
       "      <td>1.0</td>\n",
       "      <td>0.048509</td>\n",
       "      <td>2019-01-21</td>\n",
       "      <td>38</td>\n",
       "      <td>1.928645e+09</td>\n",
       "      <td>0</td>\n",
       "      <td>1</td>\n",
       "      <td>0.048509</td>\n",
       "    </tr>\n",
       "    <tr>\n",
       "      <th>2</th>\n",
       "      <td>U001</td>\n",
       "      <td>200769623</td>\n",
       "      <td>2019-11-12</td>\n",
       "      <td>2019.0</td>\n",
       "      <td>1.930071e+09</td>\n",
       "      <td>2019-10-30</td>\n",
       "      <td>20191029</td>\n",
       "      <td>20191030</td>\n",
       "      <td>2019-11-14</td>\n",
       "      <td>1.0</td>\n",
       "      <td>0.027867</td>\n",
       "      <td>2019-10-30</td>\n",
       "      <td>38</td>\n",
       "      <td>1.930071e+09</td>\n",
       "      <td>0</td>\n",
       "      <td>-2</td>\n",
       "      <td>0.027867</td>\n",
       "    </tr>\n",
       "    <tr>\n",
       "      <th>3</th>\n",
       "      <td>U001</td>\n",
       "      <td>200769623</td>\n",
       "      <td>2019-04-11</td>\n",
       "      <td>2019.0</td>\n",
       "      <td>1.929024e+09</td>\n",
       "      <td>2019-03-25</td>\n",
       "      <td>20190325</td>\n",
       "      <td>20190325</td>\n",
       "      <td>2019-04-09</td>\n",
       "      <td>1.0</td>\n",
       "      <td>0.000974</td>\n",
       "      <td>2019-03-25</td>\n",
       "      <td>38</td>\n",
       "      <td>1.929024e+09</td>\n",
       "      <td>0</td>\n",
       "      <td>2</td>\n",
       "      <td>0.000974</td>\n",
       "    </tr>\n",
       "    <tr>\n",
       "      <th>4</th>\n",
       "      <td>U001</td>\n",
       "      <td>200799367</td>\n",
       "      <td>2019-09-04</td>\n",
       "      <td>2019.0</td>\n",
       "      <td>1.929519e+09</td>\n",
       "      <td>2019-06-21</td>\n",
       "      <td>20190620</td>\n",
       "      <td>20190621</td>\n",
       "      <td>2019-09-04</td>\n",
       "      <td>1.0</td>\n",
       "      <td>0.006697</td>\n",
       "      <td>2019-06-21</td>\n",
       "      <td>0</td>\n",
       "      <td>1.929519e+09</td>\n",
       "      <td>0</td>\n",
       "      <td>0</td>\n",
       "      <td>0.006697</td>\n",
       "    </tr>\n",
       "  </tbody>\n",
       "</table>\n",
       "</div>"
      ],
      "text/plain": [
       "  business_code  cust_number clear_date  buisness_year        doc_id  \\\n",
       "0          U001    200799367 2019-09-03         2019.0  1.929749e+09   \n",
       "1          U001    200759878 2019-02-06         2019.0  1.928645e+09   \n",
       "2          U001    200769623 2019-11-12         2019.0  1.930071e+09   \n",
       "3          U001    200769623 2019-04-11         2019.0  1.929024e+09   \n",
       "4          U001    200799367 2019-09-04         2019.0  1.929519e+09   \n",
       "\n",
       "  posting_date  document_create_date  document_create_date.1 due_in_date  \\\n",
       "0   2019-08-16              20190815                20190816  2019-08-31   \n",
       "1   2019-01-21              20190118                20190121  2019-02-05   \n",
       "2   2019-10-30              20191029                20191030  2019-11-14   \n",
       "3   2019-03-25              20190325                20190325  2019-04-09   \n",
       "4   2019-06-21              20190620                20190621  2019-09-04   \n",
       "\n",
       "   posting_id  total_open_amount baseline_create_date  cust_payment_terms  \\\n",
       "0         1.0           0.020770           2019-08-16                  21   \n",
       "1         1.0           0.048509           2019-01-21                  38   \n",
       "2         1.0           0.027867           2019-10-30                  38   \n",
       "3         1.0           0.000974           2019-03-25                  38   \n",
       "4         1.0           0.006697           2019-06-21                   0   \n",
       "\n",
       "     invoice_id  isOpen  delay  amount_in_USD  \n",
       "0  1.929749e+09       0      3       0.020770  \n",
       "1  1.928645e+09       0      1       0.048509  \n",
       "2  1.930071e+09       0     -2       0.027867  \n",
       "3  1.929024e+09       0      2       0.000974  \n",
       "4  1.929519e+09       0      0       0.006697  "
      ]
     },
     "execution_count": 59,
     "metadata": {},
     "output_type": "execute_result"
    }
   ],
   "source": [
    "df.head()"
   ]
  },
  {
   "cell_type": "code",
   "execution_count": 60,
   "metadata": {},
   "outputs": [
    {
     "data": {
      "text/plain": [
       "U001    44328\n",
       "CA02     3748\n",
       "U013      556\n",
       "U002      127\n",
       "U005       14\n",
       "U007        4\n",
       "Name: business_code, dtype: int64"
      ]
     },
     "execution_count": 60,
     "metadata": {},
     "output_type": "execute_result"
    }
   ],
   "source": [
    "df[\"business_code\"].value_counts()"
   ]
  },
  {
   "cell_type": "code",
   "execution_count": 61,
   "metadata": {},
   "outputs": [],
   "source": [
    "#fix buisness code"
   ]
  },
  {
   "cell_type": "code",
   "execution_count": 62,
   "metadata": {},
   "outputs": [],
   "source": [
    "df[\"business_code\"] = df[\"business_code\"].astype('category')#covnert into category datatype"
   ]
  },
  {
   "cell_type": "code",
   "execution_count": 63,
   "metadata": {},
   "outputs": [],
   "source": [
    "df[\"business_code\"] = df[\"business_code\"].cat.codes#converted into categorical \n"
   ]
  },
  {
   "cell_type": "code",
   "execution_count": 64,
   "metadata": {},
   "outputs": [],
   "source": [
    "series = pd.value_counts(df.business_code)\n",
    "mask = (series/series.sum() * 100).lt(1)\n",
    "# To replace df['column'] use np.where I.e \n",
    "df['business_code'] = np.where(df['business_code'].isin(series[mask].index),0,df['business_code'])"
   ]
  },
  {
   "cell_type": "code",
   "execution_count": 65,
   "metadata": {},
   "outputs": [
    {
     "data": {
      "text/plain": [
       "1    44328\n",
       "0     3893\n",
       "5      556\n",
       "Name: business_code, dtype: int64"
      ]
     },
     "execution_count": 65,
     "metadata": {},
     "output_type": "execute_result"
    }
   ],
   "source": [
    "df[\"business_code\"].value_counts()"
   ]
  },
  {
   "cell_type": "code",
   "execution_count": 66,
   "metadata": {},
   "outputs": [],
   "source": [
    "#fix buisness year"
   ]
  },
  {
   "cell_type": "code",
   "execution_count": 67,
   "metadata": {},
   "outputs": [],
   "source": [
    "df[\"buisness_year\"] = df[\"buisness_year\"].astype('category')#covnert into category datatype"
   ]
  },
  {
   "cell_type": "code",
   "execution_count": 68,
   "metadata": {},
   "outputs": [],
   "source": [
    "df[\"buisness_year\"] = df[\"buisness_year\"].cat.codes#converted into categorical \n"
   ]
  },
  {
   "cell_type": "code",
   "execution_count": 69,
   "metadata": {},
   "outputs": [],
   "source": [
    "#fix amount in usd"
   ]
  },
  {
   "cell_type": "code",
   "execution_count": 70,
   "metadata": {},
   "outputs": [
    {
     "data": {
      "text/plain": [
       "0        0.020770\n",
       "1        0.048509\n",
       "2        0.027867\n",
       "3        0.000974\n",
       "4        0.006697\n",
       "           ...   \n",
       "49995    0.027660\n",
       "49996    0.053656\n",
       "49997    0.004969\n",
       "49998    0.012804\n",
       "49999    0.002436\n",
       "Name: total_open_amount, Length: 48777, dtype: float64"
      ]
     },
     "execution_count": 70,
     "metadata": {},
     "output_type": "execute_result"
    }
   ],
   "source": [
    "df.total_open_amount"
   ]
  },
  {
   "cell_type": "code",
   "execution_count": 71,
   "metadata": {},
   "outputs": [
    {
     "data": {
      "text/plain": [
       "0        0.020770\n",
       "1        0.048509\n",
       "2        0.027867\n",
       "3        0.000974\n",
       "4        0.006697\n",
       "           ...   \n",
       "49995    0.027660\n",
       "49996    0.053656\n",
       "49997    0.004969\n",
       "49998    0.010371\n",
       "49999    0.002436\n",
       "Name: amount_in_USD, Length: 48777, dtype: float64"
      ]
     },
     "execution_count": 71,
     "metadata": {},
     "output_type": "execute_result"
    }
   ],
   "source": [
    "df.amount_in_USD"
   ]
  },
  {
   "cell_type": "code",
   "execution_count": 72,
   "metadata": {},
   "outputs": [],
   "source": [
    "#del useless coloumn"
   ]
  },
  {
   "cell_type": "code",
   "execution_count": 73,
   "metadata": {},
   "outputs": [],
   "source": [
    "del df[\"document_create_date\"]"
   ]
  },
  {
   "cell_type": "code",
   "execution_count": 74,
   "metadata": {},
   "outputs": [],
   "source": [
    "del df[\"posting_id\"]"
   ]
  },
  {
   "cell_type": "code",
   "execution_count": 75,
   "metadata": {},
   "outputs": [],
   "source": [
    "# letas analyze doc create date.1"
   ]
  },
  {
   "cell_type": "code",
   "execution_count": 76,
   "metadata": {},
   "outputs": [],
   "source": [
    "df['document_create_date.1'] = pd.to_datetime(df['document_create_date.1'], format='%Y%m%d')"
   ]
  },
  {
   "cell_type": "code",
   "execution_count": 77,
   "metadata": {},
   "outputs": [],
   "source": [
    "df.rename(columns = {'document_create_date.1':'document_create_date'}, inplace = True)"
   ]
  },
  {
   "cell_type": "code",
   "execution_count": 78,
   "metadata": {},
   "outputs": [],
   "source": [
    "df[\"diff_posting_create\"] = df.posting_date - df.document_create_date"
   ]
  },
  {
   "cell_type": "code",
   "execution_count": 79,
   "metadata": {},
   "outputs": [
    {
     "data": {
      "text/plain": [
       "0 days     48775\n",
       "77 days        1\n",
       "36 days        1\n",
       "Name: diff_posting_create, dtype: int64"
      ]
     },
     "execution_count": 79,
     "metadata": {},
     "output_type": "execute_result"
    }
   ],
   "source": [
    "df[\"diff_posting_create\"].value_counts()"
   ]
  },
  {
   "cell_type": "code",
   "execution_count": 80,
   "metadata": {},
   "outputs": [],
   "source": [
    "del df[\"diff_posting_create\"]"
   ]
  },
  {
   "cell_type": "code",
   "execution_count": 81,
   "metadata": {},
   "outputs": [],
   "source": [
    "df[\"diff_posting_due\"] = df.due_in_date - df.posting_date"
   ]
  },
  {
   "cell_type": "code",
   "execution_count": 82,
   "metadata": {},
   "outputs": [
    {
     "data": {
      "text/plain": [
       "15 days     36864\n",
       "10 days      1146\n",
       "20 days      1102\n",
       "11 days      1003\n",
       "65 days       948\n",
       "            ...  \n",
       "-16 days        1\n",
       "-18 days        1\n",
       "106 days        1\n",
       "52 days         1\n",
       "-38 days        1\n",
       "Name: diff_posting_due, Length: 84, dtype: int64"
      ]
     },
     "execution_count": 82,
     "metadata": {},
     "output_type": "execute_result"
    }
   ],
   "source": [
    "df[\"diff_posting_due\"].value_counts()"
   ]
  },
  {
   "cell_type": "code",
   "execution_count": 83,
   "metadata": {},
   "outputs": [
    {
     "data": {
      "text/html": [
       "<div>\n",
       "<style scoped>\n",
       "    .dataframe tbody tr th:only-of-type {\n",
       "        vertical-align: middle;\n",
       "    }\n",
       "\n",
       "    .dataframe tbody tr th {\n",
       "        vertical-align: top;\n",
       "    }\n",
       "\n",
       "    .dataframe thead th {\n",
       "        text-align: right;\n",
       "    }\n",
       "</style>\n",
       "<table border=\"1\" class=\"dataframe\">\n",
       "  <thead>\n",
       "    <tr style=\"text-align: right;\">\n",
       "      <th></th>\n",
       "      <th>business_code</th>\n",
       "      <th>cust_number</th>\n",
       "      <th>clear_date</th>\n",
       "      <th>buisness_year</th>\n",
       "      <th>doc_id</th>\n",
       "      <th>posting_date</th>\n",
       "      <th>document_create_date</th>\n",
       "      <th>due_in_date</th>\n",
       "      <th>total_open_amount</th>\n",
       "      <th>baseline_create_date</th>\n",
       "      <th>cust_payment_terms</th>\n",
       "      <th>invoice_id</th>\n",
       "      <th>isOpen</th>\n",
       "      <th>delay</th>\n",
       "      <th>amount_in_USD</th>\n",
       "      <th>diff_posting_due</th>\n",
       "    </tr>\n",
       "  </thead>\n",
       "  <tbody>\n",
       "    <tr>\n",
       "      <th>0</th>\n",
       "      <td>1</td>\n",
       "      <td>200799367</td>\n",
       "      <td>2019-09-03</td>\n",
       "      <td>0</td>\n",
       "      <td>1.929749e+09</td>\n",
       "      <td>2019-08-16</td>\n",
       "      <td>2019-08-16</td>\n",
       "      <td>2019-08-31</td>\n",
       "      <td>0.020770</td>\n",
       "      <td>2019-08-16</td>\n",
       "      <td>21</td>\n",
       "      <td>1.929749e+09</td>\n",
       "      <td>0</td>\n",
       "      <td>3</td>\n",
       "      <td>0.020770</td>\n",
       "      <td>15 days</td>\n",
       "    </tr>\n",
       "    <tr>\n",
       "      <th>1</th>\n",
       "      <td>1</td>\n",
       "      <td>200759878</td>\n",
       "      <td>2019-02-06</td>\n",
       "      <td>0</td>\n",
       "      <td>1.928645e+09</td>\n",
       "      <td>2019-01-21</td>\n",
       "      <td>2019-01-21</td>\n",
       "      <td>2019-02-05</td>\n",
       "      <td>0.048509</td>\n",
       "      <td>2019-01-21</td>\n",
       "      <td>38</td>\n",
       "      <td>1.928645e+09</td>\n",
       "      <td>0</td>\n",
       "      <td>1</td>\n",
       "      <td>0.048509</td>\n",
       "      <td>15 days</td>\n",
       "    </tr>\n",
       "    <tr>\n",
       "      <th>2</th>\n",
       "      <td>1</td>\n",
       "      <td>200769623</td>\n",
       "      <td>2019-11-12</td>\n",
       "      <td>0</td>\n",
       "      <td>1.930071e+09</td>\n",
       "      <td>2019-10-30</td>\n",
       "      <td>2019-10-30</td>\n",
       "      <td>2019-11-14</td>\n",
       "      <td>0.027867</td>\n",
       "      <td>2019-10-30</td>\n",
       "      <td>38</td>\n",
       "      <td>1.930071e+09</td>\n",
       "      <td>0</td>\n",
       "      <td>-2</td>\n",
       "      <td>0.027867</td>\n",
       "      <td>15 days</td>\n",
       "    </tr>\n",
       "    <tr>\n",
       "      <th>3</th>\n",
       "      <td>1</td>\n",
       "      <td>200769623</td>\n",
       "      <td>2019-04-11</td>\n",
       "      <td>0</td>\n",
       "      <td>1.929024e+09</td>\n",
       "      <td>2019-03-25</td>\n",
       "      <td>2019-03-25</td>\n",
       "      <td>2019-04-09</td>\n",
       "      <td>0.000974</td>\n",
       "      <td>2019-03-25</td>\n",
       "      <td>38</td>\n",
       "      <td>1.929024e+09</td>\n",
       "      <td>0</td>\n",
       "      <td>2</td>\n",
       "      <td>0.000974</td>\n",
       "      <td>15 days</td>\n",
       "    </tr>\n",
       "    <tr>\n",
       "      <th>4</th>\n",
       "      <td>1</td>\n",
       "      <td>200799367</td>\n",
       "      <td>2019-09-04</td>\n",
       "      <td>0</td>\n",
       "      <td>1.929519e+09</td>\n",
       "      <td>2019-06-21</td>\n",
       "      <td>2019-06-21</td>\n",
       "      <td>2019-09-04</td>\n",
       "      <td>0.006697</td>\n",
       "      <td>2019-06-21</td>\n",
       "      <td>0</td>\n",
       "      <td>1.929519e+09</td>\n",
       "      <td>0</td>\n",
       "      <td>0</td>\n",
       "      <td>0.006697</td>\n",
       "      <td>75 days</td>\n",
       "    </tr>\n",
       "  </tbody>\n",
       "</table>\n",
       "</div>"
      ],
      "text/plain": [
       "   business_code  cust_number clear_date  buisness_year        doc_id  \\\n",
       "0              1    200799367 2019-09-03              0  1.929749e+09   \n",
       "1              1    200759878 2019-02-06              0  1.928645e+09   \n",
       "2              1    200769623 2019-11-12              0  1.930071e+09   \n",
       "3              1    200769623 2019-04-11              0  1.929024e+09   \n",
       "4              1    200799367 2019-09-04              0  1.929519e+09   \n",
       "\n",
       "  posting_date document_create_date due_in_date  total_open_amount  \\\n",
       "0   2019-08-16           2019-08-16  2019-08-31           0.020770   \n",
       "1   2019-01-21           2019-01-21  2019-02-05           0.048509   \n",
       "2   2019-10-30           2019-10-30  2019-11-14           0.027867   \n",
       "3   2019-03-25           2019-03-25  2019-04-09           0.000974   \n",
       "4   2019-06-21           2019-06-21  2019-09-04           0.006697   \n",
       "\n",
       "  baseline_create_date  cust_payment_terms    invoice_id  isOpen  delay  \\\n",
       "0           2019-08-16                  21  1.929749e+09       0      3   \n",
       "1           2019-01-21                  38  1.928645e+09       0      1   \n",
       "2           2019-10-30                  38  1.930071e+09       0     -2   \n",
       "3           2019-03-25                  38  1.929024e+09       0      2   \n",
       "4           2019-06-21                   0  1.929519e+09       0      0   \n",
       "\n",
       "   amount_in_USD diff_posting_due  \n",
       "0       0.020770          15 days  \n",
       "1       0.048509          15 days  \n",
       "2       0.027867          15 days  \n",
       "3       0.000974          15 days  \n",
       "4       0.006697          75 days  "
      ]
     },
     "execution_count": 83,
     "metadata": {},
     "output_type": "execute_result"
    }
   ],
   "source": [
    "df.head()"
   ]
  },
  {
   "cell_type": "code",
   "execution_count": null,
   "metadata": {},
   "outputs": [],
   "source": []
  },
  {
   "cell_type": "code",
   "execution_count": 84,
   "metadata": {},
   "outputs": [],
   "source": [
    "df['diff_posting_due'] = df['diff_posting_due'].dt.days.astype('int64')"
   ]
  },
  {
   "cell_type": "code",
   "execution_count": 85,
   "metadata": {},
   "outputs": [
    {
     "data": {
      "text/html": [
       "<div>\n",
       "<style scoped>\n",
       "    .dataframe tbody tr th:only-of-type {\n",
       "        vertical-align: middle;\n",
       "    }\n",
       "\n",
       "    .dataframe tbody tr th {\n",
       "        vertical-align: top;\n",
       "    }\n",
       "\n",
       "    .dataframe thead th {\n",
       "        text-align: right;\n",
       "    }\n",
       "</style>\n",
       "<table border=\"1\" class=\"dataframe\">\n",
       "  <thead>\n",
       "    <tr style=\"text-align: right;\">\n",
       "      <th></th>\n",
       "      <th>business_code</th>\n",
       "      <th>cust_number</th>\n",
       "      <th>clear_date</th>\n",
       "      <th>buisness_year</th>\n",
       "      <th>doc_id</th>\n",
       "      <th>posting_date</th>\n",
       "      <th>document_create_date</th>\n",
       "      <th>due_in_date</th>\n",
       "      <th>total_open_amount</th>\n",
       "      <th>baseline_create_date</th>\n",
       "      <th>cust_payment_terms</th>\n",
       "      <th>invoice_id</th>\n",
       "      <th>isOpen</th>\n",
       "      <th>delay</th>\n",
       "      <th>amount_in_USD</th>\n",
       "      <th>diff_posting_due</th>\n",
       "    </tr>\n",
       "  </thead>\n",
       "  <tbody>\n",
       "    <tr>\n",
       "      <th>0</th>\n",
       "      <td>1</td>\n",
       "      <td>200799367</td>\n",
       "      <td>2019-09-03</td>\n",
       "      <td>0</td>\n",
       "      <td>1.929749e+09</td>\n",
       "      <td>2019-08-16</td>\n",
       "      <td>2019-08-16</td>\n",
       "      <td>2019-08-31</td>\n",
       "      <td>0.020770</td>\n",
       "      <td>2019-08-16</td>\n",
       "      <td>21</td>\n",
       "      <td>1.929749e+09</td>\n",
       "      <td>0</td>\n",
       "      <td>3</td>\n",
       "      <td>0.020770</td>\n",
       "      <td>15</td>\n",
       "    </tr>\n",
       "    <tr>\n",
       "      <th>1</th>\n",
       "      <td>1</td>\n",
       "      <td>200759878</td>\n",
       "      <td>2019-02-06</td>\n",
       "      <td>0</td>\n",
       "      <td>1.928645e+09</td>\n",
       "      <td>2019-01-21</td>\n",
       "      <td>2019-01-21</td>\n",
       "      <td>2019-02-05</td>\n",
       "      <td>0.048509</td>\n",
       "      <td>2019-01-21</td>\n",
       "      <td>38</td>\n",
       "      <td>1.928645e+09</td>\n",
       "      <td>0</td>\n",
       "      <td>1</td>\n",
       "      <td>0.048509</td>\n",
       "      <td>15</td>\n",
       "    </tr>\n",
       "    <tr>\n",
       "      <th>2</th>\n",
       "      <td>1</td>\n",
       "      <td>200769623</td>\n",
       "      <td>2019-11-12</td>\n",
       "      <td>0</td>\n",
       "      <td>1.930071e+09</td>\n",
       "      <td>2019-10-30</td>\n",
       "      <td>2019-10-30</td>\n",
       "      <td>2019-11-14</td>\n",
       "      <td>0.027867</td>\n",
       "      <td>2019-10-30</td>\n",
       "      <td>38</td>\n",
       "      <td>1.930071e+09</td>\n",
       "      <td>0</td>\n",
       "      <td>-2</td>\n",
       "      <td>0.027867</td>\n",
       "      <td>15</td>\n",
       "    </tr>\n",
       "    <tr>\n",
       "      <th>3</th>\n",
       "      <td>1</td>\n",
       "      <td>200769623</td>\n",
       "      <td>2019-04-11</td>\n",
       "      <td>0</td>\n",
       "      <td>1.929024e+09</td>\n",
       "      <td>2019-03-25</td>\n",
       "      <td>2019-03-25</td>\n",
       "      <td>2019-04-09</td>\n",
       "      <td>0.000974</td>\n",
       "      <td>2019-03-25</td>\n",
       "      <td>38</td>\n",
       "      <td>1.929024e+09</td>\n",
       "      <td>0</td>\n",
       "      <td>2</td>\n",
       "      <td>0.000974</td>\n",
       "      <td>15</td>\n",
       "    </tr>\n",
       "    <tr>\n",
       "      <th>4</th>\n",
       "      <td>1</td>\n",
       "      <td>200799367</td>\n",
       "      <td>2019-09-04</td>\n",
       "      <td>0</td>\n",
       "      <td>1.929519e+09</td>\n",
       "      <td>2019-06-21</td>\n",
       "      <td>2019-06-21</td>\n",
       "      <td>2019-09-04</td>\n",
       "      <td>0.006697</td>\n",
       "      <td>2019-06-21</td>\n",
       "      <td>0</td>\n",
       "      <td>1.929519e+09</td>\n",
       "      <td>0</td>\n",
       "      <td>0</td>\n",
       "      <td>0.006697</td>\n",
       "      <td>75</td>\n",
       "    </tr>\n",
       "  </tbody>\n",
       "</table>\n",
       "</div>"
      ],
      "text/plain": [
       "   business_code  cust_number clear_date  buisness_year        doc_id  \\\n",
       "0              1    200799367 2019-09-03              0  1.929749e+09   \n",
       "1              1    200759878 2019-02-06              0  1.928645e+09   \n",
       "2              1    200769623 2019-11-12              0  1.930071e+09   \n",
       "3              1    200769623 2019-04-11              0  1.929024e+09   \n",
       "4              1    200799367 2019-09-04              0  1.929519e+09   \n",
       "\n",
       "  posting_date document_create_date due_in_date  total_open_amount  \\\n",
       "0   2019-08-16           2019-08-16  2019-08-31           0.020770   \n",
       "1   2019-01-21           2019-01-21  2019-02-05           0.048509   \n",
       "2   2019-10-30           2019-10-30  2019-11-14           0.027867   \n",
       "3   2019-03-25           2019-03-25  2019-04-09           0.000974   \n",
       "4   2019-06-21           2019-06-21  2019-09-04           0.006697   \n",
       "\n",
       "  baseline_create_date  cust_payment_terms    invoice_id  isOpen  delay  \\\n",
       "0           2019-08-16                  21  1.929749e+09       0      3   \n",
       "1           2019-01-21                  38  1.928645e+09       0      1   \n",
       "2           2019-10-30                  38  1.930071e+09       0     -2   \n",
       "3           2019-03-25                  38  1.929024e+09       0      2   \n",
       "4           2019-06-21                   0  1.929519e+09       0      0   \n",
       "\n",
       "   amount_in_USD  diff_posting_due  \n",
       "0       0.020770                15  \n",
       "1       0.048509                15  \n",
       "2       0.027867                15  \n",
       "3       0.000974                15  \n",
       "4       0.006697                75  "
      ]
     },
     "execution_count": 85,
     "metadata": {},
     "output_type": "execute_result"
    }
   ],
   "source": [
    "df.head()"
   ]
  },
  {
   "cell_type": "code",
   "execution_count": 86,
   "metadata": {},
   "outputs": [
    {
     "data": {
      "text/plain": [
       "count    48777.000000\n",
       "mean        19.224901\n",
       "std         14.201473\n",
       "min          0.000000\n",
       "25%          6.000000\n",
       "50%         21.000000\n",
       "75%         38.000000\n",
       "max         38.000000\n",
       "Name: cust_payment_terms, dtype: float64"
      ]
     },
     "execution_count": 86,
     "metadata": {},
     "output_type": "execute_result"
    }
   ],
   "source": [
    "df.cust_payment_terms.describe()"
   ]
  },
  {
   "cell_type": "code",
   "execution_count": 87,
   "metadata": {},
   "outputs": [
    {
     "data": {
      "text/html": [
       "<div>\n",
       "<style scoped>\n",
       "    .dataframe tbody tr th:only-of-type {\n",
       "        vertical-align: middle;\n",
       "    }\n",
       "\n",
       "    .dataframe tbody tr th {\n",
       "        vertical-align: top;\n",
       "    }\n",
       "\n",
       "    .dataframe thead th {\n",
       "        text-align: right;\n",
       "    }\n",
       "</style>\n",
       "<table border=\"1\" class=\"dataframe\">\n",
       "  <thead>\n",
       "    <tr style=\"text-align: right;\">\n",
       "      <th></th>\n",
       "      <th>business_code</th>\n",
       "      <th>cust_number</th>\n",
       "      <th>clear_date</th>\n",
       "      <th>buisness_year</th>\n",
       "      <th>doc_id</th>\n",
       "      <th>posting_date</th>\n",
       "      <th>document_create_date</th>\n",
       "      <th>due_in_date</th>\n",
       "      <th>total_open_amount</th>\n",
       "      <th>baseline_create_date</th>\n",
       "      <th>cust_payment_terms</th>\n",
       "      <th>invoice_id</th>\n",
       "      <th>isOpen</th>\n",
       "      <th>delay</th>\n",
       "      <th>amount_in_USD</th>\n",
       "      <th>diff_posting_due</th>\n",
       "    </tr>\n",
       "  </thead>\n",
       "  <tbody>\n",
       "    <tr>\n",
       "      <th>0</th>\n",
       "      <td>1</td>\n",
       "      <td>200799367</td>\n",
       "      <td>2019-09-03</td>\n",
       "      <td>0</td>\n",
       "      <td>1.929749e+09</td>\n",
       "      <td>2019-08-16</td>\n",
       "      <td>2019-08-16</td>\n",
       "      <td>2019-08-31</td>\n",
       "      <td>0.020770</td>\n",
       "      <td>2019-08-16</td>\n",
       "      <td>21</td>\n",
       "      <td>1.929749e+09</td>\n",
       "      <td>0</td>\n",
       "      <td>3</td>\n",
       "      <td>0.020770</td>\n",
       "      <td>15</td>\n",
       "    </tr>\n",
       "    <tr>\n",
       "      <th>1</th>\n",
       "      <td>1</td>\n",
       "      <td>200759878</td>\n",
       "      <td>2019-02-06</td>\n",
       "      <td>0</td>\n",
       "      <td>1.928645e+09</td>\n",
       "      <td>2019-01-21</td>\n",
       "      <td>2019-01-21</td>\n",
       "      <td>2019-02-05</td>\n",
       "      <td>0.048509</td>\n",
       "      <td>2019-01-21</td>\n",
       "      <td>38</td>\n",
       "      <td>1.928645e+09</td>\n",
       "      <td>0</td>\n",
       "      <td>1</td>\n",
       "      <td>0.048509</td>\n",
       "      <td>15</td>\n",
       "    </tr>\n",
       "    <tr>\n",
       "      <th>2</th>\n",
       "      <td>1</td>\n",
       "      <td>200769623</td>\n",
       "      <td>2019-11-12</td>\n",
       "      <td>0</td>\n",
       "      <td>1.930071e+09</td>\n",
       "      <td>2019-10-30</td>\n",
       "      <td>2019-10-30</td>\n",
       "      <td>2019-11-14</td>\n",
       "      <td>0.027867</td>\n",
       "      <td>2019-10-30</td>\n",
       "      <td>38</td>\n",
       "      <td>1.930071e+09</td>\n",
       "      <td>0</td>\n",
       "      <td>-2</td>\n",
       "      <td>0.027867</td>\n",
       "      <td>15</td>\n",
       "    </tr>\n",
       "    <tr>\n",
       "      <th>3</th>\n",
       "      <td>1</td>\n",
       "      <td>200769623</td>\n",
       "      <td>2019-04-11</td>\n",
       "      <td>0</td>\n",
       "      <td>1.929024e+09</td>\n",
       "      <td>2019-03-25</td>\n",
       "      <td>2019-03-25</td>\n",
       "      <td>2019-04-09</td>\n",
       "      <td>0.000974</td>\n",
       "      <td>2019-03-25</td>\n",
       "      <td>38</td>\n",
       "      <td>1.929024e+09</td>\n",
       "      <td>0</td>\n",
       "      <td>2</td>\n",
       "      <td>0.000974</td>\n",
       "      <td>15</td>\n",
       "    </tr>\n",
       "    <tr>\n",
       "      <th>4</th>\n",
       "      <td>1</td>\n",
       "      <td>200799367</td>\n",
       "      <td>2019-09-04</td>\n",
       "      <td>0</td>\n",
       "      <td>1.929519e+09</td>\n",
       "      <td>2019-06-21</td>\n",
       "      <td>2019-06-21</td>\n",
       "      <td>2019-09-04</td>\n",
       "      <td>0.006697</td>\n",
       "      <td>2019-06-21</td>\n",
       "      <td>0</td>\n",
       "      <td>1.929519e+09</td>\n",
       "      <td>0</td>\n",
       "      <td>0</td>\n",
       "      <td>0.006697</td>\n",
       "      <td>75</td>\n",
       "    </tr>\n",
       "  </tbody>\n",
       "</table>\n",
       "</div>"
      ],
      "text/plain": [
       "   business_code  cust_number clear_date  buisness_year        doc_id  \\\n",
       "0              1    200799367 2019-09-03              0  1.929749e+09   \n",
       "1              1    200759878 2019-02-06              0  1.928645e+09   \n",
       "2              1    200769623 2019-11-12              0  1.930071e+09   \n",
       "3              1    200769623 2019-04-11              0  1.929024e+09   \n",
       "4              1    200799367 2019-09-04              0  1.929519e+09   \n",
       "\n",
       "  posting_date document_create_date due_in_date  total_open_amount  \\\n",
       "0   2019-08-16           2019-08-16  2019-08-31           0.020770   \n",
       "1   2019-01-21           2019-01-21  2019-02-05           0.048509   \n",
       "2   2019-10-30           2019-10-30  2019-11-14           0.027867   \n",
       "3   2019-03-25           2019-03-25  2019-04-09           0.000974   \n",
       "4   2019-06-21           2019-06-21  2019-09-04           0.006697   \n",
       "\n",
       "  baseline_create_date  cust_payment_terms    invoice_id  isOpen  delay  \\\n",
       "0           2019-08-16                  21  1.929749e+09       0      3   \n",
       "1           2019-01-21                  38  1.928645e+09       0      1   \n",
       "2           2019-10-30                  38  1.930071e+09       0     -2   \n",
       "3           2019-03-25                  38  1.929024e+09       0      2   \n",
       "4           2019-06-21                   0  1.929519e+09       0      0   \n",
       "\n",
       "   amount_in_USD  diff_posting_due  \n",
       "0       0.020770                15  \n",
       "1       0.048509                15  \n",
       "2       0.027867                15  \n",
       "3       0.000974                15  \n",
       "4       0.006697                75  "
      ]
     },
     "execution_count": 87,
     "metadata": {},
     "output_type": "execute_result"
    }
   ],
   "source": [
    "df.head()"
   ]
  },
  {
   "cell_type": "code",
   "execution_count": 88,
   "metadata": {},
   "outputs": [
    {
     "data": {
      "text/plain": [
       "0    33832\n",
       "1    14945\n",
       "Name: buisness_year, dtype: int64"
      ]
     },
     "execution_count": 88,
     "metadata": {},
     "output_type": "execute_result"
    }
   ],
   "source": [
    "\n",
    "df['buisness_year'].value_counts()"
   ]
  },
  {
   "cell_type": "code",
   "execution_count": 89,
   "metadata": {},
   "outputs": [],
   "source": [
    "#DROPPING THE ROWS WHERE THE DOCUMENT FOR INVOICES ARE CREATED BEFORE THE BASELINE CREATE DATE"
   ]
  },
  {
   "cell_type": "code",
   "execution_count": 90,
   "metadata": {},
   "outputs": [],
   "source": [
    "temp = pd.Series(df['document_create_date'] - df['baseline_create_date']).dt.days"
   ]
  },
  {
   "cell_type": "code",
   "execution_count": 91,
   "metadata": {},
   "outputs": [],
   "source": [
    "rows_to_drop = temp.value_counts().to_frame(name = 'count')"
   ]
  },
  {
   "cell_type": "code",
   "execution_count": 92,
   "metadata": {},
   "outputs": [
    {
     "data": {
      "text/plain": [
       "count    3119\n",
       "dtype: int64"
      ]
     },
     "execution_count": 92,
     "metadata": {},
     "output_type": "execute_result"
    }
   ],
   "source": [
    "#no of rows drop satisfyin the cond\n",
    "rows_to_drop[(rows_to_drop.index <0)].sum()"
   ]
  },
  {
   "cell_type": "code",
   "execution_count": 93,
   "metadata": {},
   "outputs": [],
   "source": [
    "df = df[((temp==0) | (temp>0))].reset_index(drop=True)"
   ]
  },
  {
   "cell_type": "code",
   "execution_count": 94,
   "metadata": {},
   "outputs": [
    {
     "data": {
      "text/plain": [
       "(45658, 16)"
      ]
     },
     "execution_count": 94,
     "metadata": {},
     "output_type": "execute_result"
    }
   ],
   "source": [
    "df.shape"
   ]
  },
  {
   "cell_type": "code",
   "execution_count": 95,
   "metadata": {},
   "outputs": [],
   "source": [
    "del df[\"document_create_date\"]"
   ]
  },
  {
   "cell_type": "code",
   "execution_count": 96,
   "metadata": {},
   "outputs": [
    {
     "data": {
      "text/html": [
       "<div>\n",
       "<style scoped>\n",
       "    .dataframe tbody tr th:only-of-type {\n",
       "        vertical-align: middle;\n",
       "    }\n",
       "\n",
       "    .dataframe tbody tr th {\n",
       "        vertical-align: top;\n",
       "    }\n",
       "\n",
       "    .dataframe thead th {\n",
       "        text-align: right;\n",
       "    }\n",
       "</style>\n",
       "<table border=\"1\" class=\"dataframe\">\n",
       "  <thead>\n",
       "    <tr style=\"text-align: right;\">\n",
       "      <th></th>\n",
       "      <th>business_code</th>\n",
       "      <th>cust_number</th>\n",
       "      <th>clear_date</th>\n",
       "      <th>buisness_year</th>\n",
       "      <th>doc_id</th>\n",
       "      <th>posting_date</th>\n",
       "      <th>due_in_date</th>\n",
       "      <th>total_open_amount</th>\n",
       "      <th>baseline_create_date</th>\n",
       "      <th>cust_payment_terms</th>\n",
       "      <th>invoice_id</th>\n",
       "      <th>isOpen</th>\n",
       "      <th>delay</th>\n",
       "      <th>amount_in_USD</th>\n",
       "      <th>diff_posting_due</th>\n",
       "    </tr>\n",
       "  </thead>\n",
       "  <tbody>\n",
       "    <tr>\n",
       "      <th>0</th>\n",
       "      <td>1</td>\n",
       "      <td>200799367</td>\n",
       "      <td>2019-09-03</td>\n",
       "      <td>0</td>\n",
       "      <td>1.929749e+09</td>\n",
       "      <td>2019-08-16</td>\n",
       "      <td>2019-08-31</td>\n",
       "      <td>0.020770</td>\n",
       "      <td>2019-08-16</td>\n",
       "      <td>21</td>\n",
       "      <td>1.929749e+09</td>\n",
       "      <td>0</td>\n",
       "      <td>3</td>\n",
       "      <td>0.020770</td>\n",
       "      <td>15</td>\n",
       "    </tr>\n",
       "    <tr>\n",
       "      <th>1</th>\n",
       "      <td>1</td>\n",
       "      <td>200759878</td>\n",
       "      <td>2019-02-06</td>\n",
       "      <td>0</td>\n",
       "      <td>1.928645e+09</td>\n",
       "      <td>2019-01-21</td>\n",
       "      <td>2019-02-05</td>\n",
       "      <td>0.048509</td>\n",
       "      <td>2019-01-21</td>\n",
       "      <td>38</td>\n",
       "      <td>1.928645e+09</td>\n",
       "      <td>0</td>\n",
       "      <td>1</td>\n",
       "      <td>0.048509</td>\n",
       "      <td>15</td>\n",
       "    </tr>\n",
       "    <tr>\n",
       "      <th>2</th>\n",
       "      <td>1</td>\n",
       "      <td>200769623</td>\n",
       "      <td>2019-11-12</td>\n",
       "      <td>0</td>\n",
       "      <td>1.930071e+09</td>\n",
       "      <td>2019-10-30</td>\n",
       "      <td>2019-11-14</td>\n",
       "      <td>0.027867</td>\n",
       "      <td>2019-10-30</td>\n",
       "      <td>38</td>\n",
       "      <td>1.930071e+09</td>\n",
       "      <td>0</td>\n",
       "      <td>-2</td>\n",
       "      <td>0.027867</td>\n",
       "      <td>15</td>\n",
       "    </tr>\n",
       "    <tr>\n",
       "      <th>3</th>\n",
       "      <td>1</td>\n",
       "      <td>200769623</td>\n",
       "      <td>2019-04-11</td>\n",
       "      <td>0</td>\n",
       "      <td>1.929024e+09</td>\n",
       "      <td>2019-03-25</td>\n",
       "      <td>2019-04-09</td>\n",
       "      <td>0.000974</td>\n",
       "      <td>2019-03-25</td>\n",
       "      <td>38</td>\n",
       "      <td>1.929024e+09</td>\n",
       "      <td>0</td>\n",
       "      <td>2</td>\n",
       "      <td>0.000974</td>\n",
       "      <td>15</td>\n",
       "    </tr>\n",
       "    <tr>\n",
       "      <th>4</th>\n",
       "      <td>1</td>\n",
       "      <td>200799367</td>\n",
       "      <td>2019-09-04</td>\n",
       "      <td>0</td>\n",
       "      <td>1.929519e+09</td>\n",
       "      <td>2019-06-21</td>\n",
       "      <td>2019-09-04</td>\n",
       "      <td>0.006697</td>\n",
       "      <td>2019-06-21</td>\n",
       "      <td>0</td>\n",
       "      <td>1.929519e+09</td>\n",
       "      <td>0</td>\n",
       "      <td>0</td>\n",
       "      <td>0.006697</td>\n",
       "      <td>75</td>\n",
       "    </tr>\n",
       "  </tbody>\n",
       "</table>\n",
       "</div>"
      ],
      "text/plain": [
       "   business_code  cust_number clear_date  buisness_year        doc_id  \\\n",
       "0              1    200799367 2019-09-03              0  1.929749e+09   \n",
       "1              1    200759878 2019-02-06              0  1.928645e+09   \n",
       "2              1    200769623 2019-11-12              0  1.930071e+09   \n",
       "3              1    200769623 2019-04-11              0  1.929024e+09   \n",
       "4              1    200799367 2019-09-04              0  1.929519e+09   \n",
       "\n",
       "  posting_date due_in_date  total_open_amount baseline_create_date  \\\n",
       "0   2019-08-16  2019-08-31           0.020770           2019-08-16   \n",
       "1   2019-01-21  2019-02-05           0.048509           2019-01-21   \n",
       "2   2019-10-30  2019-11-14           0.027867           2019-10-30   \n",
       "3   2019-03-25  2019-04-09           0.000974           2019-03-25   \n",
       "4   2019-06-21  2019-09-04           0.006697           2019-06-21   \n",
       "\n",
       "   cust_payment_terms    invoice_id  isOpen  delay  amount_in_USD  \\\n",
       "0                  21  1.929749e+09       0      3       0.020770   \n",
       "1                  38  1.928645e+09       0      1       0.048509   \n",
       "2                  38  1.930071e+09       0     -2       0.027867   \n",
       "3                  38  1.929024e+09       0      2       0.000974   \n",
       "4                   0  1.929519e+09       0      0       0.006697   \n",
       "\n",
       "   diff_posting_due  \n",
       "0                15  \n",
       "1                15  \n",
       "2                15  \n",
       "3                15  \n",
       "4                75  "
      ]
     },
     "execution_count": 96,
     "metadata": {},
     "output_type": "execute_result"
    }
   ],
   "source": [
    "df.head()"
   ]
  },
  {
   "cell_type": "code",
   "execution_count": 97,
   "metadata": {},
   "outputs": [],
   "source": [
    "# lets analyze invoice id and doc id"
   ]
  },
  {
   "cell_type": "code",
   "execution_count": 98,
   "metadata": {},
   "outputs": [],
   "source": [
    "df[\"test_diff\"] = df.doc_id- df.invoice_id\n"
   ]
  },
  {
   "cell_type": "code",
   "execution_count": 99,
   "metadata": {},
   "outputs": [
    {
     "data": {
      "text/plain": [
       "0.000000e+00    45656\n",
       "7.490185e+09        1\n",
       "7.490185e+09        1\n",
       "Name: test_diff, dtype: int64"
      ]
     },
     "execution_count": 99,
     "metadata": {},
     "output_type": "execute_result"
    }
   ],
   "source": [
    "df[\"test_diff\"].value_counts()"
   ]
  },
  {
   "cell_type": "code",
   "execution_count": 100,
   "metadata": {},
   "outputs": [
    {
     "data": {
      "text/plain": [
       "(45658,)"
      ]
     },
     "execution_count": 100,
     "metadata": {},
     "output_type": "execute_result"
    }
   ],
   "source": [
    "df[\"doc_id\"].shape"
   ]
  },
  {
   "cell_type": "code",
   "execution_count": 101,
   "metadata": {},
   "outputs": [],
   "source": [
    "del df[\"doc_id\"]"
   ]
  },
  {
   "cell_type": "code",
   "execution_count": 102,
   "metadata": {},
   "outputs": [],
   "source": [
    "del df[\"invoice_id\"]"
   ]
  },
  {
   "cell_type": "markdown",
   "metadata": {},
   "source": [
    "# Splitting of Data"
   ]
  },
  {
   "cell_type": "code",
   "execution_count": 103,
   "metadata": {},
   "outputs": [],
   "source": [
    "df['posting_date'] = pd.to_datetime(df['posting_date'])"
   ]
  },
  {
   "cell_type": "code",
   "execution_count": 104,
   "metadata": {},
   "outputs": [],
   "source": [
    "df.sort_values(by='posting_date',inplace = True)"
   ]
  },
  {
   "cell_type": "code",
   "execution_count": null,
   "metadata": {},
   "outputs": [],
   "source": []
  },
  {
   "cell_type": "code",
   "execution_count": 105,
   "metadata": {},
   "outputs": [],
   "source": [
    "df1 = df[df['isOpen'] == 0]"
   ]
  },
  {
   "cell_type": "code",
   "execution_count": 106,
   "metadata": {},
   "outputs": [
    {
     "data": {
      "text/plain": [
       "(36543, 14)"
      ]
     },
     "execution_count": 106,
     "metadata": {},
     "output_type": "execute_result"
    }
   ],
   "source": [
    "df1.shape"
   ]
  },
  {
   "cell_type": "code",
   "execution_count": 107,
   "metadata": {},
   "outputs": [],
   "source": [
    "df2 = df[df['isOpen'] == 1]"
   ]
  },
  {
   "cell_type": "code",
   "execution_count": 108,
   "metadata": {},
   "outputs": [
    {
     "data": {
      "text/plain": [
       "(9115, 14)"
      ]
     },
     "execution_count": 108,
     "metadata": {},
     "output_type": "execute_result"
    }
   ],
   "source": [
    "df2.shape"
   ]
  },
  {
   "cell_type": "code",
   "execution_count": 109,
   "metadata": {},
   "outputs": [],
   "source": [
    "#convert DATE coloumn to year month day."
   ]
  },
  {
   "cell_type": "code",
   "execution_count": 110,
   "metadata": {},
   "outputs": [
    {
     "name": "stderr",
     "output_type": "stream",
     "text": [
      "C:\\Users\\nk098\\AppData\\Local\\Continuum\\anaconda3\\lib\\site-packages\\ipykernel_launcher.py:1: SettingWithCopyWarning: \n",
      "A value is trying to be set on a copy of a slice from a DataFrame.\n",
      "Try using .loc[row_indexer,col_indexer] = value instead\n",
      "\n",
      "See the caveats in the documentation: http://pandas.pydata.org/pandas-docs/stable/user_guide/indexing.html#returning-a-view-versus-a-copy\n",
      "  \"\"\"Entry point for launching an IPython kernel.\n",
      "C:\\Users\\nk098\\AppData\\Local\\Continuum\\anaconda3\\lib\\site-packages\\ipykernel_launcher.py:2: SettingWithCopyWarning: \n",
      "A value is trying to be set on a copy of a slice from a DataFrame.\n",
      "Try using .loc[row_indexer,col_indexer] = value instead\n",
      "\n",
      "See the caveats in the documentation: http://pandas.pydata.org/pandas-docs/stable/user_guide/indexing.html#returning-a-view-versus-a-copy\n",
      "  \n",
      "C:\\Users\\nk098\\AppData\\Local\\Continuum\\anaconda3\\lib\\site-packages\\ipykernel_launcher.py:3: SettingWithCopyWarning: \n",
      "A value is trying to be set on a copy of a slice from a DataFrame.\n",
      "Try using .loc[row_indexer,col_indexer] = value instead\n",
      "\n",
      "See the caveats in the documentation: http://pandas.pydata.org/pandas-docs/stable/user_guide/indexing.html#returning-a-view-versus-a-copy\n",
      "  This is separate from the ipykernel package so we can avoid doing imports until\n"
     ]
    }
   ],
   "source": [
    "df1['posting_date.day'] = df1['posting_date'].dt.day\n",
    "df1['posting_date.month'] = df1['posting_date'].dt.month\n",
    "df1['posting_date.year'] = df1['posting_date'].dt.year\n"
   ]
  },
  {
   "cell_type": "code",
   "execution_count": 111,
   "metadata": {},
   "outputs": [
    {
     "name": "stderr",
     "output_type": "stream",
     "text": [
      "C:\\Users\\nk098\\AppData\\Local\\Continuum\\anaconda3\\lib\\site-packages\\ipykernel_launcher.py:1: SettingWithCopyWarning: \n",
      "A value is trying to be set on a copy of a slice from a DataFrame.\n",
      "Try using .loc[row_indexer,col_indexer] = value instead\n",
      "\n",
      "See the caveats in the documentation: http://pandas.pydata.org/pandas-docs/stable/user_guide/indexing.html#returning-a-view-versus-a-copy\n",
      "  \"\"\"Entry point for launching an IPython kernel.\n",
      "C:\\Users\\nk098\\AppData\\Local\\Continuum\\anaconda3\\lib\\site-packages\\ipykernel_launcher.py:2: SettingWithCopyWarning: \n",
      "A value is trying to be set on a copy of a slice from a DataFrame.\n",
      "Try using .loc[row_indexer,col_indexer] = value instead\n",
      "\n",
      "See the caveats in the documentation: http://pandas.pydata.org/pandas-docs/stable/user_guide/indexing.html#returning-a-view-versus-a-copy\n",
      "  \n",
      "C:\\Users\\nk098\\AppData\\Local\\Continuum\\anaconda3\\lib\\site-packages\\ipykernel_launcher.py:3: SettingWithCopyWarning: \n",
      "A value is trying to be set on a copy of a slice from a DataFrame.\n",
      "Try using .loc[row_indexer,col_indexer] = value instead\n",
      "\n",
      "See the caveats in the documentation: http://pandas.pydata.org/pandas-docs/stable/user_guide/indexing.html#returning-a-view-versus-a-copy\n",
      "  This is separate from the ipykernel package so we can avoid doing imports until\n"
     ]
    }
   ],
   "source": [
    "df1['baseline_create_date.day'] = df1['baseline_create_date'].dt.day\n",
    "df1['baseline_create_date.month'] = df1['baseline_create_date'].dt.month\n",
    "df1['baseline_create_date'] = df1['baseline_create_date'].dt.year\n"
   ]
  },
  {
   "cell_type": "code",
   "execution_count": 112,
   "metadata": {},
   "outputs": [
    {
     "name": "stderr",
     "output_type": "stream",
     "text": [
      "C:\\Users\\nk098\\AppData\\Local\\Continuum\\anaconda3\\lib\\site-packages\\ipykernel_launcher.py:1: SettingWithCopyWarning: \n",
      "A value is trying to be set on a copy of a slice from a DataFrame.\n",
      "Try using .loc[row_indexer,col_indexer] = value instead\n",
      "\n",
      "See the caveats in the documentation: http://pandas.pydata.org/pandas-docs/stable/user_guide/indexing.html#returning-a-view-versus-a-copy\n",
      "  \"\"\"Entry point for launching an IPython kernel.\n",
      "C:\\Users\\nk098\\AppData\\Local\\Continuum\\anaconda3\\lib\\site-packages\\ipykernel_launcher.py:2: SettingWithCopyWarning: \n",
      "A value is trying to be set on a copy of a slice from a DataFrame.\n",
      "Try using .loc[row_indexer,col_indexer] = value instead\n",
      "\n",
      "See the caveats in the documentation: http://pandas.pydata.org/pandas-docs/stable/user_guide/indexing.html#returning-a-view-versus-a-copy\n",
      "  \n",
      "C:\\Users\\nk098\\AppData\\Local\\Continuum\\anaconda3\\lib\\site-packages\\ipykernel_launcher.py:3: SettingWithCopyWarning: \n",
      "A value is trying to be set on a copy of a slice from a DataFrame.\n",
      "Try using .loc[row_indexer,col_indexer] = value instead\n",
      "\n",
      "See the caveats in the documentation: http://pandas.pydata.org/pandas-docs/stable/user_guide/indexing.html#returning-a-view-versus-a-copy\n",
      "  This is separate from the ipykernel package so we can avoid doing imports until\n"
     ]
    }
   ],
   "source": [
    "df1['due_in_date.day'] = df1['due_in_date'].dt.day\n",
    "df1['due_in_date.month'] = df1['due_in_date'].dt.month\n",
    "df1['due_in_date.year'] = df1['due_in_date'].dt.year\n"
   ]
  },
  {
   "cell_type": "code",
   "execution_count": 113,
   "metadata": {},
   "outputs": [],
   "source": [
    "del df1[\"baseline_create_date\"]"
   ]
  },
  {
   "cell_type": "code",
   "execution_count": 114,
   "metadata": {},
   "outputs": [],
   "source": [
    "del df1[\"due_in_date\"]"
   ]
  },
  {
   "cell_type": "code",
   "execution_count": 115,
   "metadata": {},
   "outputs": [],
   "source": [
    "del df1[\"posting_date\"]"
   ]
  },
  {
   "cell_type": "markdown",
   "metadata": {},
   "source": [
    "# Feature engg"
   ]
  },
  {
   "cell_type": "code",
   "execution_count": 116,
   "metadata": {},
   "outputs": [],
   "source": [
    "import seaborn as sb\n",
    "import matplotlib.pyplot as mp"
   ]
  },
  {
   "cell_type": "code",
   "execution_count": 117,
   "metadata": {},
   "outputs": [
    {
     "data": {
      "image/png": "[encoded data removed]",
      "text/plain": [
       "<Figure size 432x288 with 2 Axes>"
      ]
     },
     "metadata": {
      "needs_background": "light"
     },
     "output_type": "display_data"
    }
   ],
   "source": [
    "dataplot = sb.heatmap(df1.corr(), cmap=\"YlGnBu\", annot=True)"
   ]
  },
  {
   "cell_type": "code",
   "execution_count": 118,
   "metadata": {},
   "outputs": [],
   "source": [
    "#cust no , cust payment terms\n",
    "#buisness code , diff posting due\n",
    "# delay , buisness code \n",
    "# shows good relation ship"
   ]
  },
  {
   "cell_type": "code",
   "execution_count": 119,
   "metadata": {},
   "outputs": [
    {
     "data": {
      "text/html": [
       "<div>\n",
       "<style scoped>\n",
       "    .dataframe tbody tr th:only-of-type {\n",
       "        vertical-align: middle;\n",
       "    }\n",
       "\n",
       "    .dataframe tbody tr th {\n",
       "        vertical-align: top;\n",
       "    }\n",
       "\n",
       "    .dataframe thead th {\n",
       "        text-align: right;\n",
       "    }\n",
       "</style>\n",
       "<table border=\"1\" class=\"dataframe\">\n",
       "  <thead>\n",
       "    <tr style=\"text-align: right;\">\n",
       "      <th></th>\n",
       "      <th>business_code</th>\n",
       "      <th>cust_number</th>\n",
       "      <th>clear_date</th>\n",
       "      <th>buisness_year</th>\n",
       "      <th>total_open_amount</th>\n",
       "      <th>cust_payment_terms</th>\n",
       "      <th>isOpen</th>\n",
       "      <th>delay</th>\n",
       "      <th>amount_in_USD</th>\n",
       "      <th>diff_posting_due</th>\n",
       "      <th>test_diff</th>\n",
       "      <th>posting_date.day</th>\n",
       "      <th>posting_date.month</th>\n",
       "      <th>posting_date.year</th>\n",
       "      <th>baseline_create_date.day</th>\n",
       "      <th>baseline_create_date.month</th>\n",
       "      <th>due_in_date.day</th>\n",
       "      <th>due_in_date.month</th>\n",
       "      <th>due_in_date.year</th>\n",
       "    </tr>\n",
       "  </thead>\n",
       "  <tbody>\n",
       "    <tr>\n",
       "      <th>36760</th>\n",
       "      <td>1</td>\n",
       "      <td>200769623</td>\n",
       "      <td>2019-01-16</td>\n",
       "      <td>0</td>\n",
       "      <td>0.059470</td>\n",
       "      <td>38</td>\n",
       "      <td>0</td>\n",
       "      <td>2</td>\n",
       "      <td>0.059470</td>\n",
       "      <td>15</td>\n",
       "      <td>0.0</td>\n",
       "      <td>30</td>\n",
       "      <td>12</td>\n",
       "      <td>2018</td>\n",
       "      <td>30</td>\n",
       "      <td>12</td>\n",
       "      <td>14</td>\n",
       "      <td>1</td>\n",
       "      <td>2019</td>\n",
       "    </tr>\n",
       "    <tr>\n",
       "      <th>19421</th>\n",
       "      <td>1</td>\n",
       "      <td>200771157</td>\n",
       "      <td>2019-01-18</td>\n",
       "      <td>0</td>\n",
       "      <td>0.118894</td>\n",
       "      <td>21</td>\n",
       "      <td>0</td>\n",
       "      <td>4</td>\n",
       "      <td>0.118894</td>\n",
       "      <td>15</td>\n",
       "      <td>0.0</td>\n",
       "      <td>30</td>\n",
       "      <td>12</td>\n",
       "      <td>2018</td>\n",
       "      <td>30</td>\n",
       "      <td>12</td>\n",
       "      <td>14</td>\n",
       "      <td>1</td>\n",
       "      <td>2019</td>\n",
       "    </tr>\n",
       "    <tr>\n",
       "      <th>42702</th>\n",
       "      <td>1</td>\n",
       "      <td>200769623</td>\n",
       "      <td>2019-01-09</td>\n",
       "      <td>0</td>\n",
       "      <td>0.003298</td>\n",
       "      <td>38</td>\n",
       "      <td>0</td>\n",
       "      <td>-5</td>\n",
       "      <td>0.003298</td>\n",
       "      <td>15</td>\n",
       "      <td>0.0</td>\n",
       "      <td>30</td>\n",
       "      <td>12</td>\n",
       "      <td>2018</td>\n",
       "      <td>30</td>\n",
       "      <td>12</td>\n",
       "      <td>14</td>\n",
       "      <td>1</td>\n",
       "      <td>2019</td>\n",
       "    </tr>\n",
       "    <tr>\n",
       "      <th>21884</th>\n",
       "      <td>1</td>\n",
       "      <td>200769623</td>\n",
       "      <td>2019-01-10</td>\n",
       "      <td>0</td>\n",
       "      <td>0.041971</td>\n",
       "      <td>38</td>\n",
       "      <td>0</td>\n",
       "      <td>-4</td>\n",
       "      <td>0.041971</td>\n",
       "      <td>15</td>\n",
       "      <td>0.0</td>\n",
       "      <td>30</td>\n",
       "      <td>12</td>\n",
       "      <td>2018</td>\n",
       "      <td>30</td>\n",
       "      <td>12</td>\n",
       "      <td>14</td>\n",
       "      <td>1</td>\n",
       "      <td>2019</td>\n",
       "    </tr>\n",
       "    <tr>\n",
       "      <th>27827</th>\n",
       "      <td>1</td>\n",
       "      <td>200769623</td>\n",
       "      <td>2019-01-10</td>\n",
       "      <td>0</td>\n",
       "      <td>0.004689</td>\n",
       "      <td>38</td>\n",
       "      <td>0</td>\n",
       "      <td>-4</td>\n",
       "      <td>0.004689</td>\n",
       "      <td>15</td>\n",
       "      <td>0.0</td>\n",
       "      <td>30</td>\n",
       "      <td>12</td>\n",
       "      <td>2018</td>\n",
       "      <td>30</td>\n",
       "      <td>12</td>\n",
       "      <td>14</td>\n",
       "      <td>1</td>\n",
       "      <td>2019</td>\n",
       "    </tr>\n",
       "  </tbody>\n",
       "</table>\n",
       "</div>"
      ],
      "text/plain": [
       "       business_code  cust_number clear_date  buisness_year  \\\n",
       "36760              1    200769623 2019-01-16              0   \n",
       "19421              1    200771157 2019-01-18              0   \n",
       "42702              1    200769623 2019-01-09              0   \n",
       "21884              1    200769623 2019-01-10              0   \n",
       "27827              1    200769623 2019-01-10              0   \n",
       "\n",
       "       total_open_amount  cust_payment_terms  isOpen  delay  amount_in_USD  \\\n",
       "36760           0.059470                  38       0      2       0.059470   \n",
       "19421           0.118894                  21       0      4       0.118894   \n",
       "42702           0.003298                  38       0     -5       0.003298   \n",
       "21884           0.041971                  38       0     -4       0.041971   \n",
       "27827           0.004689                  38       0     -4       0.004689   \n",
       "\n",
       "       diff_posting_due  test_diff  posting_date.day  posting_date.month  \\\n",
       "36760                15        0.0                30                  12   \n",
       "19421                15        0.0                30                  12   \n",
       "42702                15        0.0                30                  12   \n",
       "21884                15        0.0                30                  12   \n",
       "27827                15        0.0                30                  12   \n",
       "\n",
       "       posting_date.year  baseline_create_date.day  \\\n",
       "36760               2018                        30   \n",
       "19421               2018                        30   \n",
       "42702               2018                        30   \n",
       "21884               2018                        30   \n",
       "27827               2018                        30   \n",
       "\n",
       "       baseline_create_date.month  due_in_date.day  due_in_date.month  \\\n",
       "36760                          12               14                  1   \n",
       "19421                          12               14                  1   \n",
       "42702                          12               14                  1   \n",
       "21884                          12               14                  1   \n",
       "27827                          12               14                  1   \n",
       "\n",
       "       due_in_date.year  \n",
       "36760              2019  \n",
       "19421              2019  \n",
       "42702              2019  \n",
       "21884              2019  \n",
       "27827              2019  "
      ]
     },
     "execution_count": 119,
     "metadata": {},
     "output_type": "execute_result"
    }
   ],
   "source": [
    "df1.head()"
   ]
  },
  {
   "cell_type": "code",
   "execution_count": 120,
   "metadata": {},
   "outputs": [
    {
     "data": {
      "text/plain": [
       "business_code                           int8\n",
       "cust_number                            int64\n",
       "clear_date                    datetime64[ns]\n",
       "buisness_year                           int8\n",
       "total_open_amount                    float64\n",
       "cust_payment_terms                      int8\n",
       "isOpen                                 int64\n",
       "delay                                  int64\n",
       "amount_in_USD                        float64\n",
       "diff_posting_due                       int64\n",
       "test_diff                            float64\n",
       "posting_date.day                       int64\n",
       "posting_date.month                     int64\n",
       "posting_date.year                      int64\n",
       "baseline_create_date.day               int64\n",
       "baseline_create_date.month             int64\n",
       "due_in_date.day                        int64\n",
       "due_in_date.month                      int64\n",
       "due_in_date.year                       int64\n",
       "dtype: object"
      ]
     },
     "execution_count": 120,
     "metadata": {},
     "output_type": "execute_result"
    }
   ],
   "source": [
    "df1.dtypes"
   ]
  },
  {
   "cell_type": "code",
   "execution_count": 121,
   "metadata": {},
   "outputs": [],
   "source": [
    "del df1[\"clear_date\"]"
   ]
  },
  {
   "cell_type": "code",
   "execution_count": 122,
   "metadata": {},
   "outputs": [],
   "source": [
    "del df1[\"diff_posting_due\"]"
   ]
  },
  {
   "cell_type": "code",
   "execution_count": 123,
   "metadata": {},
   "outputs": [],
   "source": [
    "del df1[\"test_diff\"]"
   ]
  },
  {
   "cell_type": "markdown",
   "metadata": {},
   "source": [
    "# train model then loop to feat engg"
   ]
  },
  {
   "cell_type": "code",
   "execution_count": 124,
   "metadata": {},
   "outputs": [],
   "source": [
    "#lets split data into train and test set"
   ]
  },
  {
   "cell_type": "code",
   "execution_count": 125,
   "metadata": {},
   "outputs": [],
   "source": [
    "x=df1.drop('delay',axis=1)"
   ]
  },
  {
   "cell_type": "code",
   "execution_count": 126,
   "metadata": {},
   "outputs": [],
   "source": [
    "y = df1[\"delay\"]"
   ]
  },
  {
   "cell_type": "code",
   "execution_count": 127,
   "metadata": {},
   "outputs": [],
   "source": [
    "from sklearn.model_selection import train_test_split"
   ]
  },
  {
   "cell_type": "code",
   "execution_count": 128,
   "metadata": {},
   "outputs": [],
   "source": [
    "X_train, X_test, y_train, y_test = train_test_split(x, y, test_size=0.2, random_state = 1,shuffle = False)\n",
    "\n",
    "X_train, X_val, y_train, y_val = train_test_split(X_train, y_train, test_size=0.25, random_state=1,shuffle = False)\n"
   ]
  },
  {
   "cell_type": "code",
   "execution_count": 129,
   "metadata": {},
   "outputs": [
    {
     "data": {
      "text/html": [
       "<div>\n",
       "<style scoped>\n",
       "    .dataframe tbody tr th:only-of-type {\n",
       "        vertical-align: middle;\n",
       "    }\n",
       "\n",
       "    .dataframe tbody tr th {\n",
       "        vertical-align: top;\n",
       "    }\n",
       "\n",
       "    .dataframe thead th {\n",
       "        text-align: right;\n",
       "    }\n",
       "</style>\n",
       "<table border=\"1\" class=\"dataframe\">\n",
       "  <thead>\n",
       "    <tr style=\"text-align: right;\">\n",
       "      <th></th>\n",
       "      <th>business_code</th>\n",
       "      <th>cust_number</th>\n",
       "      <th>buisness_year</th>\n",
       "      <th>total_open_amount</th>\n",
       "      <th>cust_payment_terms</th>\n",
       "      <th>isOpen</th>\n",
       "      <th>amount_in_USD</th>\n",
       "      <th>posting_date.day</th>\n",
       "      <th>posting_date.month</th>\n",
       "      <th>posting_date.year</th>\n",
       "      <th>baseline_create_date.day</th>\n",
       "      <th>baseline_create_date.month</th>\n",
       "      <th>due_in_date.day</th>\n",
       "      <th>due_in_date.month</th>\n",
       "      <th>due_in_date.year</th>\n",
       "    </tr>\n",
       "  </thead>\n",
       "  <tbody>\n",
       "    <tr>\n",
       "      <th>36760</th>\n",
       "      <td>1</td>\n",
       "      <td>200769623</td>\n",
       "      <td>0</td>\n",
       "      <td>0.059470</td>\n",
       "      <td>38</td>\n",
       "      <td>0</td>\n",
       "      <td>0.059470</td>\n",
       "      <td>30</td>\n",
       "      <td>12</td>\n",
       "      <td>2018</td>\n",
       "      <td>30</td>\n",
       "      <td>12</td>\n",
       "      <td>14</td>\n",
       "      <td>1</td>\n",
       "      <td>2019</td>\n",
       "    </tr>\n",
       "    <tr>\n",
       "      <th>19421</th>\n",
       "      <td>1</td>\n",
       "      <td>200771157</td>\n",
       "      <td>0</td>\n",
       "      <td>0.118894</td>\n",
       "      <td>21</td>\n",
       "      <td>0</td>\n",
       "      <td>0.118894</td>\n",
       "      <td>30</td>\n",
       "      <td>12</td>\n",
       "      <td>2018</td>\n",
       "      <td>30</td>\n",
       "      <td>12</td>\n",
       "      <td>14</td>\n",
       "      <td>1</td>\n",
       "      <td>2019</td>\n",
       "    </tr>\n",
       "    <tr>\n",
       "      <th>42702</th>\n",
       "      <td>1</td>\n",
       "      <td>200769623</td>\n",
       "      <td>0</td>\n",
       "      <td>0.003298</td>\n",
       "      <td>38</td>\n",
       "      <td>0</td>\n",
       "      <td>0.003298</td>\n",
       "      <td>30</td>\n",
       "      <td>12</td>\n",
       "      <td>2018</td>\n",
       "      <td>30</td>\n",
       "      <td>12</td>\n",
       "      <td>14</td>\n",
       "      <td>1</td>\n",
       "      <td>2019</td>\n",
       "    </tr>\n",
       "    <tr>\n",
       "      <th>21884</th>\n",
       "      <td>1</td>\n",
       "      <td>200769623</td>\n",
       "      <td>0</td>\n",
       "      <td>0.041971</td>\n",
       "      <td>38</td>\n",
       "      <td>0</td>\n",
       "      <td>0.041971</td>\n",
       "      <td>30</td>\n",
       "      <td>12</td>\n",
       "      <td>2018</td>\n",
       "      <td>30</td>\n",
       "      <td>12</td>\n",
       "      <td>14</td>\n",
       "      <td>1</td>\n",
       "      <td>2019</td>\n",
       "    </tr>\n",
       "    <tr>\n",
       "      <th>27827</th>\n",
       "      <td>1</td>\n",
       "      <td>200769623</td>\n",
       "      <td>0</td>\n",
       "      <td>0.004689</td>\n",
       "      <td>38</td>\n",
       "      <td>0</td>\n",
       "      <td>0.004689</td>\n",
       "      <td>30</td>\n",
       "      <td>12</td>\n",
       "      <td>2018</td>\n",
       "      <td>30</td>\n",
       "      <td>12</td>\n",
       "      <td>14</td>\n",
       "      <td>1</td>\n",
       "      <td>2019</td>\n",
       "    </tr>\n",
       "  </tbody>\n",
       "</table>\n",
       "</div>"
      ],
      "text/plain": [
       "       business_code  cust_number  buisness_year  total_open_amount  \\\n",
       "36760              1    200769623              0           0.059470   \n",
       "19421              1    200771157              0           0.118894   \n",
       "42702              1    200769623              0           0.003298   \n",
       "21884              1    200769623              0           0.041971   \n",
       "27827              1    200769623              0           0.004689   \n",
       "\n",
       "       cust_payment_terms  isOpen  amount_in_USD  posting_date.day  \\\n",
       "36760                  38       0       0.059470                30   \n",
       "19421                  21       0       0.118894                30   \n",
       "42702                  38       0       0.003298                30   \n",
       "21884                  38       0       0.041971                30   \n",
       "27827                  38       0       0.004689                30   \n",
       "\n",
       "       posting_date.month  posting_date.year  baseline_create_date.day  \\\n",
       "36760                  12               2018                        30   \n",
       "19421                  12               2018                        30   \n",
       "42702                  12               2018                        30   \n",
       "21884                  12               2018                        30   \n",
       "27827                  12               2018                        30   \n",
       "\n",
       "       baseline_create_date.month  due_in_date.day  due_in_date.month  \\\n",
       "36760                          12               14                  1   \n",
       "19421                          12               14                  1   \n",
       "42702                          12               14                  1   \n",
       "21884                          12               14                  1   \n",
       "27827                          12               14                  1   \n",
       "\n",
       "       due_in_date.year  \n",
       "36760              2019  \n",
       "19421              2019  \n",
       "42702              2019  \n",
       "21884              2019  \n",
       "27827              2019  "
      ]
     },
     "execution_count": 129,
     "metadata": {},
     "output_type": "execute_result"
    }
   ],
   "source": [
    "X_train.head()"
   ]
  },
  {
   "cell_type": "code",
   "execution_count": null,
   "metadata": {},
   "outputs": [],
   "source": []
  },
  {
   "cell_type": "markdown",
   "metadata": {},
   "source": [
    "# lets create a base model"
   ]
  },
  {
   "cell_type": "code",
   "execution_count": 130,
   "metadata": {},
   "outputs": [
    {
     "data": {
      "text/plain": [
       "LinearRegression(copy_X=True, fit_intercept=True, n_jobs=None, normalize=False)"
      ]
     },
     "execution_count": 130,
     "metadata": {},
     "output_type": "execute_result"
    }
   ],
   "source": [
    "from sklearn.linear_model import LinearRegression\n",
    "base_model = LinearRegression()\n",
    "base_model.fit(X_train, y_train)"
   ]
  },
  {
   "cell_type": "code",
   "execution_count": 131,
   "metadata": {},
   "outputs": [],
   "source": [
    "y_predict = base_model.predict(X_val)"
   ]
  },
  {
   "cell_type": "code",
   "execution_count": 133,
   "metadata": {},
   "outputs": [
    {
     "data": {
      "text/plain": [
       "44.1547353954723"
      ]
     },
     "execution_count": 133,
     "metadata": {},
     "output_type": "execute_result"
    }
   ],
   "source": [
    "from sklearn.metrics import mean_squared_error\n",
    "\n",
    "mean_squared_error(y_val, y_predict)"
   ]
  },
  {
   "cell_type": "markdown",
   "metadata": {},
   "source": [
    "# check for over or under fitting"
   ]
  },
  {
   "cell_type": "code",
   "execution_count": 135,
   "metadata": {},
   "outputs": [
    {
     "data": {
      "text/plain": [
       "1073.5360499968665"
      ]
     },
     "execution_count": 135,
     "metadata": {},
     "output_type": "execute_result"
    }
   ],
   "source": [
    "y_predict_test = base_model.predict(X_test)\n",
    "mean_squared_error(y_test, y_predict_test)"
   ]
  },
  {
   "cell_type": "markdown",
   "metadata": {},
   "source": [
    "# model is overfitting 44 on val set and 1073 on test set again loop to feature engg"
   ]
  },
  {
   "cell_type": "code",
   "execution_count": null,
   "metadata": {},
   "outputs": [],
   "source": []
  },
  {
   "cell_type": "code",
   "execution_count": null,
   "metadata": {},
   "outputs": [],
   "source": []
  },
  {
   "cell_type": "code",
   "execution_count": null,
   "metadata": {},
   "outputs": [],
   "source": []
  },
  {
   "cell_type": "code",
   "execution_count": null,
   "metadata": {},
   "outputs": [],
   "source": []
  },
  {
   "cell_type": "code",
   "execution_count": null,
   "metadata": {},
   "outputs": [],
   "source": []
  },
  {
   "cell_type": "code",
   "execution_count": null,
   "metadata": {},
   "outputs": [],
   "source": []
  },
  {
   "cell_type": "code",
   "execution_count": null,
   "metadata": {},
   "outputs": [],
   "source": []
  },
  {
   "cell_type": "code",
   "execution_count": null,
   "metadata": {},
   "outputs": [],
   "source": []
  },
  {
   "cell_type": "code",
   "execution_count": null,
   "metadata": {},
   "outputs": [],
   "source": []
  },
  {
   "cell_type": "code",
   "execution_count": null,
   "metadata": {},
   "outputs": [],
   "source": []
  },
  {
   "cell_type": "code",
   "execution_count": null,
   "metadata": {},
   "outputs": [],
   "source": []
  },
  {
   "cell_type": "code",
   "execution_count": null,
   "metadata": {},
   "outputs": [],
   "source": []
  },
  {
   "cell_type": "code",
   "execution_count": null,
   "metadata": {},
   "outputs": [],
   "source": []
  },
  {
   "cell_type": "code",
   "execution_count": null,
   "metadata": {},
   "outputs": [],
   "source": []
  },
  {
   "cell_type": "code",
   "execution_count": null,
   "metadata": {},
   "outputs": [],
   "source": []
  },
  {
   "cell_type": "code",
   "execution_count": null,
   "metadata": {},
   "outputs": [],
   "source": []
  },
  {
   "cell_type": "code",
   "execution_count": null,
   "metadata": {},
   "outputs": [],
   "source": []
  },
  {
   "cell_type": "code",
   "execution_count": null,
   "metadata": {},
   "outputs": [],
   "source": []
  },
  {
   "cell_type": "code",
   "execution_count": null,
   "metadata": {},
   "outputs": [],
   "source": []
  },
  {
   "cell_type": "code",
   "execution_count": null,
   "metadata": {},
   "outputs": [],
   "source": []
  },
  {
   "cell_type": "code",
   "execution_count": null,
   "metadata": {},
   "outputs": [],
   "source": []
  },
  {
   "cell_type": "code",
   "execution_count": null,
   "metadata": {},
   "outputs": [],
   "source": []
  },
  {
   "cell_type": "code",
   "execution_count": null,
   "metadata": {},
   "outputs": [],
   "source": []
  },
  {
   "cell_type": "code",
   "execution_count": null,
   "metadata": {},
   "outputs": [],
   "source": []
  },
  {
   "cell_type": "code",
   "execution_count": null,
   "metadata": {},
   "outputs": [],
   "source": []
  },
  {
   "cell_type": "code",
   "execution_count": null,
   "metadata": {},
   "outputs": [],
   "source": []
  },
  {
   "cell_type": "code",
   "execution_count": null,
   "metadata": {},
   "outputs": [],
   "source": []
  },
  {
   "cell_type": "code",
   "execution_count": null,
   "metadata": {},
   "outputs": [],
   "source": []
  }
 ],
 "metadata": {
  "kernelspec": {
   "display_name": "Python 3",
   "language": "python",
   "name": "python3"
  },
  "language_info": {
   "codemirror_mode": {
    "name": "ipython",
    "version": 3
   },
   "file_extension": ".py",
   "mimetype": "text/x-python",
   "name": "python",
   "nbconvert_exporter": "python",
   "pygments_lexer": "ipython3",
   "version": "3.7.3"
  }
 },
 "nbformat": 4,
 "nbformat_minor": 2
}
