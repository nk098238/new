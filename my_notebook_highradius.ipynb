{
 "cells": [
  {
   "cell_type": "code",
   "execution_count": 1,
   "metadata": {},
   "outputs": [],
   "source": [
    "import pandas as pd"
   ]
  },
  {
   "cell_type": "code",
   "execution_count": 2,
   "metadata": {},
   "outputs": [],
   "source": [
    "import numpy as np\n",
    "\n"
   ]
  },
  {
   "cell_type": "code",
   "execution_count": 3,
   "metadata": {},
   "outputs": [],
   "source": [
    "df = pd.read_csv(\"C:/Users/nk098/Desktop/H2HBABBA1752.csv\")"
   ]
  },
  {
   "cell_type": "code",
   "execution_count": 4,
   "metadata": {},
   "outputs": [
    {
     "data": {
      "text/html": [
       "<div>\n",
       "<style scoped>\n",
       "    .dataframe tbody tr th:only-of-type {\n",
       "        vertical-align: middle;\n",
       "    }\n",
       "\n",
       "    .dataframe tbody tr th {\n",
       "        vertical-align: top;\n",
       "    }\n",
       "\n",
       "    .dataframe thead th {\n",
       "        text-align: right;\n",
       "    }\n",
       "</style>\n",
       "<table border=\"1\" class=\"dataframe\">\n",
       "  <thead>\n",
       "    <tr style=\"text-align: right;\">\n",
       "      <th></th>\n",
       "      <th>business_code</th>\n",
       "      <th>cust_number</th>\n",
       "      <th>name_customer</th>\n",
       "      <th>clear_date</th>\n",
       "      <th>buisness_year</th>\n",
       "      <th>doc_id</th>\n",
       "      <th>posting_date</th>\n",
       "      <th>document_create_date</th>\n",
       "      <th>document_create_date.1</th>\n",
       "      <th>due_in_date</th>\n",
       "      <th>invoice_currency</th>\n",
       "      <th>document type</th>\n",
       "      <th>posting_id</th>\n",
       "      <th>area_business</th>\n",
       "      <th>total_open_amount</th>\n",
       "      <th>baseline_create_date</th>\n",
       "      <th>cust_payment_terms</th>\n",
       "      <th>invoice_id</th>\n",
       "      <th>isOpen</th>\n",
       "    </tr>\n",
       "  </thead>\n",
       "  <tbody>\n",
       "    <tr>\n",
       "      <th>0</th>\n",
       "      <td>U001</td>\n",
       "      <td>0200799367</td>\n",
       "      <td>MCL associates</td>\n",
       "      <td>2019-09-03 00:00:00</td>\n",
       "      <td>2019.0</td>\n",
       "      <td>1.929749e+09</td>\n",
       "      <td>2019-08-16</td>\n",
       "      <td>20190815</td>\n",
       "      <td>20190816</td>\n",
       "      <td>20190831.0</td>\n",
       "      <td>USD</td>\n",
       "      <td>RV</td>\n",
       "      <td>1.0</td>\n",
       "      <td>NaN</td>\n",
       "      <td>13712.63</td>\n",
       "      <td>20190816.0</td>\n",
       "      <td>NAA8</td>\n",
       "      <td>1.929749e+09</td>\n",
       "      <td>0</td>\n",
       "    </tr>\n",
       "    <tr>\n",
       "      <th>1</th>\n",
       "      <td>U001</td>\n",
       "      <td>0200759878</td>\n",
       "      <td>SA corp</td>\n",
       "      <td>2019-02-06 00:00:00</td>\n",
       "      <td>2019.0</td>\n",
       "      <td>1.928645e+09</td>\n",
       "      <td>2019-01-21</td>\n",
       "      <td>20190118</td>\n",
       "      <td>20190121</td>\n",
       "      <td>20190205.0</td>\n",
       "      <td>USD</td>\n",
       "      <td>RV</td>\n",
       "      <td>1.0</td>\n",
       "      <td>NaN</td>\n",
       "      <td>32026.14</td>\n",
       "      <td>20190121.0</td>\n",
       "      <td>NAH4</td>\n",
       "      <td>1.928645e+09</td>\n",
       "      <td>0</td>\n",
       "    </tr>\n",
       "    <tr>\n",
       "      <th>2</th>\n",
       "      <td>U001</td>\n",
       "      <td>0200769623</td>\n",
       "      <td>WAL-MAR us</td>\n",
       "      <td>2019-11-12 00:00:00</td>\n",
       "      <td>2019.0</td>\n",
       "      <td>1.930071e+09</td>\n",
       "      <td>2019-10-30</td>\n",
       "      <td>20191029</td>\n",
       "      <td>20191030</td>\n",
       "      <td>20191114.0</td>\n",
       "      <td>USD</td>\n",
       "      <td>RV</td>\n",
       "      <td>1.0</td>\n",
       "      <td>NaN</td>\n",
       "      <td>18398.17</td>\n",
       "      <td>20191030.0</td>\n",
       "      <td>NAH4</td>\n",
       "      <td>1.930071e+09</td>\n",
       "      <td>0</td>\n",
       "    </tr>\n",
       "    <tr>\n",
       "      <th>3</th>\n",
       "      <td>U001</td>\n",
       "      <td>0200769623</td>\n",
       "      <td>WAL-MAR</td>\n",
       "      <td>2019-04-11 00:00:00</td>\n",
       "      <td>2019.0</td>\n",
       "      <td>1.929024e+09</td>\n",
       "      <td>2019-03-25</td>\n",
       "      <td>20190325</td>\n",
       "      <td>20190325</td>\n",
       "      <td>20190409.0</td>\n",
       "      <td>USD</td>\n",
       "      <td>RV</td>\n",
       "      <td>1.0</td>\n",
       "      <td>NaN</td>\n",
       "      <td>643.47</td>\n",
       "      <td>20190325.0</td>\n",
       "      <td>NAH4</td>\n",
       "      <td>1.929024e+09</td>\n",
       "      <td>0</td>\n",
       "    </tr>\n",
       "    <tr>\n",
       "      <th>4</th>\n",
       "      <td>U001</td>\n",
       "      <td>0200799367</td>\n",
       "      <td>MCL corporation</td>\n",
       "      <td>2019-09-04 00:00:00</td>\n",
       "      <td>2019.0</td>\n",
       "      <td>1.929519e+09</td>\n",
       "      <td>2019-06-21</td>\n",
       "      <td>20190620</td>\n",
       "      <td>20190621</td>\n",
       "      <td>20190904.0</td>\n",
       "      <td>USD</td>\n",
       "      <td>RV</td>\n",
       "      <td>1.0</td>\n",
       "      <td>NaN</td>\n",
       "      <td>4421.76</td>\n",
       "      <td>20190621.0</td>\n",
       "      <td>NAWN</td>\n",
       "      <td>1.929519e+09</td>\n",
       "      <td>0</td>\n",
       "    </tr>\n",
       "  </tbody>\n",
       "</table>\n",
       "</div>"
      ],
      "text/plain": [
       "  business_code cust_number    name_customer           clear_date  \\\n",
       "0          U001  0200799367   MCL associates  2019-09-03 00:00:00   \n",
       "1          U001  0200759878          SA corp  2019-02-06 00:00:00   \n",
       "2          U001  0200769623       WAL-MAR us  2019-11-12 00:00:00   \n",
       "3          U001  0200769623         WAL-MAR   2019-04-11 00:00:00   \n",
       "4          U001  0200799367  MCL corporation  2019-09-04 00:00:00   \n",
       "\n",
       "   buisness_year        doc_id posting_date  document_create_date  \\\n",
       "0         2019.0  1.929749e+09   2019-08-16              20190815   \n",
       "1         2019.0  1.928645e+09   2019-01-21              20190118   \n",
       "2         2019.0  1.930071e+09   2019-10-30              20191029   \n",
       "3         2019.0  1.929024e+09   2019-03-25              20190325   \n",
       "4         2019.0  1.929519e+09   2019-06-21              20190620   \n",
       "\n",
       "   document_create_date.1  due_in_date invoice_currency document type  \\\n",
       "0                20190816   20190831.0              USD            RV   \n",
       "1                20190121   20190205.0              USD            RV   \n",
       "2                20191030   20191114.0              USD            RV   \n",
       "3                20190325   20190409.0              USD            RV   \n",
       "4                20190621   20190904.0              USD            RV   \n",
       "\n",
       "   posting_id  area_business  total_open_amount  baseline_create_date  \\\n",
       "0         1.0            NaN           13712.63            20190816.0   \n",
       "1         1.0            NaN           32026.14            20190121.0   \n",
       "2         1.0            NaN           18398.17            20191030.0   \n",
       "3         1.0            NaN             643.47            20190325.0   \n",
       "4         1.0            NaN            4421.76            20190621.0   \n",
       "\n",
       "  cust_payment_terms    invoice_id  isOpen  \n",
       "0               NAA8  1.929749e+09       0  \n",
       "1               NAH4  1.928645e+09       0  \n",
       "2               NAH4  1.930071e+09       0  \n",
       "3               NAH4  1.929024e+09       0  \n",
       "4               NAWN  1.929519e+09       0  "
      ]
     },
     "execution_count": 4,
     "metadata": {},
     "output_type": "execute_result"
    }
   ],
   "source": [
    "df.head()"
   ]
  },
  {
   "cell_type": "markdown",
   "metadata": {},
   "source": [
    "# EXPLORATORY DATA ANALYSIS"
   ]
  },
  {
   "cell_type": "code",
   "execution_count": 5,
   "metadata": {},
   "outputs": [
    {
     "data": {
      "text/plain": [
       "(50000, 19)"
      ]
     },
     "execution_count": 5,
     "metadata": {},
     "output_type": "execute_result"
    }
   ],
   "source": [
    "df.shape"
   ]
  },
  {
   "cell_type": "code",
   "execution_count": 6,
   "metadata": {},
   "outputs": [
    {
     "data": {
      "text/html": [
       "<div>\n",
       "<style scoped>\n",
       "    .dataframe tbody tr th:only-of-type {\n",
       "        vertical-align: middle;\n",
       "    }\n",
       "\n",
       "    .dataframe tbody tr th {\n",
       "        vertical-align: top;\n",
       "    }\n",
       "\n",
       "    .dataframe thead th {\n",
       "        text-align: right;\n",
       "    }\n",
       "</style>\n",
       "<table border=\"1\" class=\"dataframe\">\n",
       "  <thead>\n",
       "    <tr style=\"text-align: right;\">\n",
       "      <th></th>\n",
       "      <th>buisness_year</th>\n",
       "      <th>doc_id</th>\n",
       "      <th>document_create_date</th>\n",
       "      <th>document_create_date.1</th>\n",
       "      <th>due_in_date</th>\n",
       "      <th>posting_id</th>\n",
       "      <th>area_business</th>\n",
       "      <th>total_open_amount</th>\n",
       "      <th>baseline_create_date</th>\n",
       "      <th>invoice_id</th>\n",
       "      <th>isOpen</th>\n",
       "    </tr>\n",
       "  </thead>\n",
       "  <tbody>\n",
       "    <tr>\n",
       "      <th>count</th>\n",
       "      <td>50000.000000</td>\n",
       "      <td>5.000000e+04</td>\n",
       "      <td>5.000000e+04</td>\n",
       "      <td>5.000000e+04</td>\n",
       "      <td>5.000000e+04</td>\n",
       "      <td>50000.0</td>\n",
       "      <td>0.0</td>\n",
       "      <td>50000.000000</td>\n",
       "      <td>5.000000e+04</td>\n",
       "      <td>4.999800e+04</td>\n",
       "      <td>50000.000000</td>\n",
       "    </tr>\n",
       "    <tr>\n",
       "      <th>mean</th>\n",
       "      <td>2019.308040</td>\n",
       "      <td>2.010115e+09</td>\n",
       "      <td>2.019353e+07</td>\n",
       "      <td>2.019356e+07</td>\n",
       "      <td>2.019370e+07</td>\n",
       "      <td>1.0</td>\n",
       "      <td>NaN</td>\n",
       "      <td>32426.031044</td>\n",
       "      <td>2.019356e+07</td>\n",
       "      <td>2.009815e+09</td>\n",
       "      <td>0.200000</td>\n",
       "    </tr>\n",
       "    <tr>\n",
       "      <th>std</th>\n",
       "      <td>0.461688</td>\n",
       "      <td>2.783064e+08</td>\n",
       "      <td>4.512331e+03</td>\n",
       "      <td>4.491574e+03</td>\n",
       "      <td>4.480082e+03</td>\n",
       "      <td>0.0</td>\n",
       "      <td>NaN</td>\n",
       "      <td>39225.641670</td>\n",
       "      <td>4.491196e+03</td>\n",
       "      <td>2.742506e+08</td>\n",
       "      <td>0.400004</td>\n",
       "    </tr>\n",
       "    <tr>\n",
       "      <th>min</th>\n",
       "      <td>2019.000000</td>\n",
       "      <td>1.928490e+09</td>\n",
       "      <td>2.018123e+07</td>\n",
       "      <td>2.018123e+07</td>\n",
       "      <td>2.018122e+07</td>\n",
       "      <td>1.0</td>\n",
       "      <td>NaN</td>\n",
       "      <td>0.170000</td>\n",
       "      <td>2.018121e+07</td>\n",
       "      <td>1.928490e+09</td>\n",
       "      <td>0.000000</td>\n",
       "    </tr>\n",
       "    <tr>\n",
       "      <th>25%</th>\n",
       "      <td>2019.000000</td>\n",
       "      <td>1.929341e+09</td>\n",
       "      <td>2.019051e+07</td>\n",
       "      <td>2.019051e+07</td>\n",
       "      <td>2.019052e+07</td>\n",
       "      <td>1.0</td>\n",
       "      <td>NaN</td>\n",
       "      <td>4936.550000</td>\n",
       "      <td>2.019051e+07</td>\n",
       "      <td>1.929341e+09</td>\n",
       "      <td>0.000000</td>\n",
       "    </tr>\n",
       "    <tr>\n",
       "      <th>50%</th>\n",
       "      <td>2019.000000</td>\n",
       "      <td>1.929975e+09</td>\n",
       "      <td>2.019091e+07</td>\n",
       "      <td>2.019091e+07</td>\n",
       "      <td>2.019093e+07</td>\n",
       "      <td>1.0</td>\n",
       "      <td>NaN</td>\n",
       "      <td>17633.360000</td>\n",
       "      <td>2.019091e+07</td>\n",
       "      <td>1.929974e+09</td>\n",
       "      <td>0.000000</td>\n",
       "    </tr>\n",
       "    <tr>\n",
       "      <th>75%</th>\n",
       "      <td>2020.000000</td>\n",
       "      <td>1.930619e+09</td>\n",
       "      <td>2.020013e+07</td>\n",
       "      <td>2.020013e+07</td>\n",
       "      <td>2.020022e+07</td>\n",
       "      <td>1.0</td>\n",
       "      <td>NaN</td>\n",
       "      <td>47237.297500</td>\n",
       "      <td>2.020020e+07</td>\n",
       "      <td>1.930619e+09</td>\n",
       "      <td>0.000000</td>\n",
       "    </tr>\n",
       "    <tr>\n",
       "      <th>max</th>\n",
       "      <td>2020.000000</td>\n",
       "      <td>9.500000e+09</td>\n",
       "      <td>2.020052e+07</td>\n",
       "      <td>2.020052e+07</td>\n",
       "      <td>2.020071e+07</td>\n",
       "      <td>1.0</td>\n",
       "      <td>NaN</td>\n",
       "      <td>660202.550000</td>\n",
       "      <td>2.020052e+07</td>\n",
       "      <td>2.960636e+09</td>\n",
       "      <td>1.000000</td>\n",
       "    </tr>\n",
       "  </tbody>\n",
       "</table>\n",
       "</div>"
      ],
      "text/plain": [
       "       buisness_year        doc_id  document_create_date  \\\n",
       "count   50000.000000  5.000000e+04          5.000000e+04   \n",
       "mean     2019.308040  2.010115e+09          2.019353e+07   \n",
       "std         0.461688  2.783064e+08          4.512331e+03   \n",
       "min      2019.000000  1.928490e+09          2.018123e+07   \n",
       "25%      2019.000000  1.929341e+09          2.019051e+07   \n",
       "50%      2019.000000  1.929975e+09          2.019091e+07   \n",
       "75%      2020.000000  1.930619e+09          2.020013e+07   \n",
       "max      2020.000000  9.500000e+09          2.020052e+07   \n",
       "\n",
       "       document_create_date.1   due_in_date  posting_id  area_business  \\\n",
       "count            5.000000e+04  5.000000e+04     50000.0            0.0   \n",
       "mean             2.019356e+07  2.019370e+07         1.0            NaN   \n",
       "std              4.491574e+03  4.480082e+03         0.0            NaN   \n",
       "min              2.018123e+07  2.018122e+07         1.0            NaN   \n",
       "25%              2.019051e+07  2.019052e+07         1.0            NaN   \n",
       "50%              2.019091e+07  2.019093e+07         1.0            NaN   \n",
       "75%              2.020013e+07  2.020022e+07         1.0            NaN   \n",
       "max              2.020052e+07  2.020071e+07         1.0            NaN   \n",
       "\n",
       "       total_open_amount  baseline_create_date    invoice_id        isOpen  \n",
       "count       50000.000000          5.000000e+04  4.999800e+04  50000.000000  \n",
       "mean        32426.031044          2.019356e+07  2.009815e+09      0.200000  \n",
       "std         39225.641670          4.491196e+03  2.742506e+08      0.400004  \n",
       "min             0.170000          2.018121e+07  1.928490e+09      0.000000  \n",
       "25%          4936.550000          2.019051e+07  1.929341e+09      0.000000  \n",
       "50%         17633.360000          2.019091e+07  1.929974e+09      0.000000  \n",
       "75%         47237.297500          2.020020e+07  1.930619e+09      0.000000  \n",
       "max        660202.550000          2.020052e+07  2.960636e+09      1.000000  "
      ]
     },
     "execution_count": 6,
     "metadata": {},
     "output_type": "execute_result"
    }
   ],
   "source": [
    "df.describe()"
   ]
  },
  {
   "cell_type": "code",
   "execution_count": 7,
   "metadata": {},
   "outputs": [
    {
     "data": {
      "text/plain": [
       "Index(['business_code', 'cust_number', 'name_customer', 'clear_date',\n",
       "       'buisness_year', 'doc_id', 'posting_date', 'document_create_date',\n",
       "       'document_create_date.1', 'due_in_date', 'invoice_currency',\n",
       "       'document type', 'posting_id', 'area_business', 'total_open_amount',\n",
       "       'baseline_create_date', 'cust_payment_terms', 'invoice_id', 'isOpen'],\n",
       "      dtype='object')"
      ]
     },
     "execution_count": 7,
     "metadata": {},
     "output_type": "execute_result"
    }
   ],
   "source": [
    "df.columns"
   ]
  },
  {
   "cell_type": "code",
   "execution_count": 8,
   "metadata": {},
   "outputs": [],
   "source": [
    "#freq table"
   ]
  },
  {
   "cell_type": "code",
   "execution_count": 9,
   "metadata": {},
   "outputs": [
    {
     "data": {
      "text/html": [
       "<div>\n",
       "<style scoped>\n",
       "    .dataframe tbody tr th:only-of-type {\n",
       "        vertical-align: middle;\n",
       "    }\n",
       "\n",
       "    .dataframe tbody tr th {\n",
       "        vertical-align: top;\n",
       "    }\n",
       "\n",
       "    .dataframe thead th {\n",
       "        text-align: right;\n",
       "    }\n",
       "</style>\n",
       "<table border=\"1\" class=\"dataframe\">\n",
       "  <thead>\n",
       "    <tr style=\"text-align: right;\">\n",
       "      <th></th>\n",
       "      <th>Counts</th>\n",
       "    </tr>\n",
       "  </thead>\n",
       "  <tbody>\n",
       "    <tr>\n",
       "      <th>business_code</th>\n",
       "      <td>6</td>\n",
       "    </tr>\n",
       "    <tr>\n",
       "      <th>cust_number</th>\n",
       "      <td>1433</td>\n",
       "    </tr>\n",
       "    <tr>\n",
       "      <th>name_customer</th>\n",
       "      <td>4221</td>\n",
       "    </tr>\n",
       "    <tr>\n",
       "      <th>clear_date</th>\n",
       "      <td>405</td>\n",
       "    </tr>\n",
       "    <tr>\n",
       "      <th>buisness_year</th>\n",
       "      <td>2</td>\n",
       "    </tr>\n",
       "    <tr>\n",
       "      <th>doc_id</th>\n",
       "      <td>48777</td>\n",
       "    </tr>\n",
       "    <tr>\n",
       "      <th>posting_date</th>\n",
       "      <td>506</td>\n",
       "    </tr>\n",
       "    <tr>\n",
       "      <th>document_create_date</th>\n",
       "      <td>508</td>\n",
       "    </tr>\n",
       "    <tr>\n",
       "      <th>document_create_date.1</th>\n",
       "      <td>506</td>\n",
       "    </tr>\n",
       "    <tr>\n",
       "      <th>due_in_date</th>\n",
       "      <td>549</td>\n",
       "    </tr>\n",
       "    <tr>\n",
       "      <th>invoice_currency</th>\n",
       "      <td>2</td>\n",
       "    </tr>\n",
       "    <tr>\n",
       "      <th>document type</th>\n",
       "      <td>2</td>\n",
       "    </tr>\n",
       "    <tr>\n",
       "      <th>posting_id</th>\n",
       "      <td>1</td>\n",
       "    </tr>\n",
       "    <tr>\n",
       "      <th>area_business</th>\n",
       "      <td>0</td>\n",
       "    </tr>\n",
       "    <tr>\n",
       "      <th>total_open_amount</th>\n",
       "      <td>44091</td>\n",
       "    </tr>\n",
       "    <tr>\n",
       "      <th>baseline_create_date</th>\n",
       "      <td>507</td>\n",
       "    </tr>\n",
       "    <tr>\n",
       "      <th>cust_payment_terms</th>\n",
       "      <td>75</td>\n",
       "    </tr>\n",
       "    <tr>\n",
       "      <th>invoice_id</th>\n",
       "      <td>48775</td>\n",
       "    </tr>\n",
       "    <tr>\n",
       "      <th>isOpen</th>\n",
       "      <td>2</td>\n",
       "    </tr>\n",
       "  </tbody>\n",
       "</table>\n",
       "</div>"
      ],
      "text/plain": [
       "                        Counts\n",
       "business_code                6\n",
       "cust_number               1433\n",
       "name_customer             4221\n",
       "clear_date                 405\n",
       "buisness_year                2\n",
       "doc_id                   48777\n",
       "posting_date               506\n",
       "document_create_date       508\n",
       "document_create_date.1     506\n",
       "due_in_date                549\n",
       "invoice_currency             2\n",
       "document type                2\n",
       "posting_id                   1\n",
       "area_business                0\n",
       "total_open_amount        44091\n",
       "baseline_create_date       507\n",
       "cust_payment_terms          75\n",
       "invoice_id               48775\n",
       "isOpen                       2"
      ]
     },
     "execution_count": 9,
     "metadata": {},
     "output_type": "execute_result"
    }
   ],
   "source": [
    "coun_t  = df.nunique().to_frame(name = 'Counts')\n",
    "coun_t"
   ]
  },
  {
   "cell_type": "code",
   "execution_count": 10,
   "metadata": {},
   "outputs": [],
   "source": [
    "import matplotlib.pyplot as plt"
   ]
  },
  {
   "cell_type": "code",
   "execution_count": null,
   "metadata": {},
   "outputs": [],
   "source": []
  },
  {
   "cell_type": "code",
   "execution_count": 11,
   "metadata": {},
   "outputs": [
    {
     "data": {
      "image/png": "[encoded data removed]",
      "text/plain": [
       "<Figure size 2520x720 with 1 Axes>"
      ]
     },
     "metadata": {},
     "output_type": "display_data"
    }
   ],
   "source": [
    "plt.style.use('dark_background')\n",
    "\n",
    "x_val = coun_t.index\n",
    "y_val = coun_t.values.reshape(coun_t.shape[0])\n",
    "plt.figure(figsize = (35,10))\n",
    "plt.bar(x_val,y_val,color='maroon')\n",
    "plt.show()"
   ]
  },
  {
   "cell_type": "code",
   "execution_count": 12,
   "metadata": {},
   "outputs": [],
   "source": [
    "#most freq term"
   ]
  },
  {
   "cell_type": "code",
   "execution_count": 13,
   "metadata": {},
   "outputs": [
    {
     "data": {
      "text/html": [
       "<div>\n",
       "<style scoped>\n",
       "    .dataframe tbody tr th:only-of-type {\n",
       "        vertical-align: middle;\n",
       "    }\n",
       "\n",
       "    .dataframe tbody tr th {\n",
       "        vertical-align: top;\n",
       "    }\n",
       "\n",
       "    .dataframe thead th {\n",
       "        text-align: right;\n",
       "    }\n",
       "</style>\n",
       "<table border=\"1\" class=\"dataframe\">\n",
       "  <thead>\n",
       "    <tr style=\"text-align: right;\">\n",
       "      <th></th>\n",
       "      <th>business_code</th>\n",
       "      <th>buisness_year</th>\n",
       "      <th>invoice_currency</th>\n",
       "      <th>document type</th>\n",
       "      <th>cust_payment_terms</th>\n",
       "      <th>isOpen</th>\n",
       "    </tr>\n",
       "  </thead>\n",
       "  <tbody>\n",
       "    <tr>\n",
       "      <th>0</th>\n",
       "      <td>U001</td>\n",
       "      <td>2019.0</td>\n",
       "      <td>USD</td>\n",
       "      <td>RV</td>\n",
       "      <td>NAA8</td>\n",
       "      <td>0</td>\n",
       "    </tr>\n",
       "  </tbody>\n",
       "</table>\n",
       "</div>"
      ],
      "text/plain": [
       "  business_code  buisness_year invoice_currency document type  \\\n",
       "0          U001         2019.0              USD            RV   \n",
       "\n",
       "  cust_payment_terms  isOpen  \n",
       "0               NAA8       0  "
      ]
     },
     "execution_count": 13,
     "metadata": {},
     "output_type": "execute_result"
    }
   ],
   "source": [
    "df[['business_code','buisness_year','invoice_currency','document type','cust_payment_terms','isOpen']].agg(pd.Series.mode)"
   ]
  },
  {
   "cell_type": "markdown",
   "metadata": {},
   "source": [
    "# Data Preprocessing"
   ]
  },
  {
   "cell_type": "code",
   "execution_count": 14,
   "metadata": {},
   "outputs": [],
   "source": [
    "df.drop_duplicates(inplace = True)"
   ]
  },
  {
   "cell_type": "code",
   "execution_count": 15,
   "metadata": {},
   "outputs": [
    {
     "data": {
      "text/plain": [
       "business_code                 0\n",
       "cust_number                   0\n",
       "name_customer                 0\n",
       "clear_date                 9673\n",
       "buisness_year                 0\n",
       "doc_id                        0\n",
       "posting_date                  0\n",
       "document_create_date          0\n",
       "document_create_date.1        0\n",
       "due_in_date                   0\n",
       "invoice_currency              0\n",
       "document type                 0\n",
       "posting_id                    0\n",
       "area_business             48777\n",
       "total_open_amount             0\n",
       "baseline_create_date          0\n",
       "cust_payment_terms            0\n",
       "invoice_id                    2\n",
       "isOpen                        0\n",
       "dtype: int64"
      ]
     },
     "execution_count": 15,
     "metadata": {},
     "output_type": "execute_result"
    }
   ],
   "source": [
    "df.isnull().sum()"
   ]
  },
  {
   "cell_type": "code",
   "execution_count": 16,
   "metadata": {},
   "outputs": [],
   "source": [
    "mean_value=df['invoice_id'].mean()"
   ]
  },
  {
   "cell_type": "code",
   "execution_count": 17,
   "metadata": {},
   "outputs": [],
   "source": [
    "df['invoice_id'].fillna(value=mean_value, inplace=True)"
   ]
  },
  {
   "cell_type": "code",
   "execution_count": 18,
   "metadata": {},
   "outputs": [],
   "source": [
    "df.drop(\"area_business\",axis = \"columns\",inplace=True)"
   ]
  },
  {
   "cell_type": "code",
   "execution_count": 19,
   "metadata": {},
   "outputs": [
    {
     "data": {
      "text/plain": [
       "business_code              object\n",
       "cust_number                object\n",
       "name_customer              object\n",
       "clear_date                 object\n",
       "buisness_year             float64\n",
       "doc_id                    float64\n",
       "posting_date               object\n",
       "document_create_date        int64\n",
       "document_create_date.1      int64\n",
       "due_in_date               float64\n",
       "invoice_currency           object\n",
       "document type              object\n",
       "posting_id                float64\n",
       "total_open_amount         float64\n",
       "baseline_create_date      float64\n",
       "cust_payment_terms         object\n",
       "invoice_id                float64\n",
       "isOpen                      int64\n",
       "dtype: object"
      ]
     },
     "execution_count": 19,
     "metadata": {},
     "output_type": "execute_result"
    }
   ],
   "source": [
    "df.dtypes"
   ]
  },
  {
   "cell_type": "code",
   "execution_count": 20,
   "metadata": {},
   "outputs": [],
   "source": [
    "df['posting_date'] = pd.to_datetime(df['posting_date'])\n"
   ]
  },
  {
   "cell_type": "code",
   "execution_count": 21,
   "metadata": {},
   "outputs": [],
   "source": [
    "df.sort_values(by='posting_date',inplace = True)"
   ]
  },
  {
   "cell_type": "code",
   "execution_count": 22,
   "metadata": {},
   "outputs": [],
   "source": [
    "test_dataset = df[df['clear_date'].isnull() == True]\n",
    "df = df.dropna()"
   ]
  },
  {
   "cell_type": "code",
   "execution_count": 23,
   "metadata": {},
   "outputs": [
    {
     "data": {
      "text/plain": [
       "(9673, 18)"
      ]
     },
     "execution_count": 23,
     "metadata": {},
     "output_type": "execute_result"
    }
   ],
   "source": [
    "test_dataset.shape"
   ]
  },
  {
   "cell_type": "code",
   "execution_count": 24,
   "metadata": {},
   "outputs": [
    {
     "data": {
      "text/plain": [
       "(39104, 18)"
      ]
     },
     "execution_count": 24,
     "metadata": {},
     "output_type": "execute_result"
    }
   ],
   "source": [
    "df.shape"
   ]
  },
  {
   "cell_type": "code",
   "execution_count": 25,
   "metadata": {},
   "outputs": [],
   "source": [
    "#removing coloumn unique to each row"
   ]
  },
  {
   "cell_type": "code",
   "execution_count": 26,
   "metadata": {},
   "outputs": [],
   "source": [
    "df = df.drop(columns = 'invoice_id')\n",
    "test_dataset = test_dataset.drop(columns = 'invoice_id')"
   ]
  },
  {
   "cell_type": "code",
   "execution_count": 27,
   "metadata": {},
   "outputs": [],
   "source": [
    "#remove the insignificant coloumn"
   ]
  },
  {
   "cell_type": "code",
   "execution_count": 28,
   "metadata": {},
   "outputs": [],
   "source": [
    "df = df.drop(columns = ['name_customer','document_create_date'])"
   ]
  },
  {
   "cell_type": "code",
   "execution_count": 29,
   "metadata": {},
   "outputs": [],
   "source": [
    "test_dataset = test_dataset.drop(columns = ['name_customer','document_create_date'])"
   ]
  },
  {
   "cell_type": "code",
   "execution_count": 30,
   "metadata": {},
   "outputs": [
    {
     "data": {
      "text/html": [
       "<div>\n",
       "<style scoped>\n",
       "    .dataframe tbody tr th:only-of-type {\n",
       "        vertical-align: middle;\n",
       "    }\n",
       "\n",
       "    .dataframe tbody tr th {\n",
       "        vertical-align: top;\n",
       "    }\n",
       "\n",
       "    .dataframe thead th {\n",
       "        text-align: right;\n",
       "    }\n",
       "</style>\n",
       "<table border=\"1\" class=\"dataframe\">\n",
       "  <thead>\n",
       "    <tr style=\"text-align: right;\">\n",
       "      <th></th>\n",
       "      <th>business_code</th>\n",
       "      <th>cust_number</th>\n",
       "      <th>clear_date</th>\n",
       "      <th>buisness_year</th>\n",
       "      <th>doc_id</th>\n",
       "      <th>posting_date</th>\n",
       "      <th>document_create_date.1</th>\n",
       "      <th>due_in_date</th>\n",
       "      <th>invoice_currency</th>\n",
       "      <th>document type</th>\n",
       "      <th>posting_id</th>\n",
       "      <th>total_open_amount</th>\n",
       "      <th>baseline_create_date</th>\n",
       "      <th>cust_payment_terms</th>\n",
       "      <th>isOpen</th>\n",
       "    </tr>\n",
       "  </thead>\n",
       "  <tbody>\n",
       "    <tr>\n",
       "      <th>45809</th>\n",
       "      <td>U001</td>\n",
       "      <td>0200148860</td>\n",
       "      <td>2019-01-14 00:00:00</td>\n",
       "      <td>2019.0</td>\n",
       "      <td>1.928538e+09</td>\n",
       "      <td>2018-12-30</td>\n",
       "      <td>20181230</td>\n",
       "      <td>20190114.0</td>\n",
       "      <td>USD</td>\n",
       "      <td>RV</td>\n",
       "      <td>1.0</td>\n",
       "      <td>18745.92</td>\n",
       "      <td>20181230.0</td>\n",
       "      <td>NAA8</td>\n",
       "      <td>0</td>\n",
       "    </tr>\n",
       "    <tr>\n",
       "      <th>24170</th>\n",
       "      <td>U001</td>\n",
       "      <td>0200769623</td>\n",
       "      <td>2019-01-09 00:00:00</td>\n",
       "      <td>2019.0</td>\n",
       "      <td>1.928541e+09</td>\n",
       "      <td>2018-12-30</td>\n",
       "      <td>20181230</td>\n",
       "      <td>20190114.0</td>\n",
       "      <td>USD</td>\n",
       "      <td>RV</td>\n",
       "      <td>1.0</td>\n",
       "      <td>42932.73</td>\n",
       "      <td>20181230.0</td>\n",
       "      <td>NAH4</td>\n",
       "      <td>0</td>\n",
       "    </tr>\n",
       "    <tr>\n",
       "      <th>16548</th>\n",
       "      <td>CA02</td>\n",
       "      <td>0140106408</td>\n",
       "      <td>2019-01-25 00:00:00</td>\n",
       "      <td>2019.0</td>\n",
       "      <td>2.960520e+09</td>\n",
       "      <td>2018-12-30</td>\n",
       "      <td>20181230</td>\n",
       "      <td>20190109.0</td>\n",
       "      <td>CAD</td>\n",
       "      <td>RV</td>\n",
       "      <td>1.0</td>\n",
       "      <td>60289.21</td>\n",
       "      <td>20181230.0</td>\n",
       "      <td>CA10</td>\n",
       "      <td>0</td>\n",
       "    </tr>\n",
       "    <tr>\n",
       "      <th>30169</th>\n",
       "      <td>U001</td>\n",
       "      <td>0200769623</td>\n",
       "      <td>2019-01-10 00:00:00</td>\n",
       "      <td>2019.0</td>\n",
       "      <td>1.928543e+09</td>\n",
       "      <td>2018-12-30</td>\n",
       "      <td>20181230</td>\n",
       "      <td>20190114.0</td>\n",
       "      <td>USD</td>\n",
       "      <td>RV</td>\n",
       "      <td>1.0</td>\n",
       "      <td>3096.01</td>\n",
       "      <td>20181230.0</td>\n",
       "      <td>NAH4</td>\n",
       "      <td>0</td>\n",
       "    </tr>\n",
       "    <tr>\n",
       "      <th>41009</th>\n",
       "      <td>U001</td>\n",
       "      <td>0200726979</td>\n",
       "      <td>2019-01-22 00:00:00</td>\n",
       "      <td>2019.0</td>\n",
       "      <td>1.928541e+09</td>\n",
       "      <td>2018-12-30</td>\n",
       "      <td>20181230</td>\n",
       "      <td>20190114.0</td>\n",
       "      <td>USD</td>\n",
       "      <td>RV</td>\n",
       "      <td>1.0</td>\n",
       "      <td>16515.44</td>\n",
       "      <td>20181230.0</td>\n",
       "      <td>NAA8</td>\n",
       "      <td>0</td>\n",
       "    </tr>\n",
       "  </tbody>\n",
       "</table>\n",
       "</div>"
      ],
      "text/plain": [
       "      business_code cust_number           clear_date  buisness_year  \\\n",
       "45809          U001  0200148860  2019-01-14 00:00:00         2019.0   \n",
       "24170          U001  0200769623  2019-01-09 00:00:00         2019.0   \n",
       "16548          CA02  0140106408  2019-01-25 00:00:00         2019.0   \n",
       "30169          U001  0200769623  2019-01-10 00:00:00         2019.0   \n",
       "41009          U001  0200726979  2019-01-22 00:00:00         2019.0   \n",
       "\n",
       "             doc_id posting_date  document_create_date.1  due_in_date  \\\n",
       "45809  1.928538e+09   2018-12-30                20181230   20190114.0   \n",
       "24170  1.928541e+09   2018-12-30                20181230   20190114.0   \n",
       "16548  2.960520e+09   2018-12-30                20181230   20190109.0   \n",
       "30169  1.928543e+09   2018-12-30                20181230   20190114.0   \n",
       "41009  1.928541e+09   2018-12-30                20181230   20190114.0   \n",
       "\n",
       "      invoice_currency document type  posting_id  total_open_amount  \\\n",
       "45809              USD            RV         1.0           18745.92   \n",
       "24170              USD            RV         1.0           42932.73   \n",
       "16548              CAD            RV         1.0           60289.21   \n",
       "30169              USD            RV         1.0            3096.01   \n",
       "41009              USD            RV         1.0           16515.44   \n",
       "\n",
       "       baseline_create_date cust_payment_terms  isOpen  \n",
       "45809            20181230.0               NAA8       0  \n",
       "24170            20181230.0               NAH4       0  \n",
       "16548            20181230.0               CA10       0  \n",
       "30169            20181230.0               NAH4       0  \n",
       "41009            20181230.0               NAA8       0  "
      ]
     },
     "execution_count": 30,
     "metadata": {},
     "output_type": "execute_result"
    }
   ],
   "source": [
    "df.head()"
   ]
  },
  {
   "cell_type": "code",
   "execution_count": 31,
   "metadata": {},
   "outputs": [
    {
     "data": {
      "text/plain": [
       "1.929490e+09    1\n",
       "1.930515e+09    1\n",
       "1.929031e+09    1\n",
       "2.960541e+09    1\n",
       "1.929988e+09    1\n",
       "               ..\n",
       "1.930462e+09    1\n",
       "1.929850e+09    1\n",
       "1.928847e+09    1\n",
       "1.929223e+09    1\n",
       "1.930303e+09    1\n",
       "Name: doc_id, Length: 39104, dtype: int64"
      ]
     },
     "execution_count": 31,
     "metadata": {},
     "output_type": "execute_result"
    }
   ],
   "source": [
    "df[\"doc_id\"].value_counts()"
   ]
  },
  {
   "cell_type": "code",
   "execution_count": 32,
   "metadata": {},
   "outputs": [],
   "source": [
    "const_feature = [\"doc_id\",\"document type\",\"posting_id\",\"isOpen\"]"
   ]
  },
  {
   "cell_type": "code",
   "execution_count": 33,
   "metadata": {},
   "outputs": [],
   "source": [
    "test_dataset=test_dataset.drop(columns=const_feature)"
   ]
  },
  {
   "cell_type": "code",
   "execution_count": 34,
   "metadata": {},
   "outputs": [],
   "source": [
    "df=df.drop(columns=const_feature)\n"
   ]
  },
  {
   "cell_type": "code",
   "execution_count": 35,
   "metadata": {},
   "outputs": [
    {
     "data": {
      "text/plain": [
       "['business_code',\n",
       " 'cust_number',\n",
       " 'clear_date',\n",
       " 'buisness_year',\n",
       " 'posting_date',\n",
       " 'document_create_date.1',\n",
       " 'due_in_date',\n",
       " 'invoice_currency',\n",
       " 'total_open_amount',\n",
       " 'baseline_create_date',\n",
       " 'cust_payment_terms']"
      ]
     },
     "execution_count": 35,
     "metadata": {},
     "output_type": "execute_result"
    }
   ],
   "source": [
    "list(df.columns)"
   ]
  },
  {
   "cell_type": "code",
   "execution_count": 36,
   "metadata": {},
   "outputs": [],
   "source": [
    "list_cust_details = ['buisness_year','cust_number','business_code','cust_payment_terms']"
   ]
  },
  {
   "cell_type": "code",
   "execution_count": 37,
   "metadata": {},
   "outputs": [],
   "source": [
    "label_enc_list = dict()\n"
   ]
  },
  {
   "cell_type": "code",
   "execution_count": 38,
   "metadata": {},
   "outputs": [],
   "source": [
    "from sklearn import preprocessing"
   ]
  },
  {
   "cell_type": "code",
   "execution_count": 39,
   "metadata": {},
   "outputs": [],
   "source": [
    "for col in range(len(list_cust_details)):#covert to label encoding \n",
    "    label_encoder = preprocessing.LabelEncoder()\n",
    "    label_encoder.fit(df[list_cust_details[col]])\n",
    "    df[list_cust_details[col]] = label_encoder.transform(df[list_cust_details[col]])\n",
    "    label_enc_list[list_cust_details[col]]=label_encoder"
   ]
  },
  {
   "cell_type": "code",
   "execution_count": 40,
   "metadata": {},
   "outputs": [],
   "source": [
    "for col in range(len(list_cust_details)):#covert to label encoding \n",
    "    label_encoder = preprocessing.LabelEncoder()\n",
    "    label_encoder.fit(test_dataset[list_cust_details[col]])\n",
    "    test_dataset[list_cust_details[col]] = label_encoder.transform(test_dataset[list_cust_details[col]])\n",
    "    label_enc_list[list_cust_details[col]]=label_encoder"
   ]
  },
  {
   "cell_type": "code",
   "execution_count": 41,
   "metadata": {},
   "outputs": [
    {
     "data": {
      "text/html": [
       "<div>\n",
       "<style scoped>\n",
       "    .dataframe tbody tr th:only-of-type {\n",
       "        vertical-align: middle;\n",
       "    }\n",
       "\n",
       "    .dataframe tbody tr th {\n",
       "        vertical-align: top;\n",
       "    }\n",
       "\n",
       "    .dataframe thead th {\n",
       "        text-align: right;\n",
       "    }\n",
       "</style>\n",
       "<table border=\"1\" class=\"dataframe\">\n",
       "  <thead>\n",
       "    <tr style=\"text-align: right;\">\n",
       "      <th></th>\n",
       "      <th>business_code</th>\n",
       "      <th>cust_number</th>\n",
       "      <th>clear_date</th>\n",
       "      <th>buisness_year</th>\n",
       "      <th>posting_date</th>\n",
       "      <th>document_create_date.1</th>\n",
       "      <th>due_in_date</th>\n",
       "      <th>invoice_currency</th>\n",
       "      <th>total_open_amount</th>\n",
       "      <th>baseline_create_date</th>\n",
       "      <th>cust_payment_terms</th>\n",
       "    </tr>\n",
       "  </thead>\n",
       "  <tbody>\n",
       "    <tr>\n",
       "      <th>45809</th>\n",
       "      <td>1</td>\n",
       "      <td>496</td>\n",
       "      <td>2019-01-14 00:00:00</td>\n",
       "      <td>0</td>\n",
       "      <td>2018-12-30</td>\n",
       "      <td>20181230</td>\n",
       "      <td>20190114.0</td>\n",
       "      <td>USD</td>\n",
       "      <td>18745.92</td>\n",
       "      <td>20181230.0</td>\n",
       "      <td>20</td>\n",
       "    </tr>\n",
       "    <tr>\n",
       "      <th>24170</th>\n",
       "      <td>1</td>\n",
       "      <td>842</td>\n",
       "      <td>2019-01-09 00:00:00</td>\n",
       "      <td>0</td>\n",
       "      <td>2018-12-30</td>\n",
       "      <td>20181230</td>\n",
       "      <td>20190114.0</td>\n",
       "      <td>USD</td>\n",
       "      <td>42932.73</td>\n",
       "      <td>20181230.0</td>\n",
       "      <td>34</td>\n",
       "    </tr>\n",
       "    <tr>\n",
       "      <th>16548</th>\n",
       "      <td>0</td>\n",
       "      <td>428</td>\n",
       "      <td>2019-01-25 00:00:00</td>\n",
       "      <td>0</td>\n",
       "      <td>2018-12-30</td>\n",
       "      <td>20181230</td>\n",
       "      <td>20190109.0</td>\n",
       "      <td>CAD</td>\n",
       "      <td>60289.21</td>\n",
       "      <td>20181230.0</td>\n",
       "      <td>5</td>\n",
       "    </tr>\n",
       "    <tr>\n",
       "      <th>30169</th>\n",
       "      <td>1</td>\n",
       "      <td>842</td>\n",
       "      <td>2019-01-10 00:00:00</td>\n",
       "      <td>0</td>\n",
       "      <td>2018-12-30</td>\n",
       "      <td>20181230</td>\n",
       "      <td>20190114.0</td>\n",
       "      <td>USD</td>\n",
       "      <td>3096.01</td>\n",
       "      <td>20181230.0</td>\n",
       "      <td>34</td>\n",
       "    </tr>\n",
       "    <tr>\n",
       "      <th>41009</th>\n",
       "      <td>1</td>\n",
       "      <td>745</td>\n",
       "      <td>2019-01-22 00:00:00</td>\n",
       "      <td>0</td>\n",
       "      <td>2018-12-30</td>\n",
       "      <td>20181230</td>\n",
       "      <td>20190114.0</td>\n",
       "      <td>USD</td>\n",
       "      <td>16515.44</td>\n",
       "      <td>20181230.0</td>\n",
       "      <td>20</td>\n",
       "    </tr>\n",
       "  </tbody>\n",
       "</table>\n",
       "</div>"
      ],
      "text/plain": [
       "       business_code  cust_number           clear_date  buisness_year  \\\n",
       "45809              1          496  2019-01-14 00:00:00              0   \n",
       "24170              1          842  2019-01-09 00:00:00              0   \n",
       "16548              0          428  2019-01-25 00:00:00              0   \n",
       "30169              1          842  2019-01-10 00:00:00              0   \n",
       "41009              1          745  2019-01-22 00:00:00              0   \n",
       "\n",
       "      posting_date  document_create_date.1  due_in_date invoice_currency  \\\n",
       "45809   2018-12-30                20181230   20190114.0              USD   \n",
       "24170   2018-12-30                20181230   20190114.0              USD   \n",
       "16548   2018-12-30                20181230   20190109.0              CAD   \n",
       "30169   2018-12-30                20181230   20190114.0              USD   \n",
       "41009   2018-12-30                20181230   20190114.0              USD   \n",
       "\n",
       "       total_open_amount  baseline_create_date  cust_payment_terms  \n",
       "45809           18745.92            20181230.0                  20  \n",
       "24170           42932.73            20181230.0                  34  \n",
       "16548           60289.21            20181230.0                   5  \n",
       "30169            3096.01            20181230.0                  34  \n",
       "41009           16515.44            20181230.0                  20  "
      ]
     },
     "execution_count": 41,
     "metadata": {},
     "output_type": "execute_result"
    }
   ],
   "source": [
    "df.head()"
   ]
  },
  {
   "cell_type": "markdown",
   "metadata": {},
   "source": [
    "# Date time conversion"
   ]
  },
  {
   "cell_type": "code",
   "execution_count": 42,
   "metadata": {},
   "outputs": [
    {
     "data": {
      "text/plain": [
       "(39104, 11)"
      ]
     },
     "execution_count": 42,
     "metadata": {},
     "output_type": "execute_result"
    }
   ],
   "source": [
    "df.shape"
   ]
  },
  {
   "cell_type": "code",
   "execution_count": 43,
   "metadata": {},
   "outputs": [],
   "source": [
    "dt_lis = ['baseline_create_date','clear_date','due_in_date','document_create_date.1','posting_date']\n"
   ]
  },
  {
   "cell_type": "code",
   "execution_count": 44,
   "metadata": {},
   "outputs": [],
   "source": [
    "df['due_in_date'] = pd.to_datetime(df['due_in_date'], format='%Y%m%d')"
   ]
  },
  {
   "cell_type": "code",
   "execution_count": 45,
   "metadata": {},
   "outputs": [],
   "source": [
    "df['baseline_create_date'] = pd.to_datetime(df['baseline_create_date'], format='%Y%m%d')"
   ]
  },
  {
   "cell_type": "code",
   "execution_count": 46,
   "metadata": {},
   "outputs": [],
   "source": [
    "df['clear_date'] = pd.to_datetime(df['clear_date'])"
   ]
  },
  {
   "cell_type": "code",
   "execution_count": 47,
   "metadata": {},
   "outputs": [],
   "source": [
    "df['document_create_date.1'] = pd.to_datetime(df['document_create_date.1'], format='%Y%m%d')"
   ]
  },
  {
   "cell_type": "code",
   "execution_count": 48,
   "metadata": {},
   "outputs": [
    {
     "data": {
      "text/html": [
       "<div>\n",
       "<style scoped>\n",
       "    .dataframe tbody tr th:only-of-type {\n",
       "        vertical-align: middle;\n",
       "    }\n",
       "\n",
       "    .dataframe tbody tr th {\n",
       "        vertical-align: top;\n",
       "    }\n",
       "\n",
       "    .dataframe thead th {\n",
       "        text-align: right;\n",
       "    }\n",
       "</style>\n",
       "<table border=\"1\" class=\"dataframe\">\n",
       "  <thead>\n",
       "    <tr style=\"text-align: right;\">\n",
       "      <th></th>\n",
       "      <th>business_code</th>\n",
       "      <th>cust_number</th>\n",
       "      <th>clear_date</th>\n",
       "      <th>buisness_year</th>\n",
       "      <th>posting_date</th>\n",
       "      <th>document_create_date.1</th>\n",
       "      <th>due_in_date</th>\n",
       "      <th>invoice_currency</th>\n",
       "      <th>total_open_amount</th>\n",
       "      <th>baseline_create_date</th>\n",
       "      <th>cust_payment_terms</th>\n",
       "    </tr>\n",
       "  </thead>\n",
       "  <tbody>\n",
       "    <tr>\n",
       "      <th>45809</th>\n",
       "      <td>1</td>\n",
       "      <td>496</td>\n",
       "      <td>2019-01-14</td>\n",
       "      <td>0</td>\n",
       "      <td>2018-12-30</td>\n",
       "      <td>2018-12-30</td>\n",
       "      <td>2019-01-14</td>\n",
       "      <td>USD</td>\n",
       "      <td>18745.92</td>\n",
       "      <td>2018-12-30</td>\n",
       "      <td>20</td>\n",
       "    </tr>\n",
       "    <tr>\n",
       "      <th>24170</th>\n",
       "      <td>1</td>\n",
       "      <td>842</td>\n",
       "      <td>2019-01-09</td>\n",
       "      <td>0</td>\n",
       "      <td>2018-12-30</td>\n",
       "      <td>2018-12-30</td>\n",
       "      <td>2019-01-14</td>\n",
       "      <td>USD</td>\n",
       "      <td>42932.73</td>\n",
       "      <td>2018-12-30</td>\n",
       "      <td>34</td>\n",
       "    </tr>\n",
       "    <tr>\n",
       "      <th>16548</th>\n",
       "      <td>0</td>\n",
       "      <td>428</td>\n",
       "      <td>2019-01-25</td>\n",
       "      <td>0</td>\n",
       "      <td>2018-12-30</td>\n",
       "      <td>2018-12-30</td>\n",
       "      <td>2019-01-09</td>\n",
       "      <td>CAD</td>\n",
       "      <td>60289.21</td>\n",
       "      <td>2018-12-30</td>\n",
       "      <td>5</td>\n",
       "    </tr>\n",
       "    <tr>\n",
       "      <th>30169</th>\n",
       "      <td>1</td>\n",
       "      <td>842</td>\n",
       "      <td>2019-01-10</td>\n",
       "      <td>0</td>\n",
       "      <td>2018-12-30</td>\n",
       "      <td>2018-12-30</td>\n",
       "      <td>2019-01-14</td>\n",
       "      <td>USD</td>\n",
       "      <td>3096.01</td>\n",
       "      <td>2018-12-30</td>\n",
       "      <td>34</td>\n",
       "    </tr>\n",
       "    <tr>\n",
       "      <th>41009</th>\n",
       "      <td>1</td>\n",
       "      <td>745</td>\n",
       "      <td>2019-01-22</td>\n",
       "      <td>0</td>\n",
       "      <td>2018-12-30</td>\n",
       "      <td>2018-12-30</td>\n",
       "      <td>2019-01-14</td>\n",
       "      <td>USD</td>\n",
       "      <td>16515.44</td>\n",
       "      <td>2018-12-30</td>\n",
       "      <td>20</td>\n",
       "    </tr>\n",
       "  </tbody>\n",
       "</table>\n",
       "</div>"
      ],
      "text/plain": [
       "       business_code  cust_number clear_date  buisness_year posting_date  \\\n",
       "45809              1          496 2019-01-14              0   2018-12-30   \n",
       "24170              1          842 2019-01-09              0   2018-12-30   \n",
       "16548              0          428 2019-01-25              0   2018-12-30   \n",
       "30169              1          842 2019-01-10              0   2018-12-30   \n",
       "41009              1          745 2019-01-22              0   2018-12-30   \n",
       "\n",
       "      document_create_date.1 due_in_date invoice_currency  total_open_amount  \\\n",
       "45809             2018-12-30  2019-01-14              USD           18745.92   \n",
       "24170             2018-12-30  2019-01-14              USD           42932.73   \n",
       "16548             2018-12-30  2019-01-09              CAD           60289.21   \n",
       "30169             2018-12-30  2019-01-14              USD            3096.01   \n",
       "41009             2018-12-30  2019-01-14              USD           16515.44   \n",
       "\n",
       "      baseline_create_date  cust_payment_terms  \n",
       "45809           2018-12-30                  20  \n",
       "24170           2018-12-30                  34  \n",
       "16548           2018-12-30                   5  \n",
       "30169           2018-12-30                  34  \n",
       "41009           2018-12-30                  20  "
      ]
     },
     "execution_count": 48,
     "metadata": {},
     "output_type": "execute_result"
    }
   ],
   "source": [
    "df.head()"
   ]
  },
  {
   "cell_type": "code",
   "execution_count": 49,
   "metadata": {},
   "outputs": [
    {
     "data": {
      "text/plain": [
       "business_code                      int32\n",
       "cust_number                        int32\n",
       "clear_date                datetime64[ns]\n",
       "buisness_year                      int64\n",
       "posting_date              datetime64[ns]\n",
       "document_create_date.1    datetime64[ns]\n",
       "due_in_date               datetime64[ns]\n",
       "invoice_currency                  object\n",
       "total_open_amount                float64\n",
       "baseline_create_date      datetime64[ns]\n",
       "cust_payment_terms                 int32\n",
       "dtype: object"
      ]
     },
     "execution_count": 49,
     "metadata": {},
     "output_type": "execute_result"
    }
   ],
   "source": [
    "df.dtypes"
   ]
  },
  {
   "cell_type": "code",
   "execution_count": 50,
   "metadata": {},
   "outputs": [
    {
     "data": {
      "text/plain": [
       "(9673, 11)"
      ]
     },
     "execution_count": 50,
     "metadata": {},
     "output_type": "execute_result"
    }
   ],
   "source": [
    "for col in dt_lis:\n",
    "    test_dataset[col] = pd.to_datetime(test_dataset[col],format='%Y-%m-%d')\n",
    "test_dataset.shape"
   ]
  },
  {
   "cell_type": "code",
   "execution_count": 51,
   "metadata": {},
   "outputs": [
    {
     "data": {
      "text/plain": [
       "1    35423\n",
       "0     3062\n",
       "5      501\n",
       "2      103\n",
       "3       11\n",
       "4        4\n",
       "Name: business_code, dtype: int64"
      ]
     },
     "execution_count": 51,
     "metadata": {},
     "output_type": "execute_result"
    }
   ],
   "source": [
    "df[\"business_code\"].value_counts()"
   ]
  },
  {
   "cell_type": "code",
   "execution_count": 52,
   "metadata": {},
   "outputs": [],
   "source": [
    "#filter quasi const feature"
   ]
  },
  {
   "cell_type": "code",
   "execution_count": 53,
   "metadata": {},
   "outputs": [],
   "source": [
    "from sklearn.feature_selection import VarianceThreshold"
   ]
  },
  {
   "cell_type": "code",
   "execution_count": 54,
   "metadata": {},
   "outputs": [],
   "source": [
    "selection = VarianceThreshold(threshold=0.01)#detect where 90 percent value are same"
   ]
  },
  {
   "cell_type": "code",
   "execution_count": 55,
   "metadata": {},
   "outputs": [],
   "source": [
    "cols = list(set(df.columns) - (set(dt_lis) | set(['invoice_currency'])))"
   ]
  },
  {
   "cell_type": "code",
   "execution_count": 56,
   "metadata": {},
   "outputs": [
    {
     "data": {
      "text/plain": [
       "VarianceThreshold(threshold=0.01)"
      ]
     },
     "execution_count": 56,
     "metadata": {},
     "output_type": "execute_result"
    }
   ],
   "source": [
    "selection.fit(df[cols])"
   ]
  },
  {
   "cell_type": "code",
   "execution_count": 57,
   "metadata": {},
   "outputs": [
    {
     "name": "stdout",
     "output_type": "stream",
     "text": [
      "0\n"
     ]
    }
   ],
   "source": [
    "print((len(cols) - sum(selection.get_support())))"
   ]
  },
  {
   "cell_type": "code",
   "execution_count": 58,
   "metadata": {},
   "outputs": [],
   "source": [
    "#no quasi constant feature it is 0"
   ]
  },
  {
   "cell_type": "code",
   "execution_count": 59,
   "metadata": {},
   "outputs": [],
   "source": [
    "#lets drop the coloumn whode invoice are created before the baseline create data"
   ]
  },
  {
   "cell_type": "code",
   "execution_count": 60,
   "metadata": {},
   "outputs": [],
   "source": [
    "temp = pd.Series(df['document_create_date.1'] - df['baseline_create_date']).dt.days"
   ]
  },
  {
   "cell_type": "code",
   "execution_count": 61,
   "metadata": {},
   "outputs": [],
   "source": [
    "rows_to_drop = temp.value_counts().to_frame(name = 'count')"
   ]
  },
  {
   "cell_type": "code",
   "execution_count": 62,
   "metadata": {},
   "outputs": [
    {
     "data": {
      "text/plain": [
       "(39104, 11)"
      ]
     },
     "execution_count": 62,
     "metadata": {},
     "output_type": "execute_result"
    }
   ],
   "source": [
    "df.shape"
   ]
  },
  {
   "cell_type": "code",
   "execution_count": 63,
   "metadata": {},
   "outputs": [
    {
     "data": {
      "text/plain": [
       "count    2561\n",
       "dtype: int64"
      ]
     },
     "execution_count": 63,
     "metadata": {},
     "output_type": "execute_result"
    }
   ],
   "source": [
    "#no of rows drop satisfyin the cond\n",
    "rows_to_drop[(rows_to_drop.index <0)].sum()"
   ]
  },
  {
   "cell_type": "code",
   "execution_count": 64,
   "metadata": {},
   "outputs": [],
   "source": [
    "df = df[((temp==0) | (temp>0))].reset_index(drop=True)\n"
   ]
  },
  {
   "cell_type": "code",
   "execution_count": 65,
   "metadata": {},
   "outputs": [],
   "source": [
    "df.sort_values(by='posting_date',inplace = True)"
   ]
  },
  {
   "cell_type": "code",
   "execution_count": 66,
   "metadata": {},
   "outputs": [
    {
     "data": {
      "text/html": [
       "<div>\n",
       "<style scoped>\n",
       "    .dataframe tbody tr th:only-of-type {\n",
       "        vertical-align: middle;\n",
       "    }\n",
       "\n",
       "    .dataframe tbody tr th {\n",
       "        vertical-align: top;\n",
       "    }\n",
       "\n",
       "    .dataframe thead th {\n",
       "        text-align: right;\n",
       "    }\n",
       "</style>\n",
       "<table border=\"1\" class=\"dataframe\">\n",
       "  <thead>\n",
       "    <tr style=\"text-align: right;\">\n",
       "      <th></th>\n",
       "      <th>business_code</th>\n",
       "      <th>cust_number</th>\n",
       "      <th>clear_date</th>\n",
       "      <th>buisness_year</th>\n",
       "      <th>posting_date</th>\n",
       "      <th>document_create_date.1</th>\n",
       "      <th>due_in_date</th>\n",
       "      <th>invoice_currency</th>\n",
       "      <th>total_open_amount</th>\n",
       "      <th>baseline_create_date</th>\n",
       "      <th>cust_payment_terms</th>\n",
       "    </tr>\n",
       "  </thead>\n",
       "  <tbody>\n",
       "    <tr>\n",
       "      <th>0</th>\n",
       "      <td>1</td>\n",
       "      <td>496</td>\n",
       "      <td>2019-01-14</td>\n",
       "      <td>0</td>\n",
       "      <td>2018-12-30</td>\n",
       "      <td>2018-12-30</td>\n",
       "      <td>2019-01-14</td>\n",
       "      <td>USD</td>\n",
       "      <td>18745.92</td>\n",
       "      <td>2018-12-30</td>\n",
       "      <td>20</td>\n",
       "    </tr>\n",
       "    <tr>\n",
       "      <th>34</th>\n",
       "      <td>1</td>\n",
       "      <td>842</td>\n",
       "      <td>2019-01-11</td>\n",
       "      <td>0</td>\n",
       "      <td>2018-12-30</td>\n",
       "      <td>2018-12-30</td>\n",
       "      <td>2019-01-14</td>\n",
       "      <td>USD</td>\n",
       "      <td>22480.50</td>\n",
       "      <td>2018-12-30</td>\n",
       "      <td>34</td>\n",
       "    </tr>\n",
       "    <tr>\n",
       "      <th>35</th>\n",
       "      <td>1</td>\n",
       "      <td>842</td>\n",
       "      <td>2019-01-16</td>\n",
       "      <td>0</td>\n",
       "      <td>2018-12-30</td>\n",
       "      <td>2018-12-30</td>\n",
       "      <td>2019-01-14</td>\n",
       "      <td>USD</td>\n",
       "      <td>39262.61</td>\n",
       "      <td>2018-12-30</td>\n",
       "      <td>34</td>\n",
       "    </tr>\n",
       "    <tr>\n",
       "      <th>36</th>\n",
       "      <td>1</td>\n",
       "      <td>842</td>\n",
       "      <td>2019-01-09</td>\n",
       "      <td>0</td>\n",
       "      <td>2018-12-30</td>\n",
       "      <td>2018-12-30</td>\n",
       "      <td>2019-01-14</td>\n",
       "      <td>USD</td>\n",
       "      <td>71019.50</td>\n",
       "      <td>2018-12-30</td>\n",
       "      <td>34</td>\n",
       "    </tr>\n",
       "    <tr>\n",
       "      <th>37</th>\n",
       "      <td>1</td>\n",
       "      <td>842</td>\n",
       "      <td>2019-01-15</td>\n",
       "      <td>0</td>\n",
       "      <td>2018-12-30</td>\n",
       "      <td>2018-12-30</td>\n",
       "      <td>2019-01-14</td>\n",
       "      <td>USD</td>\n",
       "      <td>23002.13</td>\n",
       "      <td>2018-12-30</td>\n",
       "      <td>34</td>\n",
       "    </tr>\n",
       "  </tbody>\n",
       "</table>\n",
       "</div>"
      ],
      "text/plain": [
       "    business_code  cust_number clear_date  buisness_year posting_date  \\\n",
       "0               1          496 2019-01-14              0   2018-12-30   \n",
       "34              1          842 2019-01-11              0   2018-12-30   \n",
       "35              1          842 2019-01-16              0   2018-12-30   \n",
       "36              1          842 2019-01-09              0   2018-12-30   \n",
       "37              1          842 2019-01-15              0   2018-12-30   \n",
       "\n",
       "   document_create_date.1 due_in_date invoice_currency  total_open_amount  \\\n",
       "0              2018-12-30  2019-01-14              USD           18745.92   \n",
       "34             2018-12-30  2019-01-14              USD           22480.50   \n",
       "35             2018-12-30  2019-01-14              USD           39262.61   \n",
       "36             2018-12-30  2019-01-14              USD           71019.50   \n",
       "37             2018-12-30  2019-01-14              USD           23002.13   \n",
       "\n",
       "   baseline_create_date  cust_payment_terms  \n",
       "0            2018-12-30                  20  \n",
       "34           2018-12-30                  34  \n",
       "35           2018-12-30                  34  \n",
       "36           2018-12-30                  34  \n",
       "37           2018-12-30                  34  "
      ]
     },
     "execution_count": 66,
     "metadata": {},
     "output_type": "execute_result"
    }
   ],
   "source": [
    "df.head()"
   ]
  },
  {
   "cell_type": "code",
   "execution_count": 67,
   "metadata": {},
   "outputs": [],
   "source": [
    "#sort according to posting date"
   ]
  },
  {
   "cell_type": "code",
   "execution_count": 68,
   "metadata": {},
   "outputs": [
    {
     "data": {
      "text/plain": [
       "(36543, 11)"
      ]
     },
     "execution_count": 68,
     "metadata": {},
     "output_type": "execute_result"
    }
   ],
   "source": [
    "df.shape"
   ]
  },
  {
   "cell_type": "code",
   "execution_count": 69,
   "metadata": {},
   "outputs": [],
   "source": [
    "df = df.drop(columns = ['document_create_date.1'])"
   ]
  },
  {
   "cell_type": "code",
   "execution_count": 70,
   "metadata": {},
   "outputs": [],
   "source": [
    "test_dataset = test_dataset.drop(columns = ['document_create_date.1'])"
   ]
  },
  {
   "cell_type": "markdown",
   "metadata": {},
   "source": [
    "# Feature engg"
   ]
  },
  {
   "cell_type": "code",
   "execution_count": 71,
   "metadata": {},
   "outputs": [],
   "source": [
    "dates_list = ['due_in_date','baseline_create_date'] #payment date is excluded  "
   ]
  },
  {
   "cell_type": "code",
   "execution_count": 72,
   "metadata": {},
   "outputs": [
    {
     "data": {
      "text/plain": [
       "Index(['business_code', 'cust_number', 'clear_date', 'buisness_year',\n",
       "       'posting_date', 'due_in_date', 'invoice_currency', 'total_open_amount',\n",
       "       'baseline_create_date', 'cust_payment_terms'],\n",
       "      dtype='object')"
      ]
     },
     "execution_count": 72,
     "metadata": {},
     "output_type": "execute_result"
    }
   ],
   "source": [
    "df.columns"
   ]
  },
  {
   "cell_type": "code",
   "execution_count": 73,
   "metadata": {},
   "outputs": [],
   "source": [
    "df['payment_term']=pd.Series(df['clear_date'] - df['baseline_create_date']).dt.days\n",
    "df['due_term']=pd.Series(df['due_in_date'] - df['baseline_create_date']).dt.days\n",
    "df['delay'] = df['payment_term'] - df['due_term']\n",
    "pd.to_numeric(df[\"delay\"])\n",
    "test_dataset['due_term']=pd.Series(test_dataset['due_in_date'] - test_dataset['baseline_create_date']).dt.days"
   ]
  },
  {
   "cell_type": "code",
   "execution_count": null,
   "metadata": {},
   "outputs": [],
   "source": []
  },
  {
   "cell_type": "code",
   "execution_count": null,
   "metadata": {},
   "outputs": [],
   "source": []
  },
  {
   "cell_type": "code",
   "execution_count": 74,
   "metadata": {},
   "outputs": [
    {
     "data": {
      "text/html": [
       "<div>\n",
       "<style scoped>\n",
       "    .dataframe tbody tr th:only-of-type {\n",
       "        vertical-align: middle;\n",
       "    }\n",
       "\n",
       "    .dataframe tbody tr th {\n",
       "        vertical-align: top;\n",
       "    }\n",
       "\n",
       "    .dataframe thead th {\n",
       "        text-align: right;\n",
       "    }\n",
       "</style>\n",
       "<table border=\"1\" class=\"dataframe\">\n",
       "  <thead>\n",
       "    <tr style=\"text-align: right;\">\n",
       "      <th></th>\n",
       "      <th>business_code</th>\n",
       "      <th>cust_number</th>\n",
       "      <th>clear_date</th>\n",
       "      <th>buisness_year</th>\n",
       "      <th>posting_date</th>\n",
       "      <th>due_in_date</th>\n",
       "      <th>invoice_currency</th>\n",
       "      <th>total_open_amount</th>\n",
       "      <th>baseline_create_date</th>\n",
       "      <th>cust_payment_terms</th>\n",
       "      <th>payment_term</th>\n",
       "      <th>due_term</th>\n",
       "      <th>delay</th>\n",
       "    </tr>\n",
       "  </thead>\n",
       "  <tbody>\n",
       "    <tr>\n",
       "      <th>0</th>\n",
       "      <td>1</td>\n",
       "      <td>496</td>\n",
       "      <td>2019-01-14</td>\n",
       "      <td>0</td>\n",
       "      <td>2018-12-30</td>\n",
       "      <td>2019-01-14</td>\n",
       "      <td>USD</td>\n",
       "      <td>18745.92</td>\n",
       "      <td>2018-12-30</td>\n",
       "      <td>20</td>\n",
       "      <td>15</td>\n",
       "      <td>15</td>\n",
       "      <td>0</td>\n",
       "    </tr>\n",
       "    <tr>\n",
       "      <th>34</th>\n",
       "      <td>1</td>\n",
       "      <td>842</td>\n",
       "      <td>2019-01-11</td>\n",
       "      <td>0</td>\n",
       "      <td>2018-12-30</td>\n",
       "      <td>2019-01-14</td>\n",
       "      <td>USD</td>\n",
       "      <td>22480.50</td>\n",
       "      <td>2018-12-30</td>\n",
       "      <td>34</td>\n",
       "      <td>12</td>\n",
       "      <td>15</td>\n",
       "      <td>-3</td>\n",
       "    </tr>\n",
       "    <tr>\n",
       "      <th>35</th>\n",
       "      <td>1</td>\n",
       "      <td>842</td>\n",
       "      <td>2019-01-16</td>\n",
       "      <td>0</td>\n",
       "      <td>2018-12-30</td>\n",
       "      <td>2019-01-14</td>\n",
       "      <td>USD</td>\n",
       "      <td>39262.61</td>\n",
       "      <td>2018-12-30</td>\n",
       "      <td>34</td>\n",
       "      <td>17</td>\n",
       "      <td>15</td>\n",
       "      <td>2</td>\n",
       "    </tr>\n",
       "    <tr>\n",
       "      <th>36</th>\n",
       "      <td>1</td>\n",
       "      <td>842</td>\n",
       "      <td>2019-01-09</td>\n",
       "      <td>0</td>\n",
       "      <td>2018-12-30</td>\n",
       "      <td>2019-01-14</td>\n",
       "      <td>USD</td>\n",
       "      <td>71019.50</td>\n",
       "      <td>2018-12-30</td>\n",
       "      <td>34</td>\n",
       "      <td>10</td>\n",
       "      <td>15</td>\n",
       "      <td>-5</td>\n",
       "    </tr>\n",
       "    <tr>\n",
       "      <th>37</th>\n",
       "      <td>1</td>\n",
       "      <td>842</td>\n",
       "      <td>2019-01-15</td>\n",
       "      <td>0</td>\n",
       "      <td>2018-12-30</td>\n",
       "      <td>2019-01-14</td>\n",
       "      <td>USD</td>\n",
       "      <td>23002.13</td>\n",
       "      <td>2018-12-30</td>\n",
       "      <td>34</td>\n",
       "      <td>16</td>\n",
       "      <td>15</td>\n",
       "      <td>1</td>\n",
       "    </tr>\n",
       "  </tbody>\n",
       "</table>\n",
       "</div>"
      ],
      "text/plain": [
       "    business_code  cust_number clear_date  buisness_year posting_date  \\\n",
       "0               1          496 2019-01-14              0   2018-12-30   \n",
       "34              1          842 2019-01-11              0   2018-12-30   \n",
       "35              1          842 2019-01-16              0   2018-12-30   \n",
       "36              1          842 2019-01-09              0   2018-12-30   \n",
       "37              1          842 2019-01-15              0   2018-12-30   \n",
       "\n",
       "   due_in_date invoice_currency  total_open_amount baseline_create_date  \\\n",
       "0   2019-01-14              USD           18745.92           2018-12-30   \n",
       "34  2019-01-14              USD           22480.50           2018-12-30   \n",
       "35  2019-01-14              USD           39262.61           2018-12-30   \n",
       "36  2019-01-14              USD           71019.50           2018-12-30   \n",
       "37  2019-01-14              USD           23002.13           2018-12-30   \n",
       "\n",
       "    cust_payment_terms  payment_term  due_term  delay  \n",
       "0                   20            15        15      0  \n",
       "34                  34            12        15     -3  \n",
       "35                  34            17        15      2  \n",
       "36                  34            10        15     -5  \n",
       "37                  34            16        15      1  "
      ]
     },
     "execution_count": 74,
     "metadata": {},
     "output_type": "execute_result"
    }
   ],
   "source": [
    "df.head()"
   ]
  },
  {
   "cell_type": "code",
   "execution_count": 75,
   "metadata": {},
   "outputs": [],
   "source": [
    "#lets do bucket computation"
   ]
  },
  {
   "cell_type": "code",
   "execution_count": 76,
   "metadata": {},
   "outputs": [],
   "source": [
    "def bucketization(x):\n",
    "    if x<0:\n",
    "        return('(< 0) Days')\n",
    "    if x in range(0,16):\n",
    "        return('(0-15) Days')\n",
    "    elif x in range(16,31):\n",
    "        return('(16-30) Days')\n",
    "    elif x in range(31,45):\n",
    "        return('(31-45) Days')\n",
    "    elif x in range(45,60):\n",
    "        return('(45-60) Days')\n",
    "    else:\n",
    "        return('(> 60) Days')"
   ]
  },
  {
   "cell_type": "code",
   "execution_count": 77,
   "metadata": {},
   "outputs": [
    {
     "data": {
      "text/plain": [
       "Index(['business_code', 'cust_number', 'clear_date', 'buisness_year',\n",
       "       'posting_date', 'due_in_date', 'invoice_currency', 'total_open_amount',\n",
       "       'baseline_create_date', 'cust_payment_terms', 'payment_term',\n",
       "       'due_term', 'delay', 'DELAY BUCKET(DAYS)', 'DUE TERM BUCKET(DAYS)',\n",
       "       'delay_bucket_id', 'due_term_bucket_id'],\n",
       "      dtype='object')"
      ]
     },
     "execution_count": 77,
     "metadata": {},
     "output_type": "execute_result"
    }
   ],
   "source": [
    "df['DELAY BUCKET(DAYS)']= pd.Series([bucketization(x=df['delay'][i])  for i in range(len(df))])\n",
    "df['DUE TERM BUCKET(DAYS)']= pd.Series([bucketization(x=df['due_term'][i])  for i in range(len(df))])\n",
    "\n",
    "\n",
    "bucket_mapper = {'(< 0) Days':0,'(0-15) Days':1,'(16-30) Days':2,'(31-45) Days':4,'(45-60) Days':5,'(> 60) Days':6}\n",
    "\n",
    "df['delay_bucket_id'] = df['DELAY BUCKET(DAYS)'].map(bucket_mapper)\n",
    "df['due_term_bucket_id'] = df['DUE TERM BUCKET(DAYS)'].map(bucket_mapper)\n",
    "\n",
    "df.columns\n"
   ]
  },
  {
   "cell_type": "code",
   "execution_count": 78,
   "metadata": {},
   "outputs": [],
   "source": [
    "test_dataset = test_dataset.reset_index(drop=True)\n",
    "test_dataset['DUE TERM BUCKET(DAYS)']= pd.Series([bucketization(x=test_dataset['due_term'][i])  for i in range(len(test_dataset))])\n",
    "test_dataset['due_term_bucket_id'] = test_dataset['DUE TERM BUCKET(DAYS)'].map(bucket_mapper)\n"
   ]
  },
  {
   "cell_type": "code",
   "execution_count": 79,
   "metadata": {},
   "outputs": [
    {
     "data": {
      "text/plain": [
       "Index(['business_code', 'cust_number', 'clear_date', 'buisness_year',\n",
       "       'posting_date', 'due_in_date', 'invoice_currency', 'total_open_amount',\n",
       "       'baseline_create_date', 'cust_payment_terms', 'due_term',\n",
       "       'DUE TERM BUCKET(DAYS)', 'due_term_bucket_id'],\n",
       "      dtype='object')"
      ]
     },
     "execution_count": 79,
     "metadata": {},
     "output_type": "execute_result"
    }
   ],
   "source": [
    "test_dataset.columns"
   ]
  },
  {
   "cell_type": "code",
   "execution_count": 80,
   "metadata": {},
   "outputs": [
    {
     "data": {
      "text/html": [
       "<div>\n",
       "<style scoped>\n",
       "    .dataframe tbody tr th:only-of-type {\n",
       "        vertical-align: middle;\n",
       "    }\n",
       "\n",
       "    .dataframe tbody tr th {\n",
       "        vertical-align: top;\n",
       "    }\n",
       "\n",
       "    .dataframe thead th {\n",
       "        text-align: right;\n",
       "    }\n",
       "</style>\n",
       "<table border=\"1\" class=\"dataframe\">\n",
       "  <thead>\n",
       "    <tr style=\"text-align: right;\">\n",
       "      <th></th>\n",
       "      <th>business_code</th>\n",
       "      <th>cust_number</th>\n",
       "      <th>clear_date</th>\n",
       "      <th>buisness_year</th>\n",
       "      <th>posting_date</th>\n",
       "      <th>due_in_date</th>\n",
       "      <th>invoice_currency</th>\n",
       "      <th>total_open_amount</th>\n",
       "      <th>baseline_create_date</th>\n",
       "      <th>cust_payment_terms</th>\n",
       "      <th>payment_term</th>\n",
       "      <th>due_term</th>\n",
       "      <th>delay</th>\n",
       "      <th>DELAY BUCKET(DAYS)</th>\n",
       "      <th>DUE TERM BUCKET(DAYS)</th>\n",
       "      <th>delay_bucket_id</th>\n",
       "      <th>due_term_bucket_id</th>\n",
       "    </tr>\n",
       "  </thead>\n",
       "  <tbody>\n",
       "    <tr>\n",
       "      <th>0</th>\n",
       "      <td>1</td>\n",
       "      <td>496</td>\n",
       "      <td>2019-01-14</td>\n",
       "      <td>0</td>\n",
       "      <td>2018-12-30</td>\n",
       "      <td>2019-01-14</td>\n",
       "      <td>USD</td>\n",
       "      <td>18745.92</td>\n",
       "      <td>2018-12-30</td>\n",
       "      <td>20</td>\n",
       "      <td>15</td>\n",
       "      <td>15</td>\n",
       "      <td>0</td>\n",
       "      <td>(0-15) Days</td>\n",
       "      <td>(0-15) Days</td>\n",
       "      <td>1</td>\n",
       "      <td>1</td>\n",
       "    </tr>\n",
       "    <tr>\n",
       "      <th>34</th>\n",
       "      <td>1</td>\n",
       "      <td>842</td>\n",
       "      <td>2019-01-11</td>\n",
       "      <td>0</td>\n",
       "      <td>2018-12-30</td>\n",
       "      <td>2019-01-14</td>\n",
       "      <td>USD</td>\n",
       "      <td>22480.50</td>\n",
       "      <td>2018-12-30</td>\n",
       "      <td>34</td>\n",
       "      <td>12</td>\n",
       "      <td>15</td>\n",
       "      <td>-3</td>\n",
       "      <td>(&lt; 0) Days</td>\n",
       "      <td>(0-15) Days</td>\n",
       "      <td>0</td>\n",
       "      <td>1</td>\n",
       "    </tr>\n",
       "    <tr>\n",
       "      <th>35</th>\n",
       "      <td>1</td>\n",
       "      <td>842</td>\n",
       "      <td>2019-01-16</td>\n",
       "      <td>0</td>\n",
       "      <td>2018-12-30</td>\n",
       "      <td>2019-01-14</td>\n",
       "      <td>USD</td>\n",
       "      <td>39262.61</td>\n",
       "      <td>2018-12-30</td>\n",
       "      <td>34</td>\n",
       "      <td>17</td>\n",
       "      <td>15</td>\n",
       "      <td>2</td>\n",
       "      <td>(0-15) Days</td>\n",
       "      <td>(0-15) Days</td>\n",
       "      <td>1</td>\n",
       "      <td>1</td>\n",
       "    </tr>\n",
       "    <tr>\n",
       "      <th>36</th>\n",
       "      <td>1</td>\n",
       "      <td>842</td>\n",
       "      <td>2019-01-09</td>\n",
       "      <td>0</td>\n",
       "      <td>2018-12-30</td>\n",
       "      <td>2019-01-14</td>\n",
       "      <td>USD</td>\n",
       "      <td>71019.50</td>\n",
       "      <td>2018-12-30</td>\n",
       "      <td>34</td>\n",
       "      <td>10</td>\n",
       "      <td>15</td>\n",
       "      <td>-5</td>\n",
       "      <td>(&lt; 0) Days</td>\n",
       "      <td>(0-15) Days</td>\n",
       "      <td>0</td>\n",
       "      <td>1</td>\n",
       "    </tr>\n",
       "    <tr>\n",
       "      <th>37</th>\n",
       "      <td>1</td>\n",
       "      <td>842</td>\n",
       "      <td>2019-01-15</td>\n",
       "      <td>0</td>\n",
       "      <td>2018-12-30</td>\n",
       "      <td>2019-01-14</td>\n",
       "      <td>USD</td>\n",
       "      <td>23002.13</td>\n",
       "      <td>2018-12-30</td>\n",
       "      <td>34</td>\n",
       "      <td>16</td>\n",
       "      <td>15</td>\n",
       "      <td>1</td>\n",
       "      <td>(0-15) Days</td>\n",
       "      <td>(0-15) Days</td>\n",
       "      <td>1</td>\n",
       "      <td>1</td>\n",
       "    </tr>\n",
       "  </tbody>\n",
       "</table>\n",
       "</div>"
      ],
      "text/plain": [
       "    business_code  cust_number clear_date  buisness_year posting_date  \\\n",
       "0               1          496 2019-01-14              0   2018-12-30   \n",
       "34              1          842 2019-01-11              0   2018-12-30   \n",
       "35              1          842 2019-01-16              0   2018-12-30   \n",
       "36              1          842 2019-01-09              0   2018-12-30   \n",
       "37              1          842 2019-01-15              0   2018-12-30   \n",
       "\n",
       "   due_in_date invoice_currency  total_open_amount baseline_create_date  \\\n",
       "0   2019-01-14              USD           18745.92           2018-12-30   \n",
       "34  2019-01-14              USD           22480.50           2018-12-30   \n",
       "35  2019-01-14              USD           39262.61           2018-12-30   \n",
       "36  2019-01-14              USD           71019.50           2018-12-30   \n",
       "37  2019-01-14              USD           23002.13           2018-12-30   \n",
       "\n",
       "    cust_payment_terms  payment_term  due_term  delay DELAY BUCKET(DAYS)  \\\n",
       "0                   20            15        15      0        (0-15) Days   \n",
       "34                  34            12        15     -3         (< 0) Days   \n",
       "35                  34            17        15      2        (0-15) Days   \n",
       "36                  34            10        15     -5         (< 0) Days   \n",
       "37                  34            16        15      1        (0-15) Days   \n",
       "\n",
       "   DUE TERM BUCKET(DAYS)  delay_bucket_id  due_term_bucket_id  \n",
       "0            (0-15) Days                1                   1  \n",
       "34           (0-15) Days                0                   1  \n",
       "35           (0-15) Days                1                   1  \n",
       "36           (0-15) Days                0                   1  \n",
       "37           (0-15) Days                1                   1  "
      ]
     },
     "execution_count": 80,
     "metadata": {},
     "output_type": "execute_result"
    }
   ],
   "source": [
    "df.head()\n"
   ]
  },
  {
   "cell_type": "code",
   "execution_count": 81,
   "metadata": {},
   "outputs": [],
   "source": [
    "#LETS FIX DATE COLOUMNS"
   ]
  },
  {
   "cell_type": "code",
   "execution_count": 82,
   "metadata": {},
   "outputs": [],
   "source": [
    "for col1 in ['baseline_create_date','due_in_date']:\n",
    "    df['{}.day'.format(col1)]=df[col1].dt.day\n",
    "    df['{}.year'.format(col1)]=df[col1].dt.year\n",
    "    df['{}.month'.format(col1)]=df[col1].dt.month\n",
    "    test_dataset['{}.day'.format(col1)]=test_dataset[col1].dt.day\n",
    "    test_dataset['{}.year'.format(col1)]=test_dataset[col1].dt.year\n",
    "    test_dataset['{}.month'.format(col1)]=test_dataset[col1].dt.month\n",
    "    test_dataset['{}.day_of_week'.format(col1)]=test_dataset[col1].dt.dayofweek"
   ]
  },
  {
   "cell_type": "code",
   "execution_count": 83,
   "metadata": {},
   "outputs": [],
   "source": [
    "del df[\"baseline_create_date\"]"
   ]
  },
  {
   "cell_type": "code",
   "execution_count": 84,
   "metadata": {},
   "outputs": [],
   "source": [
    "del df[\"due_in_date\"]"
   ]
  },
  {
   "cell_type": "code",
   "execution_count": 85,
   "metadata": {},
   "outputs": [],
   "source": [
    "del test_dataset[\"baseline_create_date\"]"
   ]
  },
  {
   "cell_type": "code",
   "execution_count": 86,
   "metadata": {},
   "outputs": [],
   "source": [
    "del test_dataset[\"due_in_date\"]"
   ]
  },
  {
   "cell_type": "code",
   "execution_count": 87,
   "metadata": {},
   "outputs": [],
   "source": [
    "#convert total_open_amount to usd"
   ]
  },
  {
   "cell_type": "code",
   "execution_count": 88,
   "metadata": {},
   "outputs": [],
   "source": [
    "df[\"amount_in_USD\"] = np.where(df.invoice_currency==\"CAD\",df.total_open_amount*0.81,df.total_open_amount)"
   ]
  },
  {
   "cell_type": "code",
   "execution_count": 89,
   "metadata": {},
   "outputs": [],
   "source": [
    "test_dataset[\"amount_in_USD\"] = np.where(test_dataset.invoice_currency==\"CAD\",test_dataset.total_open_amount*0.81,test_dataset.total_open_amount)"
   ]
  },
  {
   "cell_type": "code",
   "execution_count": 90,
   "metadata": {},
   "outputs": [
    {
     "data": {
      "text/html": [
       "<div>\n",
       "<style scoped>\n",
       "    .dataframe tbody tr th:only-of-type {\n",
       "        vertical-align: middle;\n",
       "    }\n",
       "\n",
       "    .dataframe tbody tr th {\n",
       "        vertical-align: top;\n",
       "    }\n",
       "\n",
       "    .dataframe thead th {\n",
       "        text-align: right;\n",
       "    }\n",
       "</style>\n",
       "<table border=\"1\" class=\"dataframe\">\n",
       "  <thead>\n",
       "    <tr style=\"text-align: right;\">\n",
       "      <th></th>\n",
       "      <th>business_code</th>\n",
       "      <th>cust_number</th>\n",
       "      <th>clear_date</th>\n",
       "      <th>buisness_year</th>\n",
       "      <th>posting_date</th>\n",
       "      <th>invoice_currency</th>\n",
       "      <th>total_open_amount</th>\n",
       "      <th>cust_payment_terms</th>\n",
       "      <th>payment_term</th>\n",
       "      <th>due_term</th>\n",
       "      <th>...</th>\n",
       "      <th>DUE TERM BUCKET(DAYS)</th>\n",
       "      <th>delay_bucket_id</th>\n",
       "      <th>due_term_bucket_id</th>\n",
       "      <th>baseline_create_date.day</th>\n",
       "      <th>baseline_create_date.year</th>\n",
       "      <th>baseline_create_date.month</th>\n",
       "      <th>due_in_date.day</th>\n",
       "      <th>due_in_date.year</th>\n",
       "      <th>due_in_date.month</th>\n",
       "      <th>amount_in_USD</th>\n",
       "    </tr>\n",
       "  </thead>\n",
       "  <tbody>\n",
       "    <tr>\n",
       "      <th>0</th>\n",
       "      <td>1</td>\n",
       "      <td>496</td>\n",
       "      <td>2019-01-14</td>\n",
       "      <td>0</td>\n",
       "      <td>2018-12-30</td>\n",
       "      <td>USD</td>\n",
       "      <td>18745.92</td>\n",
       "      <td>20</td>\n",
       "      <td>15</td>\n",
       "      <td>15</td>\n",
       "      <td>...</td>\n",
       "      <td>(0-15) Days</td>\n",
       "      <td>1</td>\n",
       "      <td>1</td>\n",
       "      <td>30</td>\n",
       "      <td>2018</td>\n",
       "      <td>12</td>\n",
       "      <td>14</td>\n",
       "      <td>2019</td>\n",
       "      <td>1</td>\n",
       "      <td>18745.92</td>\n",
       "    </tr>\n",
       "    <tr>\n",
       "      <th>34</th>\n",
       "      <td>1</td>\n",
       "      <td>842</td>\n",
       "      <td>2019-01-11</td>\n",
       "      <td>0</td>\n",
       "      <td>2018-12-30</td>\n",
       "      <td>USD</td>\n",
       "      <td>22480.50</td>\n",
       "      <td>34</td>\n",
       "      <td>12</td>\n",
       "      <td>15</td>\n",
       "      <td>...</td>\n",
       "      <td>(0-15) Days</td>\n",
       "      <td>0</td>\n",
       "      <td>1</td>\n",
       "      <td>30</td>\n",
       "      <td>2018</td>\n",
       "      <td>12</td>\n",
       "      <td>14</td>\n",
       "      <td>2019</td>\n",
       "      <td>1</td>\n",
       "      <td>22480.50</td>\n",
       "    </tr>\n",
       "    <tr>\n",
       "      <th>35</th>\n",
       "      <td>1</td>\n",
       "      <td>842</td>\n",
       "      <td>2019-01-16</td>\n",
       "      <td>0</td>\n",
       "      <td>2018-12-30</td>\n",
       "      <td>USD</td>\n",
       "      <td>39262.61</td>\n",
       "      <td>34</td>\n",
       "      <td>17</td>\n",
       "      <td>15</td>\n",
       "      <td>...</td>\n",
       "      <td>(0-15) Days</td>\n",
       "      <td>1</td>\n",
       "      <td>1</td>\n",
       "      <td>30</td>\n",
       "      <td>2018</td>\n",
       "      <td>12</td>\n",
       "      <td>14</td>\n",
       "      <td>2019</td>\n",
       "      <td>1</td>\n",
       "      <td>39262.61</td>\n",
       "    </tr>\n",
       "    <tr>\n",
       "      <th>36</th>\n",
       "      <td>1</td>\n",
       "      <td>842</td>\n",
       "      <td>2019-01-09</td>\n",
       "      <td>0</td>\n",
       "      <td>2018-12-30</td>\n",
       "      <td>USD</td>\n",
       "      <td>71019.50</td>\n",
       "      <td>34</td>\n",
       "      <td>10</td>\n",
       "      <td>15</td>\n",
       "      <td>...</td>\n",
       "      <td>(0-15) Days</td>\n",
       "      <td>0</td>\n",
       "      <td>1</td>\n",
       "      <td>30</td>\n",
       "      <td>2018</td>\n",
       "      <td>12</td>\n",
       "      <td>14</td>\n",
       "      <td>2019</td>\n",
       "      <td>1</td>\n",
       "      <td>71019.50</td>\n",
       "    </tr>\n",
       "    <tr>\n",
       "      <th>37</th>\n",
       "      <td>1</td>\n",
       "      <td>842</td>\n",
       "      <td>2019-01-15</td>\n",
       "      <td>0</td>\n",
       "      <td>2018-12-30</td>\n",
       "      <td>USD</td>\n",
       "      <td>23002.13</td>\n",
       "      <td>34</td>\n",
       "      <td>16</td>\n",
       "      <td>15</td>\n",
       "      <td>...</td>\n",
       "      <td>(0-15) Days</td>\n",
       "      <td>1</td>\n",
       "      <td>1</td>\n",
       "      <td>30</td>\n",
       "      <td>2018</td>\n",
       "      <td>12</td>\n",
       "      <td>14</td>\n",
       "      <td>2019</td>\n",
       "      <td>1</td>\n",
       "      <td>23002.13</td>\n",
       "    </tr>\n",
       "  </tbody>\n",
       "</table>\n",
       "<p>5 rows × 22 columns</p>\n",
       "</div>"
      ],
      "text/plain": [
       "    business_code  cust_number clear_date  buisness_year posting_date  \\\n",
       "0               1          496 2019-01-14              0   2018-12-30   \n",
       "34              1          842 2019-01-11              0   2018-12-30   \n",
       "35              1          842 2019-01-16              0   2018-12-30   \n",
       "36              1          842 2019-01-09              0   2018-12-30   \n",
       "37              1          842 2019-01-15              0   2018-12-30   \n",
       "\n",
       "   invoice_currency  total_open_amount  cust_payment_terms  payment_term  \\\n",
       "0               USD           18745.92                  20            15   \n",
       "34              USD           22480.50                  34            12   \n",
       "35              USD           39262.61                  34            17   \n",
       "36              USD           71019.50                  34            10   \n",
       "37              USD           23002.13                  34            16   \n",
       "\n",
       "    due_term  ...  DUE TERM BUCKET(DAYS) delay_bucket_id due_term_bucket_id  \\\n",
       "0         15  ...            (0-15) Days               1                  1   \n",
       "34        15  ...            (0-15) Days               0                  1   \n",
       "35        15  ...            (0-15) Days               1                  1   \n",
       "36        15  ...            (0-15) Days               0                  1   \n",
       "37        15  ...            (0-15) Days               1                  1   \n",
       "\n",
       "    baseline_create_date.day  baseline_create_date.year  \\\n",
       "0                         30                       2018   \n",
       "34                        30                       2018   \n",
       "35                        30                       2018   \n",
       "36                        30                       2018   \n",
       "37                        30                       2018   \n",
       "\n",
       "    baseline_create_date.month  due_in_date.day  due_in_date.year  \\\n",
       "0                           12               14              2019   \n",
       "34                          12               14              2019   \n",
       "35                          12               14              2019   \n",
       "36                          12               14              2019   \n",
       "37                          12               14              2019   \n",
       "\n",
       "    due_in_date.month  amount_in_USD  \n",
       "0                   1       18745.92  \n",
       "34                  1       22480.50  \n",
       "35                  1       39262.61  \n",
       "36                  1       71019.50  \n",
       "37                  1       23002.13  \n",
       "\n",
       "[5 rows x 22 columns]"
      ]
     },
     "execution_count": 90,
     "metadata": {},
     "output_type": "execute_result"
    }
   ],
   "source": [
    "df.head()"
   ]
  },
  {
   "cell_type": "code",
   "execution_count": 91,
   "metadata": {},
   "outputs": [],
   "source": [
    "del df[\"total_open_amount\"]"
   ]
  },
  {
   "cell_type": "code",
   "execution_count": 92,
   "metadata": {},
   "outputs": [],
   "source": [
    "del test_dataset[\"total_open_amount\"]"
   ]
  },
  {
   "cell_type": "code",
   "execution_count": 93,
   "metadata": {},
   "outputs": [],
   "source": [
    "test_dataset.sort_values(by='posting_date',inplace = True)"
   ]
  },
  {
   "cell_type": "code",
   "execution_count": 94,
   "metadata": {},
   "outputs": [],
   "source": [
    "df.sort_values(by='posting_date',inplace = True)"
   ]
  },
  {
   "cell_type": "code",
   "execution_count": 95,
   "metadata": {},
   "outputs": [],
   "source": [
    "del df[\"posting_date\"]"
   ]
  },
  {
   "cell_type": "code",
   "execution_count": 96,
   "metadata": {},
   "outputs": [],
   "source": [
    "del test_dataset[\"posting_date\"]"
   ]
  },
  {
   "cell_type": "code",
   "execution_count": 97,
   "metadata": {},
   "outputs": [
    {
     "data": {
      "text/plain": [
       "{'DELAY BUCKET(DAYS)', 'delay', 'delay_bucket_id', 'payment_term'}"
      ]
     },
     "execution_count": 97,
     "metadata": {},
     "output_type": "execute_result"
    }
   ],
   "source": [
    "cols_drop1 = set(df.columns) - set(test_dataset.columns)\n",
    "cols_drop1"
   ]
  },
  {
   "cell_type": "code",
   "execution_count": 98,
   "metadata": {},
   "outputs": [
    {
     "data": {
      "text/plain": [
       "business_code                 0.246980\n",
       "cust_number                   0.095158\n",
       "buisness_year                -0.009198\n",
       "cust_payment_terms            0.317031\n",
       "payment_term                  1.000000\n",
       "due_term                      0.632153\n",
       "delay                         0.594237\n",
       "delay_bucket_id               0.584080\n",
       "due_term_bucket_id            0.660692\n",
       "baseline_create_date.day      0.005883\n",
       "baseline_create_date.year    -0.008832\n",
       "baseline_create_date.month   -0.053042\n",
       "due_in_date.day              -0.011719\n",
       "due_in_date.year             -0.015271\n",
       "due_in_date.month             0.021379\n",
       "amount_in_USD                -0.062891\n",
       "Name: payment_term, dtype: float64"
      ]
     },
     "execution_count": 98,
     "metadata": {},
     "output_type": "execute_result"
    }
   ],
   "source": [
    "df.corr()['payment_term']"
   ]
  },
  {
   "cell_type": "code",
   "execution_count": 99,
   "metadata": {},
   "outputs": [
    {
     "data": {
      "text/plain": [
       "1897.50      82\n",
       "1898.20      70\n",
       "471.56       68\n",
       "2373.96      65\n",
       "6532.60      52\n",
       "             ..\n",
       "383.25        1\n",
       "12284.55      1\n",
       "280.76        1\n",
       "129674.77     1\n",
       "24576.00      1\n",
       "Name: amount_in_USD, Length: 33113, dtype: int64"
      ]
     },
     "execution_count": 99,
     "metadata": {},
     "output_type": "execute_result"
    }
   ],
   "source": [
    "df[\"amount_in_USD\"].value_counts()"
   ]
  },
  {
   "cell_type": "code",
   "execution_count": 100,
   "metadata": {},
   "outputs": [],
   "source": [
    "#lets convert it into smaller value by log transformation"
   ]
  },
  {
   "cell_type": "code",
   "execution_count": 101,
   "metadata": {},
   "outputs": [],
   "source": [
    "df['amount_in_USD'] = np.log(df['amount_in_USD'])\n"
   ]
  },
  {
   "cell_type": "code",
   "execution_count": 102,
   "metadata": {},
   "outputs": [],
   "source": [
    "test_dataset['amount_in_USD'] = np.log(test_dataset['amount_in_USD'])"
   ]
  },
  {
   "cell_type": "code",
   "execution_count": 103,
   "metadata": {},
   "outputs": [
    {
     "data": {
      "text/plain": [
       "Index(['business_code', 'cust_number', 'clear_date', 'buisness_year',\n",
       "       'invoice_currency', 'cust_payment_terms', 'payment_term', 'due_term',\n",
       "       'delay', 'DELAY BUCKET(DAYS)', 'DUE TERM BUCKET(DAYS)',\n",
       "       'delay_bucket_id', 'due_term_bucket_id', 'baseline_create_date.day',\n",
       "       'baseline_create_date.year', 'baseline_create_date.month',\n",
       "       'due_in_date.day', 'due_in_date.year', 'due_in_date.month',\n",
       "       'amount_in_USD'],\n",
       "      dtype='object')"
      ]
     },
     "execution_count": 103,
     "metadata": {},
     "output_type": "execute_result"
    }
   ],
   "source": [
    "df.columns"
   ]
  },
  {
   "cell_type": "code",
   "execution_count": 104,
   "metadata": {},
   "outputs": [],
   "source": [
    "#correlation matrix"
   ]
  },
  {
   "cell_type": "code",
   "execution_count": 105,
   "metadata": {},
   "outputs": [
    {
     "data": {
      "text/html": [
       "<div>\n",
       "<style scoped>\n",
       "    .dataframe tbody tr th:only-of-type {\n",
       "        vertical-align: middle;\n",
       "    }\n",
       "\n",
       "    .dataframe tbody tr th {\n",
       "        vertical-align: top;\n",
       "    }\n",
       "\n",
       "    .dataframe thead th {\n",
       "        text-align: right;\n",
       "    }\n",
       "</style>\n",
       "<table border=\"1\" class=\"dataframe\">\n",
       "  <thead>\n",
       "    <tr style=\"text-align: right;\">\n",
       "      <th></th>\n",
       "      <th>business_code</th>\n",
       "      <th>cust_number</th>\n",
       "      <th>buisness_year</th>\n",
       "      <th>cust_payment_terms</th>\n",
       "      <th>payment_term</th>\n",
       "      <th>due_term</th>\n",
       "      <th>delay</th>\n",
       "      <th>delay_bucket_id</th>\n",
       "      <th>due_term_bucket_id</th>\n",
       "      <th>baseline_create_date.day</th>\n",
       "      <th>baseline_create_date.year</th>\n",
       "      <th>baseline_create_date.month</th>\n",
       "      <th>due_in_date.day</th>\n",
       "      <th>due_in_date.year</th>\n",
       "      <th>due_in_date.month</th>\n",
       "      <th>amount_in_USD</th>\n",
       "    </tr>\n",
       "  </thead>\n",
       "  <tbody>\n",
       "    <tr>\n",
       "      <th>business_code</th>\n",
       "      <td>1.000000</td>\n",
       "      <td>-0.046418</td>\n",
       "      <td>0.002595</td>\n",
       "      <td>0.372959</td>\n",
       "      <td>0.246980</td>\n",
       "      <td>0.241681</td>\n",
       "      <td>0.057962</td>\n",
       "      <td>0.055881</td>\n",
       "      <td>0.250511</td>\n",
       "      <td>0.008741</td>\n",
       "      <td>0.002779</td>\n",
       "      <td>-0.014716</td>\n",
       "      <td>0.015324</td>\n",
       "      <td>0.002135</td>\n",
       "      <td>0.010523</td>\n",
       "      <td>-0.004258</td>\n",
       "    </tr>\n",
       "    <tr>\n",
       "      <th>cust_number</th>\n",
       "      <td>-0.046418</td>\n",
       "      <td>1.000000</td>\n",
       "      <td>-0.032191</td>\n",
       "      <td>0.250986</td>\n",
       "      <td>0.095158</td>\n",
       "      <td>-0.056992</td>\n",
       "      <td>0.178144</td>\n",
       "      <td>0.148324</td>\n",
       "      <td>0.011447</td>\n",
       "      <td>0.013244</td>\n",
       "      <td>-0.032358</td>\n",
       "      <td>-0.021104</td>\n",
       "      <td>0.000969</td>\n",
       "      <td>-0.034017</td>\n",
       "      <td>-0.023763</td>\n",
       "      <td>0.011830</td>\n",
       "    </tr>\n",
       "    <tr>\n",
       "      <th>buisness_year</th>\n",
       "      <td>0.002595</td>\n",
       "      <td>-0.032191</td>\n",
       "      <td>1.000000</td>\n",
       "      <td>-0.002766</td>\n",
       "      <td>-0.009198</td>\n",
       "      <td>-0.000575</td>\n",
       "      <td>-0.010904</td>\n",
       "      <td>0.000681</td>\n",
       "      <td>0.003189</td>\n",
       "      <td>0.014972</td>\n",
       "      <td>0.964184</td>\n",
       "      <td>-0.432754</td>\n",
       "      <td>-0.006519</td>\n",
       "      <td>0.980363</td>\n",
       "      <td>-0.466397</td>\n",
       "      <td>0.002051</td>\n",
       "    </tr>\n",
       "    <tr>\n",
       "      <th>cust_payment_terms</th>\n",
       "      <td>0.372959</td>\n",
       "      <td>0.250986</td>\n",
       "      <td>-0.002766</td>\n",
       "      <td>1.000000</td>\n",
       "      <td>0.317031</td>\n",
       "      <td>0.273311</td>\n",
       "      <td>0.112723</td>\n",
       "      <td>0.094962</td>\n",
       "      <td>0.297328</td>\n",
       "      <td>-0.017530</td>\n",
       "      <td>-0.001335</td>\n",
       "      <td>0.003170</td>\n",
       "      <td>-0.000568</td>\n",
       "      <td>0.000357</td>\n",
       "      <td>0.028008</td>\n",
       "      <td>-0.133779</td>\n",
       "    </tr>\n",
       "    <tr>\n",
       "      <th>payment_term</th>\n",
       "      <td>0.246980</td>\n",
       "      <td>0.095158</td>\n",
       "      <td>-0.009198</td>\n",
       "      <td>0.317031</td>\n",
       "      <td>1.000000</td>\n",
       "      <td>0.632153</td>\n",
       "      <td>0.594237</td>\n",
       "      <td>0.584080</td>\n",
       "      <td>0.660692</td>\n",
       "      <td>0.005883</td>\n",
       "      <td>-0.008832</td>\n",
       "      <td>-0.053042</td>\n",
       "      <td>-0.011719</td>\n",
       "      <td>-0.015271</td>\n",
       "      <td>0.021379</td>\n",
       "      <td>-0.061817</td>\n",
       "    </tr>\n",
       "    <tr>\n",
       "      <th>due_term</th>\n",
       "      <td>0.241681</td>\n",
       "      <td>-0.056992</td>\n",
       "      <td>-0.000575</td>\n",
       "      <td>0.273311</td>\n",
       "      <td>0.632153</td>\n",
       "      <td>1.000000</td>\n",
       "      <td>-0.247550</td>\n",
       "      <td>-0.085127</td>\n",
       "      <td>0.935533</td>\n",
       "      <td>-0.002899</td>\n",
       "      <td>0.003072</td>\n",
       "      <td>-0.040421</td>\n",
       "      <td>0.000128</td>\n",
       "      <td>0.004804</td>\n",
       "      <td>0.060637</td>\n",
       "      <td>-0.092834</td>\n",
       "    </tr>\n",
       "    <tr>\n",
       "      <th>delay</th>\n",
       "      <td>0.057962</td>\n",
       "      <td>0.178144</td>\n",
       "      <td>-0.010904</td>\n",
       "      <td>0.112723</td>\n",
       "      <td>0.594237</td>\n",
       "      <td>-0.247550</td>\n",
       "      <td>1.000000</td>\n",
       "      <td>0.818705</td>\n",
       "      <td>-0.144948</td>\n",
       "      <td>0.010366</td>\n",
       "      <td>-0.014232</td>\n",
       "      <td>-0.024367</td>\n",
       "      <td>-0.014786</td>\n",
       "      <td>-0.024082</td>\n",
       "      <td>-0.036209</td>\n",
       "      <td>0.019064</td>\n",
       "    </tr>\n",
       "    <tr>\n",
       "      <th>delay_bucket_id</th>\n",
       "      <td>0.055881</td>\n",
       "      <td>0.148324</td>\n",
       "      <td>0.000681</td>\n",
       "      <td>0.094962</td>\n",
       "      <td>0.584080</td>\n",
       "      <td>-0.085127</td>\n",
       "      <td>0.818705</td>\n",
       "      <td>1.000000</td>\n",
       "      <td>0.011342</td>\n",
       "      <td>0.019037</td>\n",
       "      <td>-0.003289</td>\n",
       "      <td>-0.032388</td>\n",
       "      <td>-0.013794</td>\n",
       "      <td>-0.014632</td>\n",
       "      <td>-0.025156</td>\n",
       "      <td>-0.001334</td>\n",
       "    </tr>\n",
       "    <tr>\n",
       "      <th>due_term_bucket_id</th>\n",
       "      <td>0.250511</td>\n",
       "      <td>0.011447</td>\n",
       "      <td>0.003189</td>\n",
       "      <td>0.297328</td>\n",
       "      <td>0.660692</td>\n",
       "      <td>0.935533</td>\n",
       "      <td>-0.144948</td>\n",
       "      <td>0.011342</td>\n",
       "      <td>1.000000</td>\n",
       "      <td>-0.008014</td>\n",
       "      <td>0.007322</td>\n",
       "      <td>-0.045374</td>\n",
       "      <td>0.001358</td>\n",
       "      <td>0.009300</td>\n",
       "      <td>0.048173</td>\n",
       "      <td>-0.091544</td>\n",
       "    </tr>\n",
       "    <tr>\n",
       "      <th>baseline_create_date.day</th>\n",
       "      <td>0.008741</td>\n",
       "      <td>0.013244</td>\n",
       "      <td>0.014972</td>\n",
       "      <td>-0.017530</td>\n",
       "      <td>0.005883</td>\n",
       "      <td>-0.002899</td>\n",
       "      <td>0.010366</td>\n",
       "      <td>0.019037</td>\n",
       "      <td>-0.008014</td>\n",
       "      <td>1.000000</td>\n",
       "      <td>-0.025833</td>\n",
       "      <td>-0.028167</td>\n",
       "      <td>-0.374141</td>\n",
       "      <td>0.017228</td>\n",
       "      <td>0.033811</td>\n",
       "      <td>0.042457</td>\n",
       "    </tr>\n",
       "    <tr>\n",
       "      <th>baseline_create_date.year</th>\n",
       "      <td>0.002779</td>\n",
       "      <td>-0.032358</td>\n",
       "      <td>0.964184</td>\n",
       "      <td>-0.001335</td>\n",
       "      <td>-0.008832</td>\n",
       "      <td>0.003072</td>\n",
       "      <td>-0.014232</td>\n",
       "      <td>-0.003289</td>\n",
       "      <td>0.007322</td>\n",
       "      <td>-0.025833</td>\n",
       "      <td>1.000000</td>\n",
       "      <td>-0.475851</td>\n",
       "      <td>-0.001582</td>\n",
       "      <td>0.947199</td>\n",
       "      <td>-0.431328</td>\n",
       "      <td>0.002393</td>\n",
       "    </tr>\n",
       "    <tr>\n",
       "      <th>baseline_create_date.month</th>\n",
       "      <td>-0.014716</td>\n",
       "      <td>-0.021104</td>\n",
       "      <td>-0.432754</td>\n",
       "      <td>0.003170</td>\n",
       "      <td>-0.053042</td>\n",
       "      <td>-0.040421</td>\n",
       "      <td>-0.024367</td>\n",
       "      <td>-0.032388</td>\n",
       "      <td>-0.045374</td>\n",
       "      <td>-0.028167</td>\n",
       "      <td>-0.475851</td>\n",
       "      <td>1.000000</td>\n",
       "      <td>0.050096</td>\n",
       "      <td>-0.405188</td>\n",
       "      <td>0.917994</td>\n",
       "      <td>0.016023</td>\n",
       "    </tr>\n",
       "    <tr>\n",
       "      <th>due_in_date.day</th>\n",
       "      <td>0.015324</td>\n",
       "      <td>0.000969</td>\n",
       "      <td>-0.006519</td>\n",
       "      <td>-0.000568</td>\n",
       "      <td>-0.011719</td>\n",
       "      <td>0.000128</td>\n",
       "      <td>-0.014786</td>\n",
       "      <td>-0.013794</td>\n",
       "      <td>0.001358</td>\n",
       "      <td>-0.374141</td>\n",
       "      <td>-0.001582</td>\n",
       "      <td>0.050096</td>\n",
       "      <td>1.000000</td>\n",
       "      <td>-0.024165</td>\n",
       "      <td>-0.036278</td>\n",
       "      <td>-0.003401</td>\n",
       "    </tr>\n",
       "    <tr>\n",
       "      <th>due_in_date.year</th>\n",
       "      <td>0.002135</td>\n",
       "      <td>-0.034017</td>\n",
       "      <td>0.980363</td>\n",
       "      <td>0.000357</td>\n",
       "      <td>-0.015271</td>\n",
       "      <td>0.004804</td>\n",
       "      <td>-0.024082</td>\n",
       "      <td>-0.014632</td>\n",
       "      <td>0.009300</td>\n",
       "      <td>0.017228</td>\n",
       "      <td>0.947199</td>\n",
       "      <td>-0.405188</td>\n",
       "      <td>-0.024165</td>\n",
       "      <td>1.000000</td>\n",
       "      <td>-0.479936</td>\n",
       "      <td>-0.000452</td>\n",
       "    </tr>\n",
       "    <tr>\n",
       "      <th>due_in_date.month</th>\n",
       "      <td>0.010523</td>\n",
       "      <td>-0.023763</td>\n",
       "      <td>-0.466397</td>\n",
       "      <td>0.028008</td>\n",
       "      <td>0.021379</td>\n",
       "      <td>0.060637</td>\n",
       "      <td>-0.036209</td>\n",
       "      <td>-0.025156</td>\n",
       "      <td>0.048173</td>\n",
       "      <td>0.033811</td>\n",
       "      <td>-0.431328</td>\n",
       "      <td>0.917994</td>\n",
       "      <td>-0.036278</td>\n",
       "      <td>-0.479936</td>\n",
       "      <td>1.000000</td>\n",
       "      <td>0.013742</td>\n",
       "    </tr>\n",
       "    <tr>\n",
       "      <th>amount_in_USD</th>\n",
       "      <td>-0.004258</td>\n",
       "      <td>0.011830</td>\n",
       "      <td>0.002051</td>\n",
       "      <td>-0.133779</td>\n",
       "      <td>-0.061817</td>\n",
       "      <td>-0.092834</td>\n",
       "      <td>0.019064</td>\n",
       "      <td>-0.001334</td>\n",
       "      <td>-0.091544</td>\n",
       "      <td>0.042457</td>\n",
       "      <td>0.002393</td>\n",
       "      <td>0.016023</td>\n",
       "      <td>-0.003401</td>\n",
       "      <td>-0.000452</td>\n",
       "      <td>0.013742</td>\n",
       "      <td>1.000000</td>\n",
       "    </tr>\n",
       "  </tbody>\n",
       "</table>\n",
       "</div>"
      ],
      "text/plain": [
       "                            business_code  cust_number  buisness_year  \\\n",
       "business_code                    1.000000    -0.046418       0.002595   \n",
       "cust_number                     -0.046418     1.000000      -0.032191   \n",
       "buisness_year                    0.002595    -0.032191       1.000000   \n",
       "cust_payment_terms               0.372959     0.250986      -0.002766   \n",
       "payment_term                     0.246980     0.095158      -0.009198   \n",
       "due_term                         0.241681    -0.056992      -0.000575   \n",
       "delay                            0.057962     0.178144      -0.010904   \n",
       "delay_bucket_id                  0.055881     0.148324       0.000681   \n",
       "due_term_bucket_id               0.250511     0.011447       0.003189   \n",
       "baseline_create_date.day         0.008741     0.013244       0.014972   \n",
       "baseline_create_date.year        0.002779    -0.032358       0.964184   \n",
       "baseline_create_date.month      -0.014716    -0.021104      -0.432754   \n",
       "due_in_date.day                  0.015324     0.000969      -0.006519   \n",
       "due_in_date.year                 0.002135    -0.034017       0.980363   \n",
       "due_in_date.month                0.010523    -0.023763      -0.466397   \n",
       "amount_in_USD                   -0.004258     0.011830       0.002051   \n",
       "\n",
       "                            cust_payment_terms  payment_term  due_term  \\\n",
       "business_code                         0.372959      0.246980  0.241681   \n",
       "cust_number                           0.250986      0.095158 -0.056992   \n",
       "buisness_year                        -0.002766     -0.009198 -0.000575   \n",
       "cust_payment_terms                    1.000000      0.317031  0.273311   \n",
       "payment_term                          0.317031      1.000000  0.632153   \n",
       "due_term                              0.273311      0.632153  1.000000   \n",
       "delay                                 0.112723      0.594237 -0.247550   \n",
       "delay_bucket_id                       0.094962      0.584080 -0.085127   \n",
       "due_term_bucket_id                    0.297328      0.660692  0.935533   \n",
       "baseline_create_date.day             -0.017530      0.005883 -0.002899   \n",
       "baseline_create_date.year            -0.001335     -0.008832  0.003072   \n",
       "baseline_create_date.month            0.003170     -0.053042 -0.040421   \n",
       "due_in_date.day                      -0.000568     -0.011719  0.000128   \n",
       "due_in_date.year                      0.000357     -0.015271  0.004804   \n",
       "due_in_date.month                     0.028008      0.021379  0.060637   \n",
       "amount_in_USD                        -0.133779     -0.061817 -0.092834   \n",
       "\n",
       "                               delay  delay_bucket_id  due_term_bucket_id  \\\n",
       "business_code               0.057962         0.055881            0.250511   \n",
       "cust_number                 0.178144         0.148324            0.011447   \n",
       "buisness_year              -0.010904         0.000681            0.003189   \n",
       "cust_payment_terms          0.112723         0.094962            0.297328   \n",
       "payment_term                0.594237         0.584080            0.660692   \n",
       "due_term                   -0.247550        -0.085127            0.935533   \n",
       "delay                       1.000000         0.818705           -0.144948   \n",
       "delay_bucket_id             0.818705         1.000000            0.011342   \n",
       "due_term_bucket_id         -0.144948         0.011342            1.000000   \n",
       "baseline_create_date.day    0.010366         0.019037           -0.008014   \n",
       "baseline_create_date.year  -0.014232        -0.003289            0.007322   \n",
       "baseline_create_date.month -0.024367        -0.032388           -0.045374   \n",
       "due_in_date.day            -0.014786        -0.013794            0.001358   \n",
       "due_in_date.year           -0.024082        -0.014632            0.009300   \n",
       "due_in_date.month          -0.036209        -0.025156            0.048173   \n",
       "amount_in_USD               0.019064        -0.001334           -0.091544   \n",
       "\n",
       "                            baseline_create_date.day  \\\n",
       "business_code                               0.008741   \n",
       "cust_number                                 0.013244   \n",
       "buisness_year                               0.014972   \n",
       "cust_payment_terms                         -0.017530   \n",
       "payment_term                                0.005883   \n",
       "due_term                                   -0.002899   \n",
       "delay                                       0.010366   \n",
       "delay_bucket_id                             0.019037   \n",
       "due_term_bucket_id                         -0.008014   \n",
       "baseline_create_date.day                    1.000000   \n",
       "baseline_create_date.year                  -0.025833   \n",
       "baseline_create_date.month                 -0.028167   \n",
       "due_in_date.day                            -0.374141   \n",
       "due_in_date.year                            0.017228   \n",
       "due_in_date.month                           0.033811   \n",
       "amount_in_USD                               0.042457   \n",
       "\n",
       "                            baseline_create_date.year  \\\n",
       "business_code                                0.002779   \n",
       "cust_number                                 -0.032358   \n",
       "buisness_year                                0.964184   \n",
       "cust_payment_terms                          -0.001335   \n",
       "payment_term                                -0.008832   \n",
       "due_term                                     0.003072   \n",
       "delay                                       -0.014232   \n",
       "delay_bucket_id                             -0.003289   \n",
       "due_term_bucket_id                           0.007322   \n",
       "baseline_create_date.day                    -0.025833   \n",
       "baseline_create_date.year                    1.000000   \n",
       "baseline_create_date.month                  -0.475851   \n",
       "due_in_date.day                             -0.001582   \n",
       "due_in_date.year                             0.947199   \n",
       "due_in_date.month                           -0.431328   \n",
       "amount_in_USD                                0.002393   \n",
       "\n",
       "                            baseline_create_date.month  due_in_date.day  \\\n",
       "business_code                                -0.014716         0.015324   \n",
       "cust_number                                  -0.021104         0.000969   \n",
       "buisness_year                                -0.432754        -0.006519   \n",
       "cust_payment_terms                            0.003170        -0.000568   \n",
       "payment_term                                 -0.053042        -0.011719   \n",
       "due_term                                     -0.040421         0.000128   \n",
       "delay                                        -0.024367        -0.014786   \n",
       "delay_bucket_id                              -0.032388        -0.013794   \n",
       "due_term_bucket_id                           -0.045374         0.001358   \n",
       "baseline_create_date.day                     -0.028167        -0.374141   \n",
       "baseline_create_date.year                    -0.475851        -0.001582   \n",
       "baseline_create_date.month                    1.000000         0.050096   \n",
       "due_in_date.day                               0.050096         1.000000   \n",
       "due_in_date.year                             -0.405188        -0.024165   \n",
       "due_in_date.month                             0.917994        -0.036278   \n",
       "amount_in_USD                                 0.016023        -0.003401   \n",
       "\n",
       "                            due_in_date.year  due_in_date.month  amount_in_USD  \n",
       "business_code                       0.002135           0.010523      -0.004258  \n",
       "cust_number                        -0.034017          -0.023763       0.011830  \n",
       "buisness_year                       0.980363          -0.466397       0.002051  \n",
       "cust_payment_terms                  0.000357           0.028008      -0.133779  \n",
       "payment_term                       -0.015271           0.021379      -0.061817  \n",
       "due_term                            0.004804           0.060637      -0.092834  \n",
       "delay                              -0.024082          -0.036209       0.019064  \n",
       "delay_bucket_id                    -0.014632          -0.025156      -0.001334  \n",
       "due_term_bucket_id                  0.009300           0.048173      -0.091544  \n",
       "baseline_create_date.day            0.017228           0.033811       0.042457  \n",
       "baseline_create_date.year           0.947199          -0.431328       0.002393  \n",
       "baseline_create_date.month         -0.405188           0.917994       0.016023  \n",
       "due_in_date.day                    -0.024165          -0.036278      -0.003401  \n",
       "due_in_date.year                    1.000000          -0.479936      -0.000452  \n",
       "due_in_date.month                  -0.479936           1.000000       0.013742  \n",
       "amount_in_USD                      -0.000452           0.013742       1.000000  "
      ]
     },
     "execution_count": 105,
     "metadata": {},
     "output_type": "execute_result"
    }
   ],
   "source": [
    "d_corr=df.corr()\n",
    "d_corr"
   ]
  },
  {
   "cell_type": "code",
   "execution_count": 106,
   "metadata": {},
   "outputs": [
    {
     "data": {
      "text/html": [
       "<div>\n",
       "<style scoped>\n",
       "    .dataframe tbody tr th:only-of-type {\n",
       "        vertical-align: middle;\n",
       "    }\n",
       "\n",
       "    .dataframe tbody tr th {\n",
       "        vertical-align: top;\n",
       "    }\n",
       "\n",
       "    .dataframe thead th {\n",
       "        text-align: right;\n",
       "    }\n",
       "</style>\n",
       "<table border=\"1\" class=\"dataframe\">\n",
       "  <thead>\n",
       "    <tr style=\"text-align: right;\">\n",
       "      <th></th>\n",
       "      <th>business_code</th>\n",
       "      <th>cust_number</th>\n",
       "      <th>buisness_year</th>\n",
       "      <th>cust_payment_terms</th>\n",
       "      <th>payment_term</th>\n",
       "      <th>due_term</th>\n",
       "      <th>delay</th>\n",
       "      <th>delay_bucket_id</th>\n",
       "      <th>due_term_bucket_id</th>\n",
       "      <th>baseline_create_date.day</th>\n",
       "      <th>baseline_create_date.year</th>\n",
       "      <th>baseline_create_date.month</th>\n",
       "      <th>due_in_date.day</th>\n",
       "      <th>due_in_date.year</th>\n",
       "      <th>due_in_date.month</th>\n",
       "      <th>amount_in_USD</th>\n",
       "    </tr>\n",
       "  </thead>\n",
       "  <tbody>\n",
       "    <tr>\n",
       "      <th>business_code</th>\n",
       "      <td>0.237622</td>\n",
       "      <td>-5.283711</td>\n",
       "      <td>0.000433</td>\n",
       "      <td>2.075674</td>\n",
       "      <td>1.595966</td>\n",
       "      <td>1.296428</td>\n",
       "      <td>0.299538</td>\n",
       "      <td>0.021425</td>\n",
       "      <td>0.135144</td>\n",
       "      <td>0.037494</td>\n",
       "      <td>0.000465</td>\n",
       "      <td>-0.025244</td>\n",
       "      <td>0.065427</td>\n",
       "      <td>0.000361</td>\n",
       "      <td>0.017920</td>\n",
       "      <td>-0.003708</td>\n",
       "    </tr>\n",
       "    <tr>\n",
       "      <th>cust_number</th>\n",
       "      <td>-5.283711</td>\n",
       "      <td>54527.253287</td>\n",
       "      <td>-2.572853</td>\n",
       "      <td>669.132018</td>\n",
       "      <td>294.557303</td>\n",
       "      <td>-146.447255</td>\n",
       "      <td>441.004558</td>\n",
       "      <td>27.241065</td>\n",
       "      <td>2.958092</td>\n",
       "      <td>27.214264</td>\n",
       "      <td>-2.592076</td>\n",
       "      <td>-17.342209</td>\n",
       "      <td>1.982532</td>\n",
       "      <td>-2.756980</td>\n",
       "      <td>-19.384034</td>\n",
       "      <td>4.934337</td>\n",
       "    </tr>\n",
       "    <tr>\n",
       "      <th>buisness_year</th>\n",
       "      <td>0.000433</td>\n",
       "      <td>-2.572853</td>\n",
       "      <td>0.117151</td>\n",
       "      <td>-0.010809</td>\n",
       "      <td>-0.041732</td>\n",
       "      <td>-0.002167</td>\n",
       "      <td>-0.039565</td>\n",
       "      <td>0.000183</td>\n",
       "      <td>0.001208</td>\n",
       "      <td>0.045095</td>\n",
       "      <td>0.113211</td>\n",
       "      <td>-0.521243</td>\n",
       "      <td>-0.019541</td>\n",
       "      <td>0.116463</td>\n",
       "      <td>-0.557651</td>\n",
       "      <td>0.001254</td>\n",
       "    </tr>\n",
       "    <tr>\n",
       "      <th>cust_payment_terms</th>\n",
       "      <td>2.075674</td>\n",
       "      <td>669.132018</td>\n",
       "      <td>-0.010809</td>\n",
       "      <td>130.349564</td>\n",
       "      <td>47.981609</td>\n",
       "      <td>34.337941</td>\n",
       "      <td>13.643669</td>\n",
       "      <td>0.852732</td>\n",
       "      <td>3.756795</td>\n",
       "      <td>-1.761234</td>\n",
       "      <td>-0.005227</td>\n",
       "      <td>0.127345</td>\n",
       "      <td>-0.056750</td>\n",
       "      <td>0.001417</td>\n",
       "      <td>1.117036</td>\n",
       "      <td>-2.728315</td>\n",
       "    </tr>\n",
       "    <tr>\n",
       "      <th>payment_term</th>\n",
       "      <td>1.595966</td>\n",
       "      <td>294.557303</td>\n",
       "      <td>-0.041732</td>\n",
       "      <td>47.981609</td>\n",
       "      <td>175.726179</td>\n",
       "      <td>92.215386</td>\n",
       "      <td>83.510793</td>\n",
       "      <td>6.089719</td>\n",
       "      <td>9.692689</td>\n",
       "      <td>0.686240</td>\n",
       "      <td>-0.040162</td>\n",
       "      <td>-2.474345</td>\n",
       "      <td>-1.360627</td>\n",
       "      <td>-0.070262</td>\n",
       "      <td>0.989994</td>\n",
       "      <td>-1.463799</td>\n",
       "    </tr>\n",
       "    <tr>\n",
       "      <th>due_term</th>\n",
       "      <td>1.296428</td>\n",
       "      <td>-146.447255</td>\n",
       "      <td>-0.002167</td>\n",
       "      <td>34.337941</td>\n",
       "      <td>92.215386</td>\n",
       "      <td>121.094958</td>\n",
       "      <td>-28.879572</td>\n",
       "      <td>-0.736782</td>\n",
       "      <td>11.393289</td>\n",
       "      <td>-0.280760</td>\n",
       "      <td>0.011598</td>\n",
       "      <td>-1.565282</td>\n",
       "      <td>0.012292</td>\n",
       "      <td>0.018347</td>\n",
       "      <td>2.330959</td>\n",
       "      <td>-1.824823</td>\n",
       "    </tr>\n",
       "    <tr>\n",
       "      <th>delay</th>\n",
       "      <td>0.299538</td>\n",
       "      <td>441.004558</td>\n",
       "      <td>-0.039565</td>\n",
       "      <td>13.643669</td>\n",
       "      <td>83.510793</td>\n",
       "      <td>-28.879572</td>\n",
       "      <td>112.390365</td>\n",
       "      <td>6.826501</td>\n",
       "      <td>-1.700600</td>\n",
       "      <td>0.967000</td>\n",
       "      <td>-0.051760</td>\n",
       "      <td>-0.909062</td>\n",
       "      <td>-1.372919</td>\n",
       "      <td>-0.088609</td>\n",
       "      <td>-1.340965</td>\n",
       "      <td>0.361024</td>\n",
       "    </tr>\n",
       "    <tr>\n",
       "      <th>delay_bucket_id</th>\n",
       "      <td>0.021425</td>\n",
       "      <td>27.241065</td>\n",
       "      <td>0.000183</td>\n",
       "      <td>0.852732</td>\n",
       "      <td>6.089719</td>\n",
       "      <td>-0.736782</td>\n",
       "      <td>6.826501</td>\n",
       "      <td>0.618604</td>\n",
       "      <td>0.009872</td>\n",
       "      <td>0.131755</td>\n",
       "      <td>-0.000887</td>\n",
       "      <td>-0.089642</td>\n",
       "      <td>-0.095025</td>\n",
       "      <td>-0.003994</td>\n",
       "      <td>-0.069117</td>\n",
       "      <td>-0.001875</td>\n",
       "    </tr>\n",
       "    <tr>\n",
       "      <th>due_term_bucket_id</th>\n",
       "      <td>0.135144</td>\n",
       "      <td>2.958092</td>\n",
       "      <td>0.001208</td>\n",
       "      <td>3.756795</td>\n",
       "      <td>9.692689</td>\n",
       "      <td>11.393289</td>\n",
       "      <td>-1.700600</td>\n",
       "      <td>0.009872</td>\n",
       "      <td>1.224767</td>\n",
       "      <td>-0.078043</td>\n",
       "      <td>0.002780</td>\n",
       "      <td>-0.176708</td>\n",
       "      <td>0.013168</td>\n",
       "      <td>0.003572</td>\n",
       "      <td>0.186235</td>\n",
       "      <td>-0.180971</td>\n",
       "    </tr>\n",
       "    <tr>\n",
       "      <th>baseline_create_date.day</th>\n",
       "      <td>0.037494</td>\n",
       "      <td>27.214264</td>\n",
       "      <td>0.045095</td>\n",
       "      <td>-1.761234</td>\n",
       "      <td>0.686240</td>\n",
       "      <td>-0.280760</td>\n",
       "      <td>0.967000</td>\n",
       "      <td>0.131755</td>\n",
       "      <td>-0.078043</td>\n",
       "      <td>77.434969</td>\n",
       "      <td>-0.077982</td>\n",
       "      <td>-0.872223</td>\n",
       "      <td>-28.835901</td>\n",
       "      <td>0.052617</td>\n",
       "      <td>1.039335</td>\n",
       "      <td>0.667382</td>\n",
       "    </tr>\n",
       "    <tr>\n",
       "      <th>baseline_create_date.year</th>\n",
       "      <td>0.000465</td>\n",
       "      <td>-2.592076</td>\n",
       "      <td>0.113211</td>\n",
       "      <td>-0.005227</td>\n",
       "      <td>-0.040162</td>\n",
       "      <td>0.011598</td>\n",
       "      <td>-0.051760</td>\n",
       "      <td>-0.000887</td>\n",
       "      <td>0.002780</td>\n",
       "      <td>-0.077982</td>\n",
       "      <td>0.117682</td>\n",
       "      <td>-0.574449</td>\n",
       "      <td>-0.004752</td>\n",
       "      <td>0.112778</td>\n",
       "      <td>-0.516887</td>\n",
       "      <td>0.001466</td>\n",
       "    </tr>\n",
       "    <tr>\n",
       "      <th>baseline_create_date.month</th>\n",
       "      <td>-0.025244</td>\n",
       "      <td>-17.342209</td>\n",
       "      <td>-0.521243</td>\n",
       "      <td>0.127345</td>\n",
       "      <td>-2.474345</td>\n",
       "      <td>-1.565282</td>\n",
       "      <td>-0.909062</td>\n",
       "      <td>-0.089642</td>\n",
       "      <td>-0.176708</td>\n",
       "      <td>-0.872223</td>\n",
       "      <td>-0.574449</td>\n",
       "      <td>12.383731</td>\n",
       "      <td>1.544053</td>\n",
       "      <td>-0.494892</td>\n",
       "      <td>11.284919</td>\n",
       "      <td>0.100722</td>\n",
       "    </tr>\n",
       "    <tr>\n",
       "      <th>due_in_date.day</th>\n",
       "      <td>0.065427</td>\n",
       "      <td>1.982532</td>\n",
       "      <td>-0.019541</td>\n",
       "      <td>-0.056750</td>\n",
       "      <td>-1.360627</td>\n",
       "      <td>0.012292</td>\n",
       "      <td>-1.372919</td>\n",
       "      <td>-0.095025</td>\n",
       "      <td>0.013168</td>\n",
       "      <td>-28.835901</td>\n",
       "      <td>-0.004752</td>\n",
       "      <td>1.544053</td>\n",
       "      <td>76.711104</td>\n",
       "      <td>-0.073458</td>\n",
       "      <td>-1.109945</td>\n",
       "      <td>-0.053207</td>\n",
       "    </tr>\n",
       "    <tr>\n",
       "      <th>due_in_date.year</th>\n",
       "      <td>0.000361</td>\n",
       "      <td>-2.756980</td>\n",
       "      <td>0.116463</td>\n",
       "      <td>0.001417</td>\n",
       "      <td>-0.070262</td>\n",
       "      <td>0.018347</td>\n",
       "      <td>-0.088609</td>\n",
       "      <td>-0.003994</td>\n",
       "      <td>0.003572</td>\n",
       "      <td>0.052617</td>\n",
       "      <td>0.112778</td>\n",
       "      <td>-0.494892</td>\n",
       "      <td>-0.073458</td>\n",
       "      <td>0.120464</td>\n",
       "      <td>-0.581895</td>\n",
       "      <td>-0.000280</td>\n",
       "    </tr>\n",
       "    <tr>\n",
       "      <th>due_in_date.month</th>\n",
       "      <td>0.017920</td>\n",
       "      <td>-19.384034</td>\n",
       "      <td>-0.557651</td>\n",
       "      <td>1.117036</td>\n",
       "      <td>0.989994</td>\n",
       "      <td>2.330959</td>\n",
       "      <td>-1.340965</td>\n",
       "      <td>-0.069117</td>\n",
       "      <td>0.186235</td>\n",
       "      <td>1.039335</td>\n",
       "      <td>-0.516887</td>\n",
       "      <td>11.284919</td>\n",
       "      <td>-1.109945</td>\n",
       "      <td>-0.581895</td>\n",
       "      <td>12.202962</td>\n",
       "      <td>0.085747</td>\n",
       "    </tr>\n",
       "    <tr>\n",
       "      <th>amount_in_USD</th>\n",
       "      <td>-0.003708</td>\n",
       "      <td>4.934337</td>\n",
       "      <td>0.001254</td>\n",
       "      <td>-2.728315</td>\n",
       "      <td>-1.463799</td>\n",
       "      <td>-1.824823</td>\n",
       "      <td>0.361024</td>\n",
       "      <td>-0.001875</td>\n",
       "      <td>-0.180971</td>\n",
       "      <td>0.667382</td>\n",
       "      <td>0.001466</td>\n",
       "      <td>0.100722</td>\n",
       "      <td>-0.053207</td>\n",
       "      <td>-0.000280</td>\n",
       "      <td>0.085747</td>\n",
       "      <td>3.190829</td>\n",
       "    </tr>\n",
       "  </tbody>\n",
       "</table>\n",
       "</div>"
      ],
      "text/plain": [
       "                            business_code   cust_number  buisness_year  \\\n",
       "business_code                    0.237622     -5.283711       0.000433   \n",
       "cust_number                     -5.283711  54527.253287      -2.572853   \n",
       "buisness_year                    0.000433     -2.572853       0.117151   \n",
       "cust_payment_terms               2.075674    669.132018      -0.010809   \n",
       "payment_term                     1.595966    294.557303      -0.041732   \n",
       "due_term                         1.296428   -146.447255      -0.002167   \n",
       "delay                            0.299538    441.004558      -0.039565   \n",
       "delay_bucket_id                  0.021425     27.241065       0.000183   \n",
       "due_term_bucket_id               0.135144      2.958092       0.001208   \n",
       "baseline_create_date.day         0.037494     27.214264       0.045095   \n",
       "baseline_create_date.year        0.000465     -2.592076       0.113211   \n",
       "baseline_create_date.month      -0.025244    -17.342209      -0.521243   \n",
       "due_in_date.day                  0.065427      1.982532      -0.019541   \n",
       "due_in_date.year                 0.000361     -2.756980       0.116463   \n",
       "due_in_date.month                0.017920    -19.384034      -0.557651   \n",
       "amount_in_USD                   -0.003708      4.934337       0.001254   \n",
       "\n",
       "                            cust_payment_terms  payment_term    due_term  \\\n",
       "business_code                         2.075674      1.595966    1.296428   \n",
       "cust_number                         669.132018    294.557303 -146.447255   \n",
       "buisness_year                        -0.010809     -0.041732   -0.002167   \n",
       "cust_payment_terms                  130.349564     47.981609   34.337941   \n",
       "payment_term                         47.981609    175.726179   92.215386   \n",
       "due_term                             34.337941     92.215386  121.094958   \n",
       "delay                                13.643669     83.510793  -28.879572   \n",
       "delay_bucket_id                       0.852732      6.089719   -0.736782   \n",
       "due_term_bucket_id                    3.756795      9.692689   11.393289   \n",
       "baseline_create_date.day             -1.761234      0.686240   -0.280760   \n",
       "baseline_create_date.year            -0.005227     -0.040162    0.011598   \n",
       "baseline_create_date.month            0.127345     -2.474345   -1.565282   \n",
       "due_in_date.day                      -0.056750     -1.360627    0.012292   \n",
       "due_in_date.year                      0.001417     -0.070262    0.018347   \n",
       "due_in_date.month                     1.117036      0.989994    2.330959   \n",
       "amount_in_USD                        -2.728315     -1.463799   -1.824823   \n",
       "\n",
       "                                 delay  delay_bucket_id  due_term_bucket_id  \\\n",
       "business_code                 0.299538         0.021425            0.135144   \n",
       "cust_number                 441.004558        27.241065            2.958092   \n",
       "buisness_year                -0.039565         0.000183            0.001208   \n",
       "cust_payment_terms           13.643669         0.852732            3.756795   \n",
       "payment_term                 83.510793         6.089719            9.692689   \n",
       "due_term                    -28.879572        -0.736782           11.393289   \n",
       "delay                       112.390365         6.826501           -1.700600   \n",
       "delay_bucket_id               6.826501         0.618604            0.009872   \n",
       "due_term_bucket_id           -1.700600         0.009872            1.224767   \n",
       "baseline_create_date.day      0.967000         0.131755           -0.078043   \n",
       "baseline_create_date.year    -0.051760        -0.000887            0.002780   \n",
       "baseline_create_date.month   -0.909062        -0.089642           -0.176708   \n",
       "due_in_date.day              -1.372919        -0.095025            0.013168   \n",
       "due_in_date.year             -0.088609        -0.003994            0.003572   \n",
       "due_in_date.month            -1.340965        -0.069117            0.186235   \n",
       "amount_in_USD                 0.361024        -0.001875           -0.180971   \n",
       "\n",
       "                            baseline_create_date.day  \\\n",
       "business_code                               0.037494   \n",
       "cust_number                                27.214264   \n",
       "buisness_year                               0.045095   \n",
       "cust_payment_terms                         -1.761234   \n",
       "payment_term                                0.686240   \n",
       "due_term                                   -0.280760   \n",
       "delay                                       0.967000   \n",
       "delay_bucket_id                             0.131755   \n",
       "due_term_bucket_id                         -0.078043   \n",
       "baseline_create_date.day                   77.434969   \n",
       "baseline_create_date.year                  -0.077982   \n",
       "baseline_create_date.month                 -0.872223   \n",
       "due_in_date.day                           -28.835901   \n",
       "due_in_date.year                            0.052617   \n",
       "due_in_date.month                           1.039335   \n",
       "amount_in_USD                               0.667382   \n",
       "\n",
       "                            baseline_create_date.year  \\\n",
       "business_code                                0.000465   \n",
       "cust_number                                 -2.592076   \n",
       "buisness_year                                0.113211   \n",
       "cust_payment_terms                          -0.005227   \n",
       "payment_term                                -0.040162   \n",
       "due_term                                     0.011598   \n",
       "delay                                       -0.051760   \n",
       "delay_bucket_id                             -0.000887   \n",
       "due_term_bucket_id                           0.002780   \n",
       "baseline_create_date.day                    -0.077982   \n",
       "baseline_create_date.year                    0.117682   \n",
       "baseline_create_date.month                  -0.574449   \n",
       "due_in_date.day                             -0.004752   \n",
       "due_in_date.year                             0.112778   \n",
       "due_in_date.month                           -0.516887   \n",
       "amount_in_USD                                0.001466   \n",
       "\n",
       "                            baseline_create_date.month  due_in_date.day  \\\n",
       "business_code                                -0.025244         0.065427   \n",
       "cust_number                                 -17.342209         1.982532   \n",
       "buisness_year                                -0.521243        -0.019541   \n",
       "cust_payment_terms                            0.127345        -0.056750   \n",
       "payment_term                                 -2.474345        -1.360627   \n",
       "due_term                                     -1.565282         0.012292   \n",
       "delay                                        -0.909062        -1.372919   \n",
       "delay_bucket_id                              -0.089642        -0.095025   \n",
       "due_term_bucket_id                           -0.176708         0.013168   \n",
       "baseline_create_date.day                     -0.872223       -28.835901   \n",
       "baseline_create_date.year                    -0.574449        -0.004752   \n",
       "baseline_create_date.month                   12.383731         1.544053   \n",
       "due_in_date.day                               1.544053        76.711104   \n",
       "due_in_date.year                             -0.494892        -0.073458   \n",
       "due_in_date.month                            11.284919        -1.109945   \n",
       "amount_in_USD                                 0.100722        -0.053207   \n",
       "\n",
       "                            due_in_date.year  due_in_date.month  amount_in_USD  \n",
       "business_code                       0.000361           0.017920      -0.003708  \n",
       "cust_number                        -2.756980         -19.384034       4.934337  \n",
       "buisness_year                       0.116463          -0.557651       0.001254  \n",
       "cust_payment_terms                  0.001417           1.117036      -2.728315  \n",
       "payment_term                       -0.070262           0.989994      -1.463799  \n",
       "due_term                            0.018347           2.330959      -1.824823  \n",
       "delay                              -0.088609          -1.340965       0.361024  \n",
       "delay_bucket_id                    -0.003994          -0.069117      -0.001875  \n",
       "due_term_bucket_id                  0.003572           0.186235      -0.180971  \n",
       "baseline_create_date.day            0.052617           1.039335       0.667382  \n",
       "baseline_create_date.year           0.112778          -0.516887       0.001466  \n",
       "baseline_create_date.month         -0.494892          11.284919       0.100722  \n",
       "due_in_date.day                    -0.073458          -1.109945      -0.053207  \n",
       "due_in_date.year                    0.120464          -0.581895      -0.000280  \n",
       "due_in_date.month                  -0.581895          12.202962       0.085747  \n",
       "amount_in_USD                      -0.000280           0.085747       3.190829  "
      ]
     },
     "execution_count": 106,
     "metadata": {},
     "output_type": "execute_result"
    }
   ],
   "source": [
    "df.cov()"
   ]
  },
  {
   "cell_type": "markdown",
   "metadata": {},
   "source": [
    "# PIE PLOT"
   ]
  },
  {
   "cell_type": "code",
   "execution_count": 107,
   "metadata": {},
   "outputs": [
    {
     "data": {
      "image/png": "[encoded data removed]",
      "text/plain": [
       "<Figure size 800x800 with 1 Axes>"
      ]
     },
     "metadata": {},
     "output_type": "display_data"
    },
    {
     "data": {
      "image/png": "[encoded data removed]",
      "text/plain": [
       "<Figure size 800x800 with 1 Axes>"
      ]
     },
     "metadata": {},
     "output_type": "display_data"
    },
    {
     "data": {
      "image/png": "[encoded data removed]",
      "text/plain": [
       "<Figure size 800x800 with 1 Axes>"
      ]
     },
     "metadata": {},
     "output_type": "display_data"
    },
    {
     "data": {
      "image/png": "[encoded data removed]",
      "text/plain": [
       "<Figure size 800x800 with 1 Axes>"
      ]
     },
     "metadata": {},
     "output_type": "display_data"
    }
   ],
   "source": [
    "for col in ['business_code','cust_payment_terms', 'delay_bucket_id','due_term_bucket_id']:\n",
    "    plt.style.use('classic')\n",
    "    fig,ax = plt.subplots(figsize=(10,10))\n",
    "    plt.pie(df[col].value_counts(),labels=df[col].unique(),shadow=True,autopct='%1.1f%%')\n",
    "    plt.title('\\nCount of {}'.format(col))\n",
    "    plt.show()"
   ]
  },
  {
   "cell_type": "markdown",
   "metadata": {},
   "source": [
    "# Bar plot"
   ]
  },
  {
   "cell_type": "code",
   "execution_count": 108,
   "metadata": {},
   "outputs": [
    {
     "data": {
      "image/png": "[encoded data removed]",
      "text/plain": [
       "<Figure size 800x640 with 1 Axes>"
      ]
     },
     "metadata": {},
     "output_type": "display_data"
    },
    {
     "data": {
      "text/plain": [
       "<Figure size 1600x1600 with 0 Axes>"
      ]
     },
     "metadata": {},
     "output_type": "display_data"
    },
    {
     "data": {
      "image/png": "[encoded data removed]",
      "text/plain": [
       "<Figure size 800x640 with 1 Axes>"
      ]
     },
     "metadata": {},
     "output_type": "display_data"
    },
    {
     "data": {
      "text/plain": [
       "<Figure size 1600x1600 with 0 Axes>"
      ]
     },
     "metadata": {},
     "output_type": "display_data"
    },
    {
     "data": {
      "image/png": "[encoded data removed]",
      "text/plain": [
       "<Figure size 800x640 with 1 Axes>"
      ]
     },
     "metadata": {},
     "output_type": "display_data"
    },
    {
     "data": {
      "text/plain": [
       "<Figure size 1600x1600 with 0 Axes>"
      ]
     },
     "metadata": {},
     "output_type": "display_data"
    },
    {
     "data": {
      "image/png": "[encoded data removed]",
      "text/plain": [
       "<Figure size 800x640 with 1 Axes>"
      ]
     },
     "metadata": {},
     "output_type": "display_data"
    },
    {
     "data": {
      "text/plain": [
       "<Figure size 1600x1600 with 0 Axes>"
      ]
     },
     "metadata": {},
     "output_type": "display_data"
    }
   ],
   "source": [
    "features = ['business_code','cust_payment_terms', 'delay_bucket_id','due_term_bucket_id']\n",
    "import random\n",
    "\n",
    "for col in features:\n",
    "    plt.style.use('dark_background')\n",
    "    fig,ax = plt.subplots(figsize=(10,8))\n",
    "    plt.bar(list(df[col].value_counts().index),list(df[col].value_counts()),color =random.sample (['maroon','yellow'],1))            \n",
    "    plt.title('\\nCount of {}'.format(col))\n",
    "    plt.figure(figsize=(20,20))\n",
    "    plt.show()"
   ]
  },
  {
   "cell_type": "markdown",
   "metadata": {},
   "source": [
    "# Scatter plot"
   ]
  },
  {
   "cell_type": "code",
   "execution_count": 109,
   "metadata": {},
   "outputs": [
    {
     "data": {
      "image/png": "[encoded data removed]",
      "text/plain": [
       "<Figure size 640x480 with 1 Axes>"
      ]
     },
     "metadata": {},
     "output_type": "display_data"
    },
    {
     "data": {
      "image/png": "[encoded data removed]",
      "text/plain": [
       "<Figure size 640x480 with 1 Axes>"
      ]
     },
     "metadata": {},
     "output_type": "display_data"
    },
    {
     "data": {
      "image/png": "[encoded data removed]",
      "text/plain": [
       "<Figure size 640x480 with 1 Axes>"
      ]
     },
     "metadata": {},
     "output_type": "display_data"
    },
    {
     "data": {
      "image/png": "[encoded data removed]",
      "text/plain": [
       "<Figure size 640x480 with 1 Axes>"
      ]
     },
     "metadata": {},
     "output_type": "display_data"
    }
   ],
   "source": [
    "x_val = ['cust_number','business_code', 'amount_in_USD', 'cust_payment_terms']\n",
    "y_val = 'payment_term'\n",
    "for col in x_val:\n",
    "    plt.scatter(df[col],df['delay'],color=random.sample(['yellow','maroon'],1),linewidth = .5)\n",
    "    plt.title('{} V/S {}'.format(col,y_val))\n",
    "    plt.xlabel(col)\n",
    "    plt.ylabel(y_val)\n",
    "    plt.show()"
   ]
  },
  {
   "cell_type": "code",
   "execution_count": 110,
   "metadata": {},
   "outputs": [
    {
     "data": {
      "text/plain": [
       "business_code                     6\n",
       "cust_number                    1213\n",
       "clear_date                      402\n",
       "buisness_year                     2\n",
       "invoice_currency                  2\n",
       "cust_payment_terms               59\n",
       "payment_term                    150\n",
       "due_term                         30\n",
       "delay                           176\n",
       "DELAY BUCKET(DAYS)                6\n",
       "DUE TERM BUCKET(DAYS)             5\n",
       "delay_bucket_id                   6\n",
       "due_term_bucket_id                5\n",
       "baseline_create_date.day         31\n",
       "baseline_create_date.year         3\n",
       "baseline_create_date.month       12\n",
       "due_in_date.day                  31\n",
       "due_in_date.year                  3\n",
       "due_in_date.month                12\n",
       "amount_in_USD                 33113\n",
       "dtype: int64"
      ]
     },
     "execution_count": 110,
     "metadata": {},
     "output_type": "execute_result"
    }
   ],
   "source": [
    "df.nunique()"
   ]
  },
  {
   "cell_type": "markdown",
   "metadata": {},
   "source": [
    "# Outliers and removals"
   ]
  },
  {
   "cell_type": "code",
   "execution_count": 111,
   "metadata": {},
   "outputs": [
    {
     "data": {
      "text/html": [
       "<div>\n",
       "<style scoped>\n",
       "    .dataframe tbody tr th:only-of-type {\n",
       "        vertical-align: middle;\n",
       "    }\n",
       "\n",
       "    .dataframe tbody tr th {\n",
       "        vertical-align: top;\n",
       "    }\n",
       "\n",
       "    .dataframe thead th {\n",
       "        text-align: right;\n",
       "    }\n",
       "</style>\n",
       "<table border=\"1\" class=\"dataframe\">\n",
       "  <thead>\n",
       "    <tr style=\"text-align: right;\">\n",
       "      <th></th>\n",
       "      <th>business_code</th>\n",
       "      <th>cust_number</th>\n",
       "      <th>buisness_year</th>\n",
       "      <th>cust_payment_terms</th>\n",
       "      <th>payment_term</th>\n",
       "      <th>due_term</th>\n",
       "      <th>delay</th>\n",
       "      <th>delay_bucket_id</th>\n",
       "      <th>due_term_bucket_id</th>\n",
       "      <th>baseline_create_date.day</th>\n",
       "      <th>baseline_create_date.year</th>\n",
       "      <th>baseline_create_date.month</th>\n",
       "      <th>due_in_date.day</th>\n",
       "      <th>due_in_date.year</th>\n",
       "      <th>due_in_date.month</th>\n",
       "      <th>amount_in_USD</th>\n",
       "    </tr>\n",
       "  </thead>\n",
       "  <tbody>\n",
       "    <tr>\n",
       "      <th>count</th>\n",
       "      <td>36543.000000</td>\n",
       "      <td>36543.000000</td>\n",
       "      <td>36543.000000</td>\n",
       "      <td>36543.000000</td>\n",
       "      <td>36543.000000</td>\n",
       "      <td>36543.000000</td>\n",
       "      <td>36543.000000</td>\n",
       "      <td>36543.000000</td>\n",
       "      <td>36543.000000</td>\n",
       "      <td>36543.000000</td>\n",
       "      <td>36543.000000</td>\n",
       "      <td>36543.000000</td>\n",
       "      <td>36543.000000</td>\n",
       "      <td>36543.000000</td>\n",
       "      <td>36543.000000</td>\n",
       "      <td>36543.000000</td>\n",
       "    </tr>\n",
       "    <tr>\n",
       "      <th>mean</th>\n",
       "      <td>1.042443</td>\n",
       "      <td>798.592124</td>\n",
       "      <td>0.135512</td>\n",
       "      <td>27.738691</td>\n",
       "      <td>18.368935</td>\n",
       "      <td>17.874230</td>\n",
       "      <td>0.494705</td>\n",
       "      <td>0.715732</td>\n",
       "      <td>1.388501</td>\n",
       "      <td>15.372602</td>\n",
       "      <td>2019.127028</td>\n",
       "      <td>5.718551</td>\n",
       "      <td>15.988507</td>\n",
       "      <td>2019.139781</td>\n",
       "      <td>6.134225</td>\n",
       "      <td>9.369745</td>\n",
       "    </tr>\n",
       "    <tr>\n",
       "      <th>std</th>\n",
       "      <td>0.487465</td>\n",
       "      <td>233.510713</td>\n",
       "      <td>0.342274</td>\n",
       "      <td>11.417073</td>\n",
       "      <td>13.256175</td>\n",
       "      <td>11.004315</td>\n",
       "      <td>10.601432</td>\n",
       "      <td>0.786514</td>\n",
       "      <td>1.106692</td>\n",
       "      <td>8.799714</td>\n",
       "      <td>0.343048</td>\n",
       "      <td>3.519053</td>\n",
       "      <td>8.758488</td>\n",
       "      <td>0.347079</td>\n",
       "      <td>3.493274</td>\n",
       "      <td>1.786289</td>\n",
       "    </tr>\n",
       "    <tr>\n",
       "      <th>min</th>\n",
       "      <td>0.000000</td>\n",
       "      <td>0.000000</td>\n",
       "      <td>0.000000</td>\n",
       "      <td>0.000000</td>\n",
       "      <td>0.000000</td>\n",
       "      <td>0.000000</td>\n",
       "      <td>-81.000000</td>\n",
       "      <td>0.000000</td>\n",
       "      <td>1.000000</td>\n",
       "      <td>1.000000</td>\n",
       "      <td>2018.000000</td>\n",
       "      <td>1.000000</td>\n",
       "      <td>1.000000</td>\n",
       "      <td>2018.000000</td>\n",
       "      <td>1.000000</td>\n",
       "      <td>0.782531</td>\n",
       "    </tr>\n",
       "    <tr>\n",
       "      <th>25%</th>\n",
       "      <td>1.000000</td>\n",
       "      <td>716.000000</td>\n",
       "      <td>0.000000</td>\n",
       "      <td>20.000000</td>\n",
       "      <td>13.000000</td>\n",
       "      <td>15.000000</td>\n",
       "      <td>-3.000000</td>\n",
       "      <td>0.000000</td>\n",
       "      <td>1.000000</td>\n",
       "      <td>8.000000</td>\n",
       "      <td>2019.000000</td>\n",
       "      <td>2.000000</td>\n",
       "      <td>8.000000</td>\n",
       "      <td>2019.000000</td>\n",
       "      <td>3.000000</td>\n",
       "      <td>8.419628</td>\n",
       "    </tr>\n",
       "    <tr>\n",
       "      <th>50%</th>\n",
       "      <td>1.000000</td>\n",
       "      <td>842.000000</td>\n",
       "      <td>0.000000</td>\n",
       "      <td>22.000000</td>\n",
       "      <td>15.000000</td>\n",
       "      <td>15.000000</td>\n",
       "      <td>0.000000</td>\n",
       "      <td>1.000000</td>\n",
       "      <td>1.000000</td>\n",
       "      <td>15.000000</td>\n",
       "      <td>2019.000000</td>\n",
       "      <td>5.000000</td>\n",
       "      <td>16.000000</td>\n",
       "      <td>2019.000000</td>\n",
       "      <td>6.000000</td>\n",
       "      <td>9.746680</td>\n",
       "    </tr>\n",
       "    <tr>\n",
       "      <th>75%</th>\n",
       "      <td>1.000000</td>\n",
       "      <td>857.000000</td>\n",
       "      <td>0.000000</td>\n",
       "      <td>34.000000</td>\n",
       "      <td>17.000000</td>\n",
       "      <td>15.000000</td>\n",
       "      <td>2.000000</td>\n",
       "      <td>1.000000</td>\n",
       "      <td>1.000000</td>\n",
       "      <td>23.000000</td>\n",
       "      <td>2019.000000</td>\n",
       "      <td>9.000000</td>\n",
       "      <td>24.000000</td>\n",
       "      <td>2019.000000</td>\n",
       "      <td>9.000000</td>\n",
       "      <td>10.724128</td>\n",
       "    </tr>\n",
       "    <tr>\n",
       "      <th>max</th>\n",
       "      <td>5.000000</td>\n",
       "      <td>1357.000000</td>\n",
       "      <td>1.000000</td>\n",
       "      <td>70.000000</td>\n",
       "      <td>202.000000</td>\n",
       "      <td>120.000000</td>\n",
       "      <td>202.000000</td>\n",
       "      <td>6.000000</td>\n",
       "      <td>6.000000</td>\n",
       "      <td>31.000000</td>\n",
       "      <td>2020.000000</td>\n",
       "      <td>12.000000</td>\n",
       "      <td>31.000000</td>\n",
       "      <td>2020.000000</td>\n",
       "      <td>12.000000</td>\n",
       "      <td>12.996638</td>\n",
       "    </tr>\n",
       "  </tbody>\n",
       "</table>\n",
       "</div>"
      ],
      "text/plain": [
       "       business_code   cust_number  buisness_year  cust_payment_terms  \\\n",
       "count   36543.000000  36543.000000   36543.000000        36543.000000   \n",
       "mean        1.042443    798.592124       0.135512           27.738691   \n",
       "std         0.487465    233.510713       0.342274           11.417073   \n",
       "min         0.000000      0.000000       0.000000            0.000000   \n",
       "25%         1.000000    716.000000       0.000000           20.000000   \n",
       "50%         1.000000    842.000000       0.000000           22.000000   \n",
       "75%         1.000000    857.000000       0.000000           34.000000   \n",
       "max         5.000000   1357.000000       1.000000           70.000000   \n",
       "\n",
       "       payment_term      due_term         delay  delay_bucket_id  \\\n",
       "count  36543.000000  36543.000000  36543.000000     36543.000000   \n",
       "mean      18.368935     17.874230      0.494705         0.715732   \n",
       "std       13.256175     11.004315     10.601432         0.786514   \n",
       "min        0.000000      0.000000    -81.000000         0.000000   \n",
       "25%       13.000000     15.000000     -3.000000         0.000000   \n",
       "50%       15.000000     15.000000      0.000000         1.000000   \n",
       "75%       17.000000     15.000000      2.000000         1.000000   \n",
       "max      202.000000    120.000000    202.000000         6.000000   \n",
       "\n",
       "       due_term_bucket_id  baseline_create_date.day  \\\n",
       "count        36543.000000              36543.000000   \n",
       "mean             1.388501                 15.372602   \n",
       "std              1.106692                  8.799714   \n",
       "min              1.000000                  1.000000   \n",
       "25%              1.000000                  8.000000   \n",
       "50%              1.000000                 15.000000   \n",
       "75%              1.000000                 23.000000   \n",
       "max              6.000000                 31.000000   \n",
       "\n",
       "       baseline_create_date.year  baseline_create_date.month  due_in_date.day  \\\n",
       "count               36543.000000                36543.000000     36543.000000   \n",
       "mean                 2019.127028                    5.718551        15.988507   \n",
       "std                     0.343048                    3.519053         8.758488   \n",
       "min                  2018.000000                    1.000000         1.000000   \n",
       "25%                  2019.000000                    2.000000         8.000000   \n",
       "50%                  2019.000000                    5.000000        16.000000   \n",
       "75%                  2019.000000                    9.000000        24.000000   \n",
       "max                  2020.000000                   12.000000        31.000000   \n",
       "\n",
       "       due_in_date.year  due_in_date.month  amount_in_USD  \n",
       "count      36543.000000       36543.000000   36543.000000  \n",
       "mean        2019.139781           6.134225       9.369745  \n",
       "std            0.347079           3.493274       1.786289  \n",
       "min         2018.000000           1.000000       0.782531  \n",
       "25%         2019.000000           3.000000       8.419628  \n",
       "50%         2019.000000           6.000000       9.746680  \n",
       "75%         2019.000000           9.000000      10.724128  \n",
       "max         2020.000000          12.000000      12.996638  "
      ]
     },
     "execution_count": 111,
     "metadata": {},
     "output_type": "execute_result"
    }
   ],
   "source": [
    "df.describe()"
   ]
  },
  {
   "cell_type": "code",
   "execution_count": 112,
   "metadata": {},
   "outputs": [],
   "source": [
    "#payment term having outlier"
   ]
  },
  {
   "cell_type": "code",
   "execution_count": 113,
   "metadata": {},
   "outputs": [
    {
     "data": {
      "text/plain": [
       "303"
      ]
     },
     "execution_count": 113,
     "metadata": {},
     "output_type": "execute_result"
    }
   ],
   "source": [
    "pay_max = 80\n",
    "df[df['payment_term']>=pay_max]['payment_term'].value_counts().sum()"
   ]
  },
  {
   "cell_type": "code",
   "execution_count": 114,
   "metadata": {},
   "outputs": [],
   "source": [
    "#we observe that there are two outliers in data \n",
    "# one in payment term max value\n",
    "#and another one in amount_in_USD"
   ]
  },
  {
   "cell_type": "code",
   "execution_count": 115,
   "metadata": {},
   "outputs": [],
   "source": [
    "df = df[(df['amount_in_USD'] > 1) & (df['payment_term']<=pay_max )].reset_index(drop=True)\n"
   ]
  },
  {
   "cell_type": "markdown",
   "metadata": {},
   "source": [
    "# Categorical feature"
   ]
  },
  {
   "cell_type": "code",
   "execution_count": 116,
   "metadata": {},
   "outputs": [
    {
     "data": {
      "text/plain": [
       "['business_code', 'cust_payment_terms', 'due_term_bucket_id']"
      ]
     },
     "execution_count": 116,
     "metadata": {},
     "output_type": "execute_result"
    }
   ],
   "source": [
    "categorical_features = ['business_code', 'cust_payment_terms','due_term_bucket_id']\n",
    "categorical_features"
   ]
  },
  {
   "cell_type": "code",
   "execution_count": 117,
   "metadata": {},
   "outputs": [
    {
     "data": {
      "text/plain": [
       "['due_in_date.day',\n",
       " 'baseline_create_date.day',\n",
       " 'amount_in_USD',\n",
       " 'due_term',\n",
       " 'delay',\n",
       " 'baseline_create_date.month',\n",
       " 'due_in_date.year',\n",
       " 'baseline_create_date.year',\n",
       " 'payment_term',\n",
       " 'buisness_year',\n",
       " 'cust_number',\n",
       " 'due_in_date.month']"
      ]
     },
     "execution_count": 117,
     "metadata": {},
     "output_type": "execute_result"
    }
   ],
   "source": [
    "numerical_features = list(set(set(df.columns) - set(['DELAY BUCKET(DAYS)', 'DUE TERM BUCKET(DAYS)', 'delay_bucket_id', 'due_term_bucket_id','clear_date', 'due_in_date', 'baseline_create_date','invoice_currency'])) - set(categorical_features))\n",
    "numerical_features"
   ]
  },
  {
   "cell_type": "markdown",
   "metadata": {},
   "source": [
    "# Scaling the numerical feature"
   ]
  },
  {
   "cell_type": "code",
   "execution_count": 118,
   "metadata": {},
   "outputs": [],
   "source": [
    "del df[\"invoice_currency\"]"
   ]
  },
  {
   "cell_type": "code",
   "execution_count": null,
   "metadata": {},
   "outputs": [],
   "source": []
  },
  {
   "cell_type": "code",
   "execution_count": 119,
   "metadata": {},
   "outputs": [],
   "source": [
    "infos_df = df[['clear_date','amount_in_USD']]"
   ]
  },
  {
   "cell_type": "code",
   "execution_count": 120,
   "metadata": {},
   "outputs": [],
   "source": [
    "train_num = df[list(set(numerical_features)   -  set(['payment_term','delay']))]"
   ]
  },
  {
   "cell_type": "code",
   "execution_count": 121,
   "metadata": {},
   "outputs": [],
   "source": [
    "test_num = test_dataset[list(set(numerical_features)   -  set(['payment_term','delay']))]"
   ]
  },
  {
   "cell_type": "code",
   "execution_count": 122,
   "metadata": {},
   "outputs": [],
   "source": [
    "train_cat = df[categorical_features]"
   ]
  },
  {
   "cell_type": "code",
   "execution_count": 123,
   "metadata": {},
   "outputs": [],
   "source": [
    "test_cat = test_dataset[list(set(categorical_features))]"
   ]
  },
  {
   "cell_type": "code",
   "execution_count": 124,
   "metadata": {},
   "outputs": [],
   "source": [
    "from sklearn.preprocessing import MinMaxScaler\n",
    "\n",
    "scaler = MinMaxScaler()\n",
    "y_scaler = MinMaxScaler()"
   ]
  },
  {
   "cell_type": "code",
   "execution_count": 125,
   "metadata": {},
   "outputs": [],
   "source": [
    "final_train_n = pd.DataFrame(scaler.fit_transform(train_num[list(set(numerical_features)-set(['payment_term','delay']))]),columns=list(set(numerical_features)-set(['payment_term','delay'])))"
   ]
  },
  {
   "cell_type": "code",
   "execution_count": null,
   "metadata": {},
   "outputs": [],
   "source": []
  },
  {
   "cell_type": "code",
   "execution_count": 127,
   "metadata": {},
   "outputs": [],
   "source": [
    "final_test_n = pd.DataFrame(scaler.fit_transform(test_num),columns=list(set(numerical_features)-set(['payment_term','delay'])))\n",
    "df['delay'] = y_scaler.fit_transform(np.array(df['delay']).reshape(df['delay'].shape[0],1))"
   ]
  },
  {
   "cell_type": "code",
   "execution_count": null,
   "metadata": {},
   "outputs": [],
   "source": []
  },
  {
   "cell_type": "code",
   "execution_count": null,
   "metadata": {},
   "outputs": [],
   "source": []
  },
  {
   "cell_type": "code",
   "execution_count": null,
   "metadata": {},
   "outputs": [],
   "source": []
  },
  {
   "cell_type": "code",
   "execution_count": null,
   "metadata": {},
   "outputs": [],
   "source": []
  },
  {
   "cell_type": "code",
   "execution_count": null,
   "metadata": {},
   "outputs": [],
   "source": []
  },
  {
   "cell_type": "code",
   "execution_count": 128,
   "metadata": {},
   "outputs": [
    {
     "data": {
      "text/plain": [
       "Index(['due_in_date.day', 'baseline_create_date.day', 'amount_in_USD',\n",
       "       'due_term', 'baseline_create_date.month', 'due_in_date.year',\n",
       "       'baseline_create_date.year', 'buisness_year', 'cust_number',\n",
       "       'due_in_date.month'],\n",
       "      dtype='object')"
      ]
     },
     "execution_count": 128,
     "metadata": {},
     "output_type": "execute_result"
    }
   ],
   "source": [
    "final_train_n.columns"
   ]
  },
  {
   "cell_type": "code",
   "execution_count": 129,
   "metadata": {},
   "outputs": [
    {
     "data": {
      "text/html": [
       "<div>\n",
       "<style scoped>\n",
       "    .dataframe tbody tr th:only-of-type {\n",
       "        vertical-align: middle;\n",
       "    }\n",
       "\n",
       "    .dataframe tbody tr th {\n",
       "        vertical-align: top;\n",
       "    }\n",
       "\n",
       "    .dataframe thead th {\n",
       "        text-align: right;\n",
       "    }\n",
       "</style>\n",
       "<table border=\"1\" class=\"dataframe\">\n",
       "  <thead>\n",
       "    <tr style=\"text-align: right;\">\n",
       "      <th></th>\n",
       "      <th>due_in_date.day</th>\n",
       "      <th>baseline_create_date.day</th>\n",
       "      <th>amount_in_USD</th>\n",
       "      <th>due_term</th>\n",
       "      <th>baseline_create_date.month</th>\n",
       "      <th>due_in_date.year</th>\n",
       "      <th>baseline_create_date.year</th>\n",
       "      <th>buisness_year</th>\n",
       "      <th>cust_number</th>\n",
       "      <th>due_in_date.month</th>\n",
       "    </tr>\n",
       "  </thead>\n",
       "  <tbody>\n",
       "    <tr>\n",
       "      <th>0</th>\n",
       "      <td>0.0</td>\n",
       "      <td>0.0</td>\n",
       "      <td>0.689967</td>\n",
       "      <td>0.0</td>\n",
       "      <td>0.0</td>\n",
       "      <td>0.0</td>\n",
       "      <td>0.0</td>\n",
       "      <td>0.0</td>\n",
       "      <td>0.456934</td>\n",
       "      <td>0.0</td>\n",
       "    </tr>\n",
       "    <tr>\n",
       "      <th>1</th>\n",
       "      <td>0.0</td>\n",
       "      <td>0.0</td>\n",
       "      <td>0.830609</td>\n",
       "      <td>0.0</td>\n",
       "      <td>0.0</td>\n",
       "      <td>0.0</td>\n",
       "      <td>0.0</td>\n",
       "      <td>0.0</td>\n",
       "      <td>0.598540</td>\n",
       "      <td>0.0</td>\n",
       "    </tr>\n",
       "    <tr>\n",
       "      <th>2</th>\n",
       "      <td>0.0</td>\n",
       "      <td>0.0</td>\n",
       "      <td>0.775021</td>\n",
       "      <td>0.0</td>\n",
       "      <td>0.0</td>\n",
       "      <td>0.0</td>\n",
       "      <td>0.0</td>\n",
       "      <td>0.0</td>\n",
       "      <td>0.445255</td>\n",
       "      <td>0.0</td>\n",
       "    </tr>\n",
       "    <tr>\n",
       "      <th>3</th>\n",
       "      <td>0.0</td>\n",
       "      <td>0.0</td>\n",
       "      <td>0.868871</td>\n",
       "      <td>0.0</td>\n",
       "      <td>0.0</td>\n",
       "      <td>0.0</td>\n",
       "      <td>0.0</td>\n",
       "      <td>0.0</td>\n",
       "      <td>0.223358</td>\n",
       "      <td>0.0</td>\n",
       "    </tr>\n",
       "    <tr>\n",
       "      <th>4</th>\n",
       "      <td>0.0</td>\n",
       "      <td>0.0</td>\n",
       "      <td>0.867454</td>\n",
       "      <td>0.0</td>\n",
       "      <td>0.0</td>\n",
       "      <td>0.0</td>\n",
       "      <td>0.0</td>\n",
       "      <td>0.0</td>\n",
       "      <td>0.598540</td>\n",
       "      <td>0.0</td>\n",
       "    </tr>\n",
       "  </tbody>\n",
       "</table>\n",
       "</div>"
      ],
      "text/plain": [
       "   due_in_date.day  baseline_create_date.day  amount_in_USD  due_term  \\\n",
       "0              0.0                       0.0       0.689967       0.0   \n",
       "1              0.0                       0.0       0.830609       0.0   \n",
       "2              0.0                       0.0       0.775021       0.0   \n",
       "3              0.0                       0.0       0.868871       0.0   \n",
       "4              0.0                       0.0       0.867454       0.0   \n",
       "\n",
       "   baseline_create_date.month  due_in_date.year  baseline_create_date.year  \\\n",
       "0                         0.0               0.0                        0.0   \n",
       "1                         0.0               0.0                        0.0   \n",
       "2                         0.0               0.0                        0.0   \n",
       "3                         0.0               0.0                        0.0   \n",
       "4                         0.0               0.0                        0.0   \n",
       "\n",
       "   buisness_year  cust_number  due_in_date.month  \n",
       "0            0.0     0.456934                0.0  \n",
       "1            0.0     0.598540                0.0  \n",
       "2            0.0     0.445255                0.0  \n",
       "3            0.0     0.223358                0.0  \n",
       "4            0.0     0.598540                0.0  "
      ]
     },
     "execution_count": 129,
     "metadata": {},
     "output_type": "execute_result"
    }
   ],
   "source": [
    "final_test_n.head()"
   ]
  },
  {
   "cell_type": "code",
   "execution_count": 130,
   "metadata": {},
   "outputs": [],
   "source": [
    "#lets merge the columns"
   ]
  },
  {
   "cell_type": "code",
   "execution_count": 131,
   "metadata": {},
   "outputs": [],
   "source": [
    "final_test_n=pd.merge(final_test_n,infos_df.drop(columns = ['clear_date']),left_index=True,right_index=True)"
   ]
  },
  {
   "cell_type": "code",
   "execution_count": 132,
   "metadata": {},
   "outputs": [],
   "source": [
    "final_train_n=pd.merge(final_train_n,infos_df,left_index=True,right_index=True)"
   ]
  },
  {
   "cell_type": "markdown",
   "metadata": {},
   "source": [
    "# One-Hot Encoding the Categorical Data"
   ]
  },
  {
   "cell_type": "code",
   "execution_count": 133,
   "metadata": {},
   "outputs": [
    {
     "data": {
      "text/html": [
       "<div>\n",
       "<style scoped>\n",
       "    .dataframe tbody tr th:only-of-type {\n",
       "        vertical-align: middle;\n",
       "    }\n",
       "\n",
       "    .dataframe tbody tr th {\n",
       "        vertical-align: top;\n",
       "    }\n",
       "\n",
       "    .dataframe thead th {\n",
       "        text-align: right;\n",
       "    }\n",
       "</style>\n",
       "<table border=\"1\" class=\"dataframe\">\n",
       "  <thead>\n",
       "    <tr style=\"text-align: right;\">\n",
       "      <th></th>\n",
       "      <th>business_code</th>\n",
       "      <th>cust_payment_terms</th>\n",
       "      <th>due_term_bucket_id</th>\n",
       "    </tr>\n",
       "  </thead>\n",
       "  <tbody>\n",
       "    <tr>\n",
       "      <th>0</th>\n",
       "      <td>1</td>\n",
       "      <td>20</td>\n",
       "      <td>1</td>\n",
       "    </tr>\n",
       "    <tr>\n",
       "      <th>1</th>\n",
       "      <td>1</td>\n",
       "      <td>34</td>\n",
       "      <td>1</td>\n",
       "    </tr>\n",
       "    <tr>\n",
       "      <th>2</th>\n",
       "      <td>1</td>\n",
       "      <td>20</td>\n",
       "      <td>1</td>\n",
       "    </tr>\n",
       "    <tr>\n",
       "      <th>3</th>\n",
       "      <td>1</td>\n",
       "      <td>34</td>\n",
       "      <td>1</td>\n",
       "    </tr>\n",
       "    <tr>\n",
       "      <th>4</th>\n",
       "      <td>1</td>\n",
       "      <td>20</td>\n",
       "      <td>1</td>\n",
       "    </tr>\n",
       "    <tr>\n",
       "      <th>...</th>\n",
       "      <td>...</td>\n",
       "      <td>...</td>\n",
       "      <td>...</td>\n",
       "    </tr>\n",
       "    <tr>\n",
       "      <th>45916</th>\n",
       "      <td>1</td>\n",
       "      <td>12</td>\n",
       "      <td>1</td>\n",
       "    </tr>\n",
       "    <tr>\n",
       "      <th>45917</th>\n",
       "      <td>1</td>\n",
       "      <td>12</td>\n",
       "      <td>1</td>\n",
       "    </tr>\n",
       "    <tr>\n",
       "      <th>45918</th>\n",
       "      <td>0</td>\n",
       "      <td>3</td>\n",
       "      <td>1</td>\n",
       "    </tr>\n",
       "    <tr>\n",
       "      <th>45919</th>\n",
       "      <td>1</td>\n",
       "      <td>12</td>\n",
       "      <td>1</td>\n",
       "    </tr>\n",
       "    <tr>\n",
       "      <th>45920</th>\n",
       "      <td>4</td>\n",
       "      <td>33</td>\n",
       "      <td>1</td>\n",
       "    </tr>\n",
       "  </tbody>\n",
       "</table>\n",
       "<p>45921 rows × 3 columns</p>\n",
       "</div>"
      ],
      "text/plain": [
       "       business_code  cust_payment_terms  due_term_bucket_id\n",
       "0                  1                  20                   1\n",
       "1                  1                  34                   1\n",
       "2                  1                  20                   1\n",
       "3                  1                  34                   1\n",
       "4                  1                  20                   1\n",
       "...              ...                 ...                 ...\n",
       "45916              1                  12                   1\n",
       "45917              1                  12                   1\n",
       "45918              0                   3                   1\n",
       "45919              1                  12                   1\n",
       "45920              4                  33                   1\n",
       "\n",
       "[45921 rows x 3 columns]"
      ]
     },
     "execution_count": 133,
     "metadata": {},
     "output_type": "execute_result"
    }
   ],
   "source": [
    "data_cat=pd.concat((train_cat,test_cat),sort=False).reset_index(drop=True)\n",
    "data_cat"
   ]
  },
  {
   "cell_type": "code",
   "execution_count": 134,
   "metadata": {},
   "outputs": [],
   "source": [
    "#data_cat1 encodes buisness code only"
   ]
  },
  {
   "cell_type": "code",
   "execution_count": 135,
   "metadata": {},
   "outputs": [],
   "source": [
    "data_cat1 = pd.get_dummies(data_cat,prefix='enc_c_',columns = ['business_code'],drop_first=False)\n"
   ]
  },
  {
   "cell_type": "code",
   "execution_count": 136,
   "metadata": {},
   "outputs": [],
   "source": [
    "#data_cat2 encodes cust_payment_term only"
   ]
  },
  {
   "cell_type": "code",
   "execution_count": 137,
   "metadata": {},
   "outputs": [],
   "source": [
    "data_cat2 = pd.get_dummies(data_cat,prefix='enc_c___',columns = ['cust_payment_terms'],drop_first=False)"
   ]
  },
  {
   "cell_type": "code",
   "execution_count": 138,
   "metadata": {},
   "outputs": [],
   "source": [
    "#now we merge data_cat1 and data_cat2 so that data_cat1 now have total 2 column encode value"
   ]
  },
  {
   "cell_type": "code",
   "execution_count": 139,
   "metadata": {},
   "outputs": [],
   "source": [
    "data_cat1 = pd.merge(data_cat1,data_cat2,left_index=True,right_index=True)"
   ]
  },
  {
   "cell_type": "code",
   "execution_count": 140,
   "metadata": {},
   "outputs": [],
   "source": [
    "#now we encode the left coloumn due_term_bucket_id in data_cat_2"
   ]
  },
  {
   "cell_type": "code",
   "execution_count": 141,
   "metadata": {},
   "outputs": [],
   "source": [
    "data_cat2 = pd.get_dummies(data_cat,prefix='enc_c',columns = ['due_term_bucket_id'],drop_first=False)"
   ]
  },
  {
   "cell_type": "code",
   "execution_count": 142,
   "metadata": {},
   "outputs": [],
   "source": [
    "#now we merge all three encoded columns into data_cat1 and finally done with it"
   ]
  },
  {
   "cell_type": "code",
   "execution_count": 143,
   "metadata": {},
   "outputs": [],
   "source": [
    "data_cat1 = pd.merge(data_cat1,data_cat2,left_index=True,right_index=True)"
   ]
  },
  {
   "cell_type": "code",
   "execution_count": 144,
   "metadata": {},
   "outputs": [],
   "source": [
    "data_cat1 = data_cat1.drop(columns =['cust_payment_terms_x', 'due_term_bucket_id_x','due_term_bucket_id_y','business_code_y','cust_payment_terms_y','business_code_x'])"
   ]
  },
  {
   "cell_type": "code",
   "execution_count": 145,
   "metadata": {},
   "outputs": [
    {
     "data": {
      "text/plain": [
       "Index(['enc_c__0', 'enc_c__1', 'enc_c__2', 'enc_c__3', 'enc_c__4', 'enc_c__5',\n",
       "       'enc_c____0', 'enc_c____1', 'enc_c____2', 'enc_c____3', 'enc_c____4',\n",
       "       'enc_c____5', 'enc_c____6', 'enc_c____7', 'enc_c____8', 'enc_c____9',\n",
       "       'enc_c____10', 'enc_c____11', 'enc_c____12', 'enc_c____13',\n",
       "       'enc_c____14', 'enc_c____15', 'enc_c____16', 'enc_c____17',\n",
       "       'enc_c____18', 'enc_c____19', 'enc_c____20', 'enc_c____21',\n",
       "       'enc_c____22', 'enc_c____23', 'enc_c____24', 'enc_c____25',\n",
       "       'enc_c____26', 'enc_c____27', 'enc_c____28', 'enc_c____29',\n",
       "       'enc_c____30', 'enc_c____31', 'enc_c____32', 'enc_c____33',\n",
       "       'enc_c____34', 'enc_c____35', 'enc_c____36', 'enc_c____37',\n",
       "       'enc_c____38', 'enc_c____39', 'enc_c____40', 'enc_c____41',\n",
       "       'enc_c____50', 'enc_c____51', 'enc_c____53', 'enc_c____54',\n",
       "       'enc_c____56', 'enc_c____57', 'enc_c____58', 'enc_c____59',\n",
       "       'enc_c____60', 'enc_c____61', 'enc_c____62', 'enc_c____63',\n",
       "       'enc_c____64', 'enc_c____65', 'enc_c____67', 'enc_c____68',\n",
       "       'enc_c____69', 'enc_c____70', 'enc_c_1', 'enc_c_2', 'enc_c_4',\n",
       "       'enc_c_5', 'enc_c_6'],\n",
       "      dtype='object')"
      ]
     },
     "execution_count": 145,
     "metadata": {},
     "output_type": "execute_result"
    }
   ],
   "source": [
    "data_cat1.columns"
   ]
  },
  {
   "cell_type": "code",
   "execution_count": 146,
   "metadata": {},
   "outputs": [],
   "source": [
    "#now all clear encoded values present"
   ]
  },
  {
   "cell_type": "code",
   "execution_count": 147,
   "metadata": {},
   "outputs": [],
   "source": [
    "final_train_c = data_cat1[:df.shape[0]].reset_index(drop=True)\n",
    "final_test_c = data_cat1[df.shape[0]:].reset_index(drop=True)"
   ]
  },
  {
   "cell_type": "code",
   "execution_count": 148,
   "metadata": {},
   "outputs": [
    {
     "data": {
      "text/plain": [
       "(36248, 71)"
      ]
     },
     "execution_count": 148,
     "metadata": {},
     "output_type": "execute_result"
    }
   ],
   "source": [
    "final_train_c.shape"
   ]
  },
  {
   "cell_type": "code",
   "execution_count": 149,
   "metadata": {},
   "outputs": [
    {
     "data": {
      "text/plain": [
       "(9673, 71)"
      ]
     },
     "execution_count": 149,
     "metadata": {},
     "output_type": "execute_result"
    }
   ],
   "source": [
    "final_test_c.shape"
   ]
  },
  {
   "cell_type": "markdown",
   "metadata": {},
   "source": [
    "# Merging the Numerical, Categorical and Numerical-Categorical Data"
   ]
  },
  {
   "cell_type": "code",
   "execution_count": 150,
   "metadata": {},
   "outputs": [],
   "source": [
    "test_data = final_test_n.merge(final_test_c.reset_index(drop=True),left_index=True,right_index=True)"
   ]
  },
  {
   "cell_type": "code",
   "execution_count": 151,
   "metadata": {},
   "outputs": [],
   "source": [
    "train_data = final_train_n.merge(final_train_c.reset_index(drop=True),left_index=True,right_index=True)"
   ]
  },
  {
   "cell_type": "code",
   "execution_count": 152,
   "metadata": {},
   "outputs": [],
   "source": [
    "train_data = train_data.merge(df['delay'].reset_index(drop=True),left_index=True,right_index=True)"
   ]
  },
  {
   "cell_type": "code",
   "execution_count": 153,
   "metadata": {},
   "outputs": [
    {
     "data": {
      "text/plain": [
       "{'clear_date', 'delay'}"
      ]
     },
     "execution_count": 153,
     "metadata": {},
     "output_type": "execute_result"
    }
   ],
   "source": [
    "set(train_data.columns) - set(test_data.columns)\n"
   ]
  },
  {
   "cell_type": "markdown",
   "metadata": {},
   "source": [
    "# Generating Train Test and Evaluation"
   ]
  },
  {
   "cell_type": "code",
   "execution_count": 154,
   "metadata": {},
   "outputs": [],
   "source": [
    "y = df[\"delay\"]"
   ]
  },
  {
   "cell_type": "code",
   "execution_count": 155,
   "metadata": {},
   "outputs": [],
   "source": [
    "x=train_data.drop('delay',axis=1)"
   ]
  },
  {
   "cell_type": "code",
   "execution_count": 156,
   "metadata": {},
   "outputs": [],
   "source": [
    "del x[\"clear_date\"]"
   ]
  },
  {
   "cell_type": "code",
   "execution_count": null,
   "metadata": {},
   "outputs": [],
   "source": []
  },
  {
   "cell_type": "code",
   "execution_count": null,
   "metadata": {},
   "outputs": [],
   "source": []
  },
  {
   "cell_type": "code",
   "execution_count": 157,
   "metadata": {},
   "outputs": [],
   "source": [
    "from sklearn.model_selection import train_test_split"
   ]
  },
  {
   "cell_type": "code",
   "execution_count": 158,
   "metadata": {},
   "outputs": [],
   "source": [
    "X_train, X_val, Y_train, Y_val = train_test_split(x, y, test_size=0.25, random_state = 1,shuffle = False)\n",
    "\n",
    "X_val1, X_val2, Y_val1, Y_val2 = train_test_split(X_val, Y_val, test_size=0.4, random_state=1,shuffle = False)\n"
   ]
  },
  {
   "cell_type": "code",
   "execution_count": 159,
   "metadata": {},
   "outputs": [
    {
     "data": {
      "text/plain": [
       "Index(['due_in_date.day', 'baseline_create_date.day', 'amount_in_USD_x',\n",
       "       'due_term', 'baseline_create_date.month', 'due_in_date.year',\n",
       "       'baseline_create_date.year', 'buisness_year', 'cust_number',\n",
       "       'due_in_date.month', 'amount_in_USD_y', 'enc_c__0', 'enc_c__1',\n",
       "       'enc_c__2', 'enc_c__3', 'enc_c__4', 'enc_c__5', 'enc_c____0',\n",
       "       'enc_c____1', 'enc_c____2', 'enc_c____3', 'enc_c____4', 'enc_c____5',\n",
       "       'enc_c____6', 'enc_c____7', 'enc_c____8', 'enc_c____9', 'enc_c____10',\n",
       "       'enc_c____11', 'enc_c____12', 'enc_c____13', 'enc_c____14',\n",
       "       'enc_c____15', 'enc_c____16', 'enc_c____17', 'enc_c____18',\n",
       "       'enc_c____19', 'enc_c____20', 'enc_c____21', 'enc_c____22',\n",
       "       'enc_c____23', 'enc_c____24', 'enc_c____25', 'enc_c____26',\n",
       "       'enc_c____27', 'enc_c____28', 'enc_c____29', 'enc_c____30',\n",
       "       'enc_c____31', 'enc_c____32', 'enc_c____33', 'enc_c____34',\n",
       "       'enc_c____35', 'enc_c____36', 'enc_c____37', 'enc_c____38',\n",
       "       'enc_c____39', 'enc_c____40', 'enc_c____41', 'enc_c____50',\n",
       "       'enc_c____51', 'enc_c____53', 'enc_c____54', 'enc_c____56',\n",
       "       'enc_c____57', 'enc_c____58', 'enc_c____59', 'enc_c____60',\n",
       "       'enc_c____61', 'enc_c____62', 'enc_c____63', 'enc_c____64',\n",
       "       'enc_c____65', 'enc_c____67', 'enc_c____68', 'enc_c____69',\n",
       "       'enc_c____70', 'enc_c_1', 'enc_c_2', 'enc_c_4', 'enc_c_5', 'enc_c_6'],\n",
       "      dtype='object')"
      ]
     },
     "execution_count": 159,
     "metadata": {},
     "output_type": "execute_result"
    }
   ],
   "source": [
    "X_val1.columns"
   ]
  },
  {
   "cell_type": "code",
   "execution_count": 160,
   "metadata": {},
   "outputs": [
    {
     "data": {
      "text/plain": [
       "(9673, 82)"
      ]
     },
     "execution_count": 160,
     "metadata": {},
     "output_type": "execute_result"
    }
   ],
   "source": [
    "x_test = test_data[set(test_data.columns) - set(['delay'])]\n",
    "x_test.shape"
   ]
  },
  {
   "cell_type": "code",
   "execution_count": 161,
   "metadata": {},
   "outputs": [
    {
     "name": "stderr",
     "output_type": "stream",
     "text": [
      "C:\\Users\\nk098\\AppData\\Local\\Continuum\\anaconda3\\lib\\site-packages\\ipykernel_launcher.py:3: FutureWarning: The signature of `Series.to_csv` was aligned to that of `DataFrame.to_csv`, and argument 'header' will change its default value from False to True: please pass an explicit value to suppress this warning.\n",
      "  This is separate from the ipykernel package so we can avoid doing imports until\n",
      "C:\\Users\\nk098\\AppData\\Local\\Continuum\\anaconda3\\lib\\site-packages\\ipykernel_launcher.py:7: FutureWarning: The signature of `Series.to_csv` was aligned to that of `DataFrame.to_csv`, and argument 'header' will change its default value from False to True: please pass an explicit value to suppress this warning.\n",
      "  import sys\n",
      "C:\\Users\\nk098\\AppData\\Local\\Continuum\\anaconda3\\lib\\site-packages\\ipykernel_launcher.py:8: FutureWarning: The signature of `Series.to_csv` was aligned to that of `DataFrame.to_csv`, and argument 'header' will change its default value from False to True: please pass an explicit value to suppress this warning.\n",
      "  \n"
     ]
    }
   ],
   "source": [
    "X_train.to_csv('X_train.csv')\n",
    "x_test.to_csv('x_test.csv')\n",
    "Y_train.to_csv('Y_train.csv')\n",
    "\n",
    "X_val1.to_csv('X_val1.csv')\n",
    "X_val2.to_csv('X_val2.csv')\n",
    "Y_val1.to_csv('Y_val1.csv')\n",
    "Y_val2.to_csv('Y_val2.csv')"
   ]
  },
  {
   "cell_type": "code",
   "execution_count": null,
   "metadata": {},
   "outputs": [],
   "source": []
  },
  {
   "cell_type": "code",
   "execution_count": null,
   "metadata": {},
   "outputs": [],
   "source": []
  },
  {
   "cell_type": "code",
   "execution_count": null,
   "metadata": {},
   "outputs": [],
   "source": []
  },
  {
   "cell_type": "code",
   "execution_count": null,
   "metadata": {},
   "outputs": [],
   "source": []
  },
  {
   "cell_type": "code",
   "execution_count": null,
   "metadata": {},
   "outputs": [],
   "source": []
  },
  {
   "cell_type": "code",
   "execution_count": 162,
   "metadata": {},
   "outputs": [],
   "source": [
    "def select_features(X_train,Y_train,x_test,X_val1,X_val2):\n",
    "    fs = SelectKBest(score_func = f_regression,k=10)\n",
    "    fs.fit(X_train,Y_train)\n",
    "    col_indices = fs.get_support(indices=True)\n",
    "    x_features = X_train.columns[col_indices]\n",
    "    x_train_fs = pd.DataFrame(fs.transform(X_train),columns=x_features)\n",
    "    x_test_fs = pd.DataFrame(fs.transform(x_test),columns=x_features)\n",
    "    x_eval1_fs = pd.DataFrame(fs.transform(X_val1),columns=x_features)\n",
    "    x_eval2_fs = pd.DataFrame(fs.transform(X_val2),columns=x_features)\n",
    "    return x_train_fs,x_test_fs,x_eval1_fs,x_eval2_fs,fs,x_features,col_indices"
   ]
  },
  {
   "cell_type": "code",
   "execution_count": null,
   "metadata": {},
   "outputs": [],
   "source": []
  },
  {
   "cell_type": "code",
   "execution_count": 163,
   "metadata": {},
   "outputs": [],
   "source": [
    "from sklearn.linear_model import LinearRegression\n",
    "from sklearn.model_selection import GridSearchCV"
   ]
  },
  {
   "cell_type": "code",
   "execution_count": null,
   "metadata": {},
   "outputs": [],
   "source": []
  },
  {
   "cell_type": "code",
   "execution_count": 164,
   "metadata": {},
   "outputs": [
    {
     "name": "stderr",
     "output_type": "stream",
     "text": [
      "C:\\Users\\nk098\\AppData\\Local\\Continuum\\anaconda3\\lib\\site-packages\\sklearn\\model_selection\\_split.py:1978: FutureWarning: The default value of cv will change from 3 to 5 in version 0.22. Specify it explicitly to silence this warning.\n",
      "  warnings.warn(CV_WARNING, FutureWarning)\n",
      "[Parallel(n_jobs=1)]: Using backend SequentialBackend with 1 concurrent workers.\n"
     ]
    },
    {
     "name": "stdout",
     "output_type": "stream",
     "text": [
      "Fitting 3 folds for each of 12 candidates, totalling 36 fits\n"
     ]
    },
    {
     "name": "stderr",
     "output_type": "stream",
     "text": [
      "[Parallel(n_jobs=1)]: Done  36 out of  36 | elapsed:    5.3s finished\n"
     ]
    },
    {
     "name": "stdout",
     "output_type": "stream",
     "text": [
      "BEST SCORE:   -0.0016279789414955373\n",
      "BEST PARAMS:   {'fit_intercept': False, 'n_jobs': 1, 'normalize': True}\n"
     ]
    }
   ],
   "source": [
    "model1 = LinearRegression()\n",
    "parameters = {'fit_intercept':[True,False],'n_jobs':[1,2,3],'normalize':[True,False]}\n",
    "grid = GridSearchCV(estimator = model1,param_grid= parameters,scoring = 'neg_mean_squared_error',verbose = 1)     \n",
    "grid_results = grid.fit(X_train,Y_train)\n",
    "print('BEST SCORE:  ',grid_results.best_score_)\n",
    "print('BEST PARAMS:  ',grid_results.best_params_)"
   ]
  },
  {
   "cell_type": "code",
   "execution_count": null,
   "metadata": {},
   "outputs": [],
   "source": []
  },
  {
   "cell_type": "code",
   "execution_count": 171,
   "metadata": {},
   "outputs": [
    {
     "data": {
      "text/plain": [
       "LinearRegression(copy_X=True, fit_intercept=True, n_jobs=None, normalize=False)"
      ]
     },
     "execution_count": 171,
     "metadata": {},
     "output_type": "execute_result"
    }
   ],
   "source": [
    "from sklearn.linear_model import LinearRegression\n",
    "base_model = LinearRegression()\n",
    "base_model.fit(X_train, Y_train)"
   ]
  },
  {
   "cell_type": "code",
   "execution_count": 172,
   "metadata": {},
   "outputs": [],
   "source": [
    "y_predict = base_model.predict(X_val1)"
   ]
  },
  {
   "cell_type": "code",
   "execution_count": 174,
   "metadata": {},
   "outputs": [
    {
     "data": {
      "text/plain": [
       "0.007572280241102788"
      ]
     },
     "execution_count": 174,
     "metadata": {},
     "output_type": "execute_result"
    }
   ],
   "source": [
    "from sklearn.metrics import mean_squared_error\n",
    "\n",
    "mean_squared_error(Y_val1, y_predict)"
   ]
  },
  {
   "cell_type": "code",
   "execution_count": null,
   "metadata": {},
   "outputs": [],
   "source": [
    "#the best accuracy"
   ]
  },
  {
   "cell_type": "code",
   "execution_count": null,
   "metadata": {},
   "outputs": [],
   "source": []
  },
  {
   "cell_type": "code",
   "execution_count": null,
   "metadata": {},
   "outputs": [],
   "source": []
  },
  {
   "cell_type": "code",
   "execution_count": null,
   "metadata": {},
   "outputs": [],
   "source": []
  },
  {
   "cell_type": "code",
   "execution_count": null,
   "metadata": {},
   "outputs": [],
   "source": []
  },
  {
   "cell_type": "code",
   "execution_count": null,
   "metadata": {},
   "outputs": [],
   "source": []
  },
  {
   "cell_type": "code",
   "execution_count": null,
   "metadata": {},
   "outputs": [],
   "source": []
  },
  {
   "cell_type": "code",
   "execution_count": null,
   "metadata": {},
   "outputs": [],
   "source": []
  },
  {
   "cell_type": "code",
   "execution_count": null,
   "metadata": {},
   "outputs": [],
   "source": []
  },
  {
   "cell_type": "code",
   "execution_count": null,
   "metadata": {},
   "outputs": [],
   "source": []
  },
  {
   "cell_type": "code",
   "execution_count": null,
   "metadata": {},
   "outputs": [],
   "source": []
  },
  {
   "cell_type": "code",
   "execution_count": null,
   "metadata": {},
   "outputs": [],
   "source": []
  },
  {
   "cell_type": "code",
   "execution_count": null,
   "metadata": {},
   "outputs": [],
   "source": []
  },
  {
   "cell_type": "code",
   "execution_count": null,
   "metadata": {},
   "outputs": [],
   "source": []
  },
  {
   "cell_type": "code",
   "execution_count": null,
   "metadata": {},
   "outputs": [],
   "source": []
  },
  {
   "cell_type": "code",
   "execution_count": null,
   "metadata": {},
   "outputs": [],
   "source": []
  },
  {
   "cell_type": "code",
   "execution_count": null,
   "metadata": {},
   "outputs": [],
   "source": []
  },
  {
   "cell_type": "code",
   "execution_count": null,
   "metadata": {},
   "outputs": [],
   "source": []
  },
  {
   "cell_type": "code",
   "execution_count": null,
   "metadata": {},
   "outputs": [],
   "source": []
  },
  {
   "cell_type": "code",
   "execution_count": null,
   "metadata": {},
   "outputs": [],
   "source": []
  },
  {
   "cell_type": "code",
   "execution_count": null,
   "metadata": {},
   "outputs": [],
   "source": []
  },
  {
   "cell_type": "code",
   "execution_count": null,
   "metadata": {},
   "outputs": [],
   "source": []
  },
  {
   "cell_type": "code",
   "execution_count": null,
   "metadata": {},
   "outputs": [],
   "source": []
  },
  {
   "cell_type": "code",
   "execution_count": null,
   "metadata": {},
   "outputs": [],
   "source": []
  },
  {
   "cell_type": "code",
   "execution_count": null,
   "metadata": {},
   "outputs": [],
   "source": []
  },
  {
   "cell_type": "code",
   "execution_count": null,
   "metadata": {},
   "outputs": [],
   "source": []
  },
  {
   "cell_type": "code",
   "execution_count": null,
   "metadata": {},
   "outputs": [],
   "source": []
  },
  {
   "cell_type": "code",
   "execution_count": null,
   "metadata": {},
   "outputs": [],
   "source": []
  },
  {
   "cell_type": "code",
   "execution_count": null,
   "metadata": {},
   "outputs": [],
   "source": []
  },
  {
   "cell_type": "code",
   "execution_count": null,
   "metadata": {},
   "outputs": [],
   "source": []
  },
  {
   "cell_type": "code",
   "execution_count": null,
   "metadata": {},
   "outputs": [],
   "source": []
  },
  {
   "cell_type": "code",
   "execution_count": null,
   "metadata": {},
   "outputs": [],
   "source": []
  },
  {
   "cell_type": "code",
   "execution_count": null,
   "metadata": {},
   "outputs": [],
   "source": []
  },
  {
   "cell_type": "code",
   "execution_count": null,
   "metadata": {},
   "outputs": [],
   "source": []
  },
  {
   "cell_type": "code",
   "execution_count": null,
   "metadata": {},
   "outputs": [],
   "source": []
  },
  {
   "cell_type": "code",
   "execution_count": null,
   "metadata": {},
   "outputs": [],
   "source": []
  },
  {
   "cell_type": "code",
   "execution_count": null,
   "metadata": {},
   "outputs": [],
   "source": []
  },
  {
   "cell_type": "code",
   "execution_count": null,
   "metadata": {},
   "outputs": [],
   "source": []
  },
  {
   "cell_type": "code",
   "execution_count": null,
   "metadata": {},
   "outputs": [],
   "source": []
  },
  {
   "cell_type": "code",
   "execution_count": null,
   "metadata": {},
   "outputs": [],
   "source": []
  },
  {
   "cell_type": "code",
   "execution_count": null,
   "metadata": {},
   "outputs": [],
   "source": []
  },
  {
   "cell_type": "code",
   "execution_count": null,
   "metadata": {},
   "outputs": [],
   "source": []
  },
  {
   "cell_type": "code",
   "execution_count": null,
   "metadata": {},
   "outputs": [],
   "source": []
  },
  {
   "cell_type": "code",
   "execution_count": null,
   "metadata": {},
   "outputs": [],
   "source": []
  },
  {
   "cell_type": "code",
   "execution_count": null,
   "metadata": {},
   "outputs": [],
   "source": []
  },
  {
   "cell_type": "code",
   "execution_count": null,
   "metadata": {},
   "outputs": [],
   "source": []
  },
  {
   "cell_type": "code",
   "execution_count": null,
   "metadata": {},
   "outputs": [],
   "source": []
  },
  {
   "cell_type": "code",
   "execution_count": null,
   "metadata": {},
   "outputs": [],
   "source": []
  },
  {
   "cell_type": "code",
   "execution_count": null,
   "metadata": {},
   "outputs": [],
   "source": []
  },
  {
   "cell_type": "code",
   "execution_count": null,
   "metadata": {},
   "outputs": [],
   "source": []
  },
  {
   "cell_type": "code",
   "execution_count": null,
   "metadata": {},
   "outputs": [],
   "source": []
  },
  {
   "cell_type": "code",
   "execution_count": null,
   "metadata": {},
   "outputs": [],
   "source": []
  },
  {
   "cell_type": "code",
   "execution_count": null,
   "metadata": {},
   "outputs": [],
   "source": []
  },
  {
   "cell_type": "code",
   "execution_count": null,
   "metadata": {},
   "outputs": [],
   "source": []
  },
  {
   "cell_type": "code",
   "execution_count": null,
   "metadata": {},
   "outputs": [],
   "source": []
  },
  {
   "cell_type": "code",
   "execution_count": null,
   "metadata": {},
   "outputs": [],
   "source": []
  },
  {
   "cell_type": "code",
   "execution_count": null,
   "metadata": {},
   "outputs": [],
   "source": []
  },
  {
   "cell_type": "code",
   "execution_count": null,
   "metadata": {},
   "outputs": [],
   "source": []
  },
  {
   "cell_type": "code",
   "execution_count": null,
   "metadata": {},
   "outputs": [],
   "source": []
  },
  {
   "cell_type": "code",
   "execution_count": null,
   "metadata": {},
   "outputs": [],
   "source": []
  },
  {
   "cell_type": "code",
   "execution_count": null,
   "metadata": {},
   "outputs": [],
   "source": []
  },
  {
   "cell_type": "code",
   "execution_count": null,
   "metadata": {},
   "outputs": [],
   "source": []
  },
  {
   "cell_type": "code",
   "execution_count": null,
   "metadata": {},
   "outputs": [],
   "source": []
  }
 ],
 "metadata": {
  "kernelspec": {
   "display_name": "Python 3",
   "language": "python",
   "name": "python3"
  },
  "language_info": {
   "codemirror_mode": {
    "name": "ipython",
    "version": 3
   },
   "file_extension": ".py",
   "mimetype": "text/x-python",
   "name": "python",
   "nbconvert_exporter": "python",
   "pygments_lexer": "ipython3",
   "version": "3.7.3"
  }
 },
 "nbformat": 4,
 "nbformat_minor": 2
}
